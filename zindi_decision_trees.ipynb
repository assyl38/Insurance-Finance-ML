{
 "cells": [
  {
   "cell_type": "markdown",
   "metadata": {},
   "source": [
    "#Credits\n",
    "https://towardsdatascience.com/understanding-decision-tree-classification-with-scikit-learn-2ddf272731bd\n",
    "\n",
    "USING CROSS VALIDATION\n",
    "https://towardsdatascience.com/how-to-find-decision-tree-depth-via-cross-validation-2bf143f0f3d6\n",
    "    "
   ]
  },
  {
   "cell_type": "code",
   "execution_count": 1,
   "metadata": {},
   "outputs": [],
   "source": [
    "import warnings\n",
    "warnings.filterwarnings('ignore')"
   ]
  },
  {
   "cell_type": "code",
   "execution_count": 2,
   "metadata": {},
   "outputs": [],
   "source": [
    "#Importing dependencies\n",
    "import pandas as pd\n",
    "import numpy as np\n",
    "import matplotlib.pyplot as plt\n",
    "import seaborn as sns\n",
    "#The train test split from sklearn\n",
    "from sklearn.model_selection import train_test_split\n",
    "#Importing the decision Tree classifier\n",
    "from sklearn.tree import DecisionTreeClassifier\n",
    "\n",
    "from sklearn.model_selection import cross_val_score"
   ]
  },
  {
   "cell_type": "code",
   "execution_count": 3,
   "metadata": {},
   "outputs": [],
   "source": [
    "#reading the dataset\n",
    "file = \"/Users/pw/Desktop/StatisticalAnalysis/DecisionTrees/Zindi Project/train_data.csv\"\n",
    "columns = ['Customer_id','year_of_observation','insured_period','residential','building_painted',\n",
    "          'building_fenced','garden','settlement','building_dimension',\n",
    "          'building_type','date_of_occupancy','number_of_windows','geo_code','claim']\n",
    "\n",
    "df = pd.read_csv(file, index_col= False)"
   ]
  },
  {
   "cell_type": "code",
   "execution_count": 4,
   "metadata": {},
   "outputs": [
    {
     "data": {
      "text/html": [
       "<div>\n",
       "<style scoped>\n",
       "    .dataframe tbody tr th:only-of-type {\n",
       "        vertical-align: middle;\n",
       "    }\n",
       "\n",
       "    .dataframe tbody tr th {\n",
       "        vertical-align: top;\n",
       "    }\n",
       "\n",
       "    .dataframe thead th {\n",
       "        text-align: right;\n",
       "    }\n",
       "</style>\n",
       "<table border=\"1\" class=\"dataframe\">\n",
       "  <thead>\n",
       "    <tr style=\"text-align: right;\">\n",
       "      <th></th>\n",
       "      <th>Customer Id</th>\n",
       "      <th>YearOfObservation</th>\n",
       "      <th>Insured_Period</th>\n",
       "      <th>Residential</th>\n",
       "      <th>Building_Painted</th>\n",
       "      <th>Building_Fenced</th>\n",
       "      <th>Garden</th>\n",
       "      <th>Settlement</th>\n",
       "      <th>Building Dimension</th>\n",
       "      <th>Building_Type</th>\n",
       "      <th>Date_of_Occupancy</th>\n",
       "      <th>NumberOfWindows</th>\n",
       "      <th>Geo_Code</th>\n",
       "      <th>Claim</th>\n",
       "    </tr>\n",
       "  </thead>\n",
       "  <tbody>\n",
       "    <tr>\n",
       "      <th>0</th>\n",
       "      <td>H14663</td>\n",
       "      <td>2013</td>\n",
       "      <td>1.0</td>\n",
       "      <td>0</td>\n",
       "      <td>N</td>\n",
       "      <td>V</td>\n",
       "      <td>V</td>\n",
       "      <td>U</td>\n",
       "      <td>290.0</td>\n",
       "      <td>1</td>\n",
       "      <td>1960.0</td>\n",
       "      <td>.</td>\n",
       "      <td>1053</td>\n",
       "      <td>0</td>\n",
       "    </tr>\n",
       "    <tr>\n",
       "      <th>1</th>\n",
       "      <td>H2037</td>\n",
       "      <td>2015</td>\n",
       "      <td>1.0</td>\n",
       "      <td>0</td>\n",
       "      <td>V</td>\n",
       "      <td>N</td>\n",
       "      <td>O</td>\n",
       "      <td>R</td>\n",
       "      <td>490.0</td>\n",
       "      <td>1</td>\n",
       "      <td>1850.0</td>\n",
       "      <td>4</td>\n",
       "      <td>1053</td>\n",
       "      <td>0</td>\n",
       "    </tr>\n",
       "    <tr>\n",
       "      <th>2</th>\n",
       "      <td>H3802</td>\n",
       "      <td>2014</td>\n",
       "      <td>1.0</td>\n",
       "      <td>0</td>\n",
       "      <td>N</td>\n",
       "      <td>V</td>\n",
       "      <td>V</td>\n",
       "      <td>U</td>\n",
       "      <td>595.0</td>\n",
       "      <td>1</td>\n",
       "      <td>1960.0</td>\n",
       "      <td>.</td>\n",
       "      <td>1053</td>\n",
       "      <td>0</td>\n",
       "    </tr>\n",
       "    <tr>\n",
       "      <th>3</th>\n",
       "      <td>H3834</td>\n",
       "      <td>2013</td>\n",
       "      <td>1.0</td>\n",
       "      <td>0</td>\n",
       "      <td>V</td>\n",
       "      <td>V</td>\n",
       "      <td>V</td>\n",
       "      <td>U</td>\n",
       "      <td>2840.0</td>\n",
       "      <td>1</td>\n",
       "      <td>1960.0</td>\n",
       "      <td>.</td>\n",
       "      <td>1053</td>\n",
       "      <td>0</td>\n",
       "    </tr>\n",
       "    <tr>\n",
       "      <th>4</th>\n",
       "      <td>H5053</td>\n",
       "      <td>2014</td>\n",
       "      <td>1.0</td>\n",
       "      <td>0</td>\n",
       "      <td>V</td>\n",
       "      <td>N</td>\n",
       "      <td>O</td>\n",
       "      <td>R</td>\n",
       "      <td>680.0</td>\n",
       "      <td>1</td>\n",
       "      <td>1800.0</td>\n",
       "      <td>3</td>\n",
       "      <td>1053</td>\n",
       "      <td>0</td>\n",
       "    </tr>\n",
       "  </tbody>\n",
       "</table>\n",
       "</div>"
      ],
      "text/plain": [
       "  Customer Id  YearOfObservation  Insured_Period  Residential  \\\n",
       "0      H14663               2013             1.0            0   \n",
       "1       H2037               2015             1.0            0   \n",
       "2       H3802               2014             1.0            0   \n",
       "3       H3834               2013             1.0            0   \n",
       "4       H5053               2014             1.0            0   \n",
       "\n",
       "  Building_Painted Building_Fenced Garden Settlement  Building Dimension  \\\n",
       "0                N               V      V          U               290.0   \n",
       "1                V               N      O          R               490.0   \n",
       "2                N               V      V          U               595.0   \n",
       "3                V               V      V          U              2840.0   \n",
       "4                V               N      O          R               680.0   \n",
       "\n",
       "   Building_Type  Date_of_Occupancy NumberOfWindows Geo_Code  Claim  \n",
       "0              1             1960.0               .     1053      0  \n",
       "1              1             1850.0               4     1053      0  \n",
       "2              1             1960.0               .     1053      0  \n",
       "3              1             1960.0               .     1053      0  \n",
       "4              1             1800.0               3     1053      0  "
      ]
     },
     "execution_count": 4,
     "metadata": {},
     "output_type": "execute_result"
    }
   ],
   "source": [
    "df.head(5)"
   ]
  },
  {
   "cell_type": "code",
   "execution_count": 5,
   "metadata": {},
   "outputs": [
    {
     "data": {
      "text/plain": [
       "Customer Id            object\n",
       "YearOfObservation       int64\n",
       "Insured_Period        float64\n",
       "Residential             int64\n",
       "Building_Painted       object\n",
       "Building_Fenced        object\n",
       "Garden                 object\n",
       "Settlement             object\n",
       "Building Dimension    float64\n",
       "Building_Type           int64\n",
       "Date_of_Occupancy     float64\n",
       "NumberOfWindows        object\n",
       "Geo_Code               object\n",
       "Claim                   int64\n",
       "dtype: object"
      ]
     },
     "execution_count": 5,
     "metadata": {},
     "output_type": "execute_result"
    }
   ],
   "source": [
    "df.dtypes"
   ]
  },
  {
   "cell_type": "markdown",
   "metadata": {},
   "source": [
    "# Missing Values"
   ]
  },
  {
   "cell_type": "code",
   "execution_count": 6,
   "metadata": {},
   "outputs": [
    {
     "data": {
      "text/plain": [
       "Customer Id             0\n",
       "YearOfObservation       0\n",
       "Insured_Period          0\n",
       "Residential             0\n",
       "Building_Painted        0\n",
       "Building_Fenced         0\n",
       "Garden                  7\n",
       "Settlement              0\n",
       "Building Dimension    106\n",
       "Building_Type           0\n",
       "Date_of_Occupancy     508\n",
       "NumberOfWindows         0\n",
       "Geo_Code              102\n",
       "Claim                   0\n",
       "dtype: int64"
      ]
     },
     "execution_count": 6,
     "metadata": {},
     "output_type": "execute_result"
    }
   ],
   "source": [
    "df.isnull().sum()"
   ]
  },
  {
   "cell_type": "code",
   "execution_count": 7,
   "metadata": {},
   "outputs": [],
   "source": [
    "#Separating the dataset as per the two types of claims\n",
    "df_0 = df[df['Claim']==0]\n",
    "df_1 = df[df['Claim']==1]"
   ]
  },
  {
   "cell_type": "code",
   "execution_count": 8,
   "metadata": {},
   "outputs": [
    {
     "data": {
      "image/png": "[encoded data removed]",
      "text/plain": [
       "<Figure size 864x504 with 1 Axes>"
      ]
     },
     "metadata": {
      "needs_background": "light"
     },
     "output_type": "display_data"
    }
   ],
   "source": [
    "fig, ax = plt.subplots(figsize=(12,7))\n",
    "\n",
    "#Add major gridlines in the y-axis\n",
    "ax.grid(color='grey', axis='y', linestyle='-',\n",
    "        linewidth=0.25, alpha=0.5)\n",
    "\n",
    "#Set the plot title\n",
    "\n",
    "ax.set_title('Building Dimension distribution')\n",
    "\n",
    "#Define the dataset \n",
    "buildingDimension = [df_0['Building Dimension'], df_1['Building Dimension']]\n",
    "\n",
    "ax.hist(buildingDimension)\n",
    "\n",
    "plt.show()"
   ]
  },
  {
   "cell_type": "code",
   "execution_count": 9,
   "metadata": {},
   "outputs": [],
   "source": [
    "#Replacing missing value for building dimension using median\n",
    "df['Building Dimension'].fillna(df['Building Dimension'].median, inplace=True)"
   ]
  },
  {
   "cell_type": "code",
   "execution_count": 10,
   "metadata": {},
   "outputs": [
    {
     "data": {
      "image/png": "[encoded data removed]",
      "text/plain": [
       "<Figure size 864x504 with 1 Axes>"
      ]
     },
     "metadata": {
      "needs_background": "light"
     },
     "output_type": "display_data"
    }
   ],
   "source": [
    "#Distribution for date of occupancy\n",
    "fig, ax = plt.subplots(figsize=(12,7))\n",
    "\n",
    "#Add major gridlines in the y-axis\n",
    "ax.grid(color='grey', axis='y', linestyle='-',\n",
    "        linewidth=0.25, alpha=0.5)\n",
    "\n",
    "#Set the plot title\n",
    "\n",
    "ax.set_title('Occupancy Date distribution')\n",
    "\n",
    "#Define the dataset \n",
    "occupancyDate = [df_0['Date_of_Occupancy'], df_1['Date_of_Occupancy']]\n",
    "\n",
    "ax.hist(occupancyDate)\n",
    "\n",
    "plt.show()"
   ]
  },
  {
   "cell_type": "code",
   "execution_count": 11,
   "metadata": {},
   "outputs": [],
   "source": [
    "#Replacing missing value for date of occupancy using median\n",
    "df['Date_of_Occupancy'].fillna(df['Date_of_Occupancy'].median, inplace=True)"
   ]
  },
  {
   "cell_type": "code",
   "execution_count": 12,
   "metadata": {},
   "outputs": [
    {
     "data": {
      "text/plain": [
       "Customer Id            object\n",
       "YearOfObservation       int64\n",
       "Insured_Period        float64\n",
       "Residential             int64\n",
       "Building_Painted       object\n",
       "Building_Fenced        object\n",
       "Garden                 object\n",
       "Settlement             object\n",
       "Building Dimension     object\n",
       "Building_Type           int64\n",
       "Date_of_Occupancy      object\n",
       "NumberOfWindows        object\n",
       "Geo_Code               object\n",
       "Claim                   int64\n",
       "dtype: object"
      ]
     },
     "execution_count": 12,
     "metadata": {},
     "output_type": "execute_result"
    }
   ],
   "source": [
    "df.dtypes"
   ]
  },
  {
   "cell_type": "code",
   "execution_count": 13,
   "metadata": {},
   "outputs": [
    {
     "name": "stdout",
     "output_type": "stream",
     "text": [
      "The number of categories in: \n",
      "Building_Painted=2\n",
      "Building_Fenced=2\n",
      "Garden=3\n",
      "Settlement=2\n",
      "NumberOfWindows=11\n",
      "Geo_Code=1308\n"
     ]
    }
   ],
   "source": [
    "#Getting the number of categories in categorical variables\n",
    "print(\"The number of categories in: \")\n",
    "\n",
    "\n",
    "for colName in df[['Building_Painted','Building_Fenced','Garden',\n",
    "                   'Settlement','NumberOfWindows','Geo_Code']]:\n",
    "    print(\"{}={}\".format(colName,\n",
    "                        len(df[colName].unique())))"
   ]
  },
  {
   "cell_type": "code",
   "execution_count": 14,
   "metadata": {},
   "outputs": [],
   "source": [
    "#Replacing all missing values in geo_code with a zero\n",
    "df['Geo_Code'] = df['Geo_Code'].fillna(0)"
   ]
  },
  {
   "cell_type": "code",
   "execution_count": 15,
   "metadata": {},
   "outputs": [],
   "source": [
    "#Replacing missing values with the mode\n",
    "def mode_replace(dataframe, colName):\n",
    "    #Get the most frequent category\n",
    "    mode_cat = dataframe[colName].mode()[0]\n",
    "    \n",
    "    #Replace the missing values with the most occurring category\n",
    "    dataframe[colName + \"_Imputed\"] = dataframe[colName]\n",
    "    \n",
    "    dataframe[colName + \"_Imputed\"].fillna(mode_cat, inplace=True)\n",
    "    "
   ]
  },
  {
   "cell_type": "code",
   "execution_count": 16,
   "metadata": {},
   "outputs": [],
   "source": [
    "#Calling the imputation function \n",
    "mode_replace(df, 'Garden')"
   ]
  },
  {
   "cell_type": "code",
   "execution_count": 17,
   "metadata": {},
   "outputs": [
    {
     "data": {
      "text/html": [
       "<div>\n",
       "<style scoped>\n",
       "    .dataframe tbody tr th:only-of-type {\n",
       "        vertical-align: middle;\n",
       "    }\n",
       "\n",
       "    .dataframe tbody tr th {\n",
       "        vertical-align: top;\n",
       "    }\n",
       "\n",
       "    .dataframe thead th {\n",
       "        text-align: right;\n",
       "    }\n",
       "</style>\n",
       "<table border=\"1\" class=\"dataframe\">\n",
       "  <thead>\n",
       "    <tr style=\"text-align: right;\">\n",
       "      <th></th>\n",
       "      <th>Customer Id</th>\n",
       "      <th>YearOfObservation</th>\n",
       "      <th>Insured_Period</th>\n",
       "      <th>Residential</th>\n",
       "      <th>Building_Painted</th>\n",
       "      <th>Building_Fenced</th>\n",
       "      <th>Garden</th>\n",
       "      <th>Settlement</th>\n",
       "      <th>Building Dimension</th>\n",
       "      <th>Building_Type</th>\n",
       "      <th>Date_of_Occupancy</th>\n",
       "      <th>NumberOfWindows</th>\n",
       "      <th>Geo_Code</th>\n",
       "      <th>Claim</th>\n",
       "      <th>Garden_Imputed</th>\n",
       "    </tr>\n",
       "  </thead>\n",
       "  <tbody>\n",
       "    <tr>\n",
       "      <th>0</th>\n",
       "      <td>H14663</td>\n",
       "      <td>2013</td>\n",
       "      <td>1.0</td>\n",
       "      <td>0</td>\n",
       "      <td>N</td>\n",
       "      <td>V</td>\n",
       "      <td>V</td>\n",
       "      <td>U</td>\n",
       "      <td>290</td>\n",
       "      <td>1</td>\n",
       "      <td>1960</td>\n",
       "      <td>.</td>\n",
       "      <td>1053</td>\n",
       "      <td>0</td>\n",
       "      <td>V</td>\n",
       "    </tr>\n",
       "    <tr>\n",
       "      <th>1</th>\n",
       "      <td>H2037</td>\n",
       "      <td>2015</td>\n",
       "      <td>1.0</td>\n",
       "      <td>0</td>\n",
       "      <td>V</td>\n",
       "      <td>N</td>\n",
       "      <td>O</td>\n",
       "      <td>R</td>\n",
       "      <td>490</td>\n",
       "      <td>1</td>\n",
       "      <td>1850</td>\n",
       "      <td>4</td>\n",
       "      <td>1053</td>\n",
       "      <td>0</td>\n",
       "      <td>O</td>\n",
       "    </tr>\n",
       "    <tr>\n",
       "      <th>2</th>\n",
       "      <td>H3802</td>\n",
       "      <td>2014</td>\n",
       "      <td>1.0</td>\n",
       "      <td>0</td>\n",
       "      <td>N</td>\n",
       "      <td>V</td>\n",
       "      <td>V</td>\n",
       "      <td>U</td>\n",
       "      <td>595</td>\n",
       "      <td>1</td>\n",
       "      <td>1960</td>\n",
       "      <td>.</td>\n",
       "      <td>1053</td>\n",
       "      <td>0</td>\n",
       "      <td>V</td>\n",
       "    </tr>\n",
       "    <tr>\n",
       "      <th>3</th>\n",
       "      <td>H3834</td>\n",
       "      <td>2013</td>\n",
       "      <td>1.0</td>\n",
       "      <td>0</td>\n",
       "      <td>V</td>\n",
       "      <td>V</td>\n",
       "      <td>V</td>\n",
       "      <td>U</td>\n",
       "      <td>2840</td>\n",
       "      <td>1</td>\n",
       "      <td>1960</td>\n",
       "      <td>.</td>\n",
       "      <td>1053</td>\n",
       "      <td>0</td>\n",
       "      <td>V</td>\n",
       "    </tr>\n",
       "    <tr>\n",
       "      <th>4</th>\n",
       "      <td>H5053</td>\n",
       "      <td>2014</td>\n",
       "      <td>1.0</td>\n",
       "      <td>0</td>\n",
       "      <td>V</td>\n",
       "      <td>N</td>\n",
       "      <td>O</td>\n",
       "      <td>R</td>\n",
       "      <td>680</td>\n",
       "      <td>1</td>\n",
       "      <td>1800</td>\n",
       "      <td>3</td>\n",
       "      <td>1053</td>\n",
       "      <td>0</td>\n",
       "      <td>O</td>\n",
       "    </tr>\n",
       "  </tbody>\n",
       "</table>\n",
       "</div>"
      ],
      "text/plain": [
       "  Customer Id  YearOfObservation  Insured_Period  Residential  \\\n",
       "0      H14663               2013             1.0            0   \n",
       "1       H2037               2015             1.0            0   \n",
       "2       H3802               2014             1.0            0   \n",
       "3       H3834               2013             1.0            0   \n",
       "4       H5053               2014             1.0            0   \n",
       "\n",
       "  Building_Painted Building_Fenced Garden Settlement Building Dimension  \\\n",
       "0                N               V      V          U                290   \n",
       "1                V               N      O          R                490   \n",
       "2                N               V      V          U                595   \n",
       "3                V               V      V          U               2840   \n",
       "4                V               N      O          R                680   \n",
       "\n",
       "   Building_Type Date_of_Occupancy NumberOfWindows Geo_Code  Claim  \\\n",
       "0              1              1960               .     1053      0   \n",
       "1              1              1850               4     1053      0   \n",
       "2              1              1960               .     1053      0   \n",
       "3              1              1960               .     1053      0   \n",
       "4              1              1800               3     1053      0   \n",
       "\n",
       "  Garden_Imputed  \n",
       "0              V  \n",
       "1              O  \n",
       "2              V  \n",
       "3              V  \n",
       "4              O  "
      ]
     },
     "execution_count": 17,
     "metadata": {},
     "output_type": "execute_result"
    }
   ],
   "source": [
    "df.head(5)"
   ]
  },
  {
   "cell_type": "code",
   "execution_count": 18,
   "metadata": {},
   "outputs": [],
   "source": [
    "df['Garden'] = df['Garden_Imputed']"
   ]
  },
  {
   "cell_type": "code",
   "execution_count": 19,
   "metadata": {},
   "outputs": [],
   "source": [
    "df = df.drop(['Garden_Imputed'], axis = 1)"
   ]
  },
  {
   "cell_type": "markdown",
   "metadata": {},
   "source": [
    "# Exploratory Data Analysis "
   ]
  },
  {
   "cell_type": "code",
   "execution_count": 20,
   "metadata": {},
   "outputs": [
    {
     "data": {
      "text/html": [
       "<div>\n",
       "<style scoped>\n",
       "    .dataframe tbody tr th:only-of-type {\n",
       "        vertical-align: middle;\n",
       "    }\n",
       "\n",
       "    .dataframe tbody tr th {\n",
       "        vertical-align: top;\n",
       "    }\n",
       "\n",
       "    .dataframe thead th {\n",
       "        text-align: right;\n",
       "    }\n",
       "</style>\n",
       "<table border=\"1\" class=\"dataframe\">\n",
       "  <thead>\n",
       "    <tr style=\"text-align: right;\">\n",
       "      <th></th>\n",
       "      <th>YearOfObservation</th>\n",
       "      <th>Insured_Period</th>\n",
       "      <th>Residential</th>\n",
       "      <th>Building_Type</th>\n",
       "      <th>Claim</th>\n",
       "    </tr>\n",
       "  </thead>\n",
       "  <tbody>\n",
       "    <tr>\n",
       "      <th>count</th>\n",
       "      <td>7160.000000</td>\n",
       "      <td>7160.000000</td>\n",
       "      <td>7160.000000</td>\n",
       "      <td>7160.000000</td>\n",
       "      <td>7160.000000</td>\n",
       "    </tr>\n",
       "    <tr>\n",
       "      <th>mean</th>\n",
       "      <td>2013.669553</td>\n",
       "      <td>0.909758</td>\n",
       "      <td>0.305447</td>\n",
       "      <td>2.186034</td>\n",
       "      <td>0.228212</td>\n",
       "    </tr>\n",
       "    <tr>\n",
       "      <th>std</th>\n",
       "      <td>1.383769</td>\n",
       "      <td>0.239756</td>\n",
       "      <td>0.460629</td>\n",
       "      <td>0.940632</td>\n",
       "      <td>0.419709</td>\n",
       "    </tr>\n",
       "    <tr>\n",
       "      <th>min</th>\n",
       "      <td>2012.000000</td>\n",
       "      <td>0.000000</td>\n",
       "      <td>0.000000</td>\n",
       "      <td>1.000000</td>\n",
       "      <td>0.000000</td>\n",
       "    </tr>\n",
       "    <tr>\n",
       "      <th>25%</th>\n",
       "      <td>2012.000000</td>\n",
       "      <td>0.997268</td>\n",
       "      <td>0.000000</td>\n",
       "      <td>2.000000</td>\n",
       "      <td>0.000000</td>\n",
       "    </tr>\n",
       "    <tr>\n",
       "      <th>50%</th>\n",
       "      <td>2013.000000</td>\n",
       "      <td>1.000000</td>\n",
       "      <td>0.000000</td>\n",
       "      <td>2.000000</td>\n",
       "      <td>0.000000</td>\n",
       "    </tr>\n",
       "    <tr>\n",
       "      <th>75%</th>\n",
       "      <td>2015.000000</td>\n",
       "      <td>1.000000</td>\n",
       "      <td>1.000000</td>\n",
       "      <td>3.000000</td>\n",
       "      <td>0.000000</td>\n",
       "    </tr>\n",
       "    <tr>\n",
       "      <th>max</th>\n",
       "      <td>2016.000000</td>\n",
       "      <td>1.000000</td>\n",
       "      <td>1.000000</td>\n",
       "      <td>4.000000</td>\n",
       "      <td>1.000000</td>\n",
       "    </tr>\n",
       "  </tbody>\n",
       "</table>\n",
       "</div>"
      ],
      "text/plain": [
       "       YearOfObservation  Insured_Period  Residential  Building_Type  \\\n",
       "count        7160.000000     7160.000000  7160.000000    7160.000000   \n",
       "mean         2013.669553        0.909758     0.305447       2.186034   \n",
       "std             1.383769        0.239756     0.460629       0.940632   \n",
       "min          2012.000000        0.000000     0.000000       1.000000   \n",
       "25%          2012.000000        0.997268     0.000000       2.000000   \n",
       "50%          2013.000000        1.000000     0.000000       2.000000   \n",
       "75%          2015.000000        1.000000     1.000000       3.000000   \n",
       "max          2016.000000        1.000000     1.000000       4.000000   \n",
       "\n",
       "             Claim  \n",
       "count  7160.000000  \n",
       "mean      0.228212  \n",
       "std       0.419709  \n",
       "min       0.000000  \n",
       "25%       0.000000  \n",
       "50%       0.000000  \n",
       "75%       0.000000  \n",
       "max       1.000000  "
      ]
     },
     "execution_count": 20,
     "metadata": {},
     "output_type": "execute_result"
    }
   ],
   "source": [
    "#Descriptive analysis\n",
    "df.iloc[:,[1,2,3,9,10,13]].describe()"
   ]
  },
  {
   "cell_type": "code",
   "execution_count": null,
   "metadata": {},
   "outputs": [],
   "source": []
  },
  {
   "cell_type": "code",
   "execution_count": 21,
   "metadata": {},
   "outputs": [],
   "source": [
    "#Visualization of categorical variables\n",
    "def box_plot(dataframe, colName):\n",
    "    \n",
    "    fig, ax = plt.subplots(figsize=(12,7))\n",
    "\n",
    "    #Add major gridlines in the y-axis\n",
    "    ax.grid(color='grey', axis='y', linestyle='-',\n",
    "        linewidth=0.25, alpha=0.5)\n",
    "    ax.set_title(colName)\n",
    "    ax.hist(dataframe[colName])\n",
    "    plt.show()"
   ]
  },
  {
   "cell_type": "code",
   "execution_count": 22,
   "metadata": {},
   "outputs": [
    {
     "data": {
      "image/png": "[encoded data removed]",
      "text/plain": [
       "<Figure size 864x504 with 1 Axes>"
      ]
     },
     "metadata": {
      "needs_background": "light"
     },
     "output_type": "display_data"
    }
   ],
   "source": [
    "#Distribution of the target variable\n",
    "col = 'Claim'\n",
    "box_plot(df,col)\n",
    "#Evidence of a highly imbalanced target variable"
   ]
  },
  {
   "cell_type": "code",
   "execution_count": 23,
   "metadata": {},
   "outputs": [
    {
     "data": {
      "image/png": "[encoded data removed]",
      "text/plain": [
       "<Figure size 864x504 with 1 Axes>"
      ]
     },
     "metadata": {
      "needs_background": "light"
     },
     "output_type": "display_data"
    },
    {
     "data": {
      "image/png": "[encoded data removed]",
      "text/plain": [
       "<Figure size 864x504 with 1 Axes>"
      ]
     },
     "metadata": {
      "needs_background": "light"
     },
     "output_type": "display_data"
    },
    {
     "data": {
      "image/png": "[encoded data removed]",
      "text/plain": [
       "<Figure size 864x504 with 1 Axes>"
      ]
     },
     "metadata": {
      "needs_background": "light"
     },
     "output_type": "display_data"
    },
    {
     "data": {
      "image/png": "[encoded data removed]",
      "text/plain": [
       "<Figure size 864x504 with 1 Axes>"
      ]
     },
     "metadata": {
      "needs_background": "light"
     },
     "output_type": "display_data"
    },
    {
     "data": {
      "image/png": "[encoded data removed]",
      "text/plain": [
       "<Figure size 864x504 with 1 Axes>"
      ]
     },
     "metadata": {
      "needs_background": "light"
     },
     "output_type": "display_data"
    }
   ],
   "source": [
    "for column in df[['Building_Painted','Building_Fenced','Garden',\n",
    "                   'Settlement','NumberOfWindows']]:\n",
    "    box_plot(df, column)"
   ]
  },
  {
   "cell_type": "code",
   "execution_count": 24,
   "metadata": {},
   "outputs": [],
   "source": [
    "#Separating the dataset as per the two types of claims for visualizations\n",
    "df_0 = df[df['Claim']==0]\n",
    "df_1 = df[df['Claim']==1]"
   ]
  },
  {
   "cell_type": "code",
   "execution_count": 25,
   "metadata": {},
   "outputs": [],
   "source": [
    "#Checking variable distribution across the two categories using boxplots\n",
    "def boxplot_cf(df1, df2, colName, label_name):\n",
    "    fig, ax = plt.subplots(figsize=(12,7))\n",
    "\n",
    "    #Add major gridlines in the y-axis\n",
    "    ax.grid(color='grey', axis='y', linestyle='-',\n",
    "            linewidth=0.25, alpha=0.5)\n",
    "\n",
    "    #Set the plot title\n",
    "\n",
    "    ax.set_title(colName)\n",
    "\n",
    "    #Define the dataset \n",
    "    data = [df1[colName], df2[colName]]\n",
    "\n",
    "    labels = df[label_name].unique()\n",
    "    ax.boxplot(data, labels=labels)\n",
    "\n",
    "    plt.show()"
   ]
  },
  {
   "cell_type": "code",
   "execution_count": 26,
   "metadata": {},
   "outputs": [
    {
     "data": {
      "image/png": "[encoded data removed]",
      "text/plain": [
       "<Figure size 864x504 with 1 Axes>"
      ]
     },
     "metadata": {
      "needs_background": "light"
     },
     "output_type": "display_data"
    },
    {
     "data": {
      "image/png": "[encoded data removed]",
      "text/plain": [
       "<Figure size 864x504 with 1 Axes>"
      ]
     },
     "metadata": {
      "needs_background": "light"
     },
     "output_type": "display_data"
    },
    {
     "data": {
      "image/png": "[encoded data removed]",
      "text/plain": [
       "<Figure size 864x504 with 1 Axes>"
      ]
     },
     "metadata": {
      "needs_background": "light"
     },
     "output_type": "display_data"
    },
    {
     "data": {
      "image/png": "[encoded data removed]",
      "text/plain": [
       "<Figure size 864x504 with 1 Axes>"
      ]
     },
     "metadata": {
      "needs_background": "light"
     },
     "output_type": "display_data"
    }
   ],
   "source": [
    "label_name = 'Claim'\n",
    "column_names = ['YearOfObservation','Insured_Period','Residential','Building_Type']\n",
    "for col in column_names:\n",
    "    boxplot_cf(df_0,df_1,col, label_name)"
   ]
  },
  {
   "cell_type": "code",
   "execution_count": 27,
   "metadata": {},
   "outputs": [
    {
     "name": "stdout",
     "output_type": "stream",
     "text": [
      "Building_Painted     N     V  Total Count\n",
      "Claim                                    \n",
      "0                 1411  4115         5526\n",
      "1                  367  1267         1634\n",
      "Total Count       1778  5382         7160\n"
     ]
    },
    {
     "data": {
      "image/png": "[encoded data removed]",
      "text/plain": [
       "<Figure size 432x288 with 1 Axes>"
      ]
     },
     "metadata": {
      "needs_background": "light"
     },
     "output_type": "display_data"
    },
    {
     "name": "stdout",
     "output_type": "stream",
     "text": [
      "Building_Fenced     N     V  Total Count\n",
      "Claim                                   \n",
      "0                2707  2819         5526\n",
      "1                 901   733         1634\n",
      "Total Count      3608  3552         7160\n"
     ]
    },
    {
     "data": {
      "image/png": "[encoded data removed]",
      "text/plain": [
       "<Figure size 432x288 with 1 Axes>"
      ]
     },
     "metadata": {
      "needs_background": "light"
     },
     "output_type": "display_data"
    },
    {
     "name": "stdout",
     "output_type": "stream",
     "text": [
      "Garden          O     V  Total Count\n",
      "Claim                               \n",
      "0            2707  2819         5526\n",
      "1             902   732         1634\n",
      "Total Count  3609  3551         7160\n"
     ]
    },
    {
     "data": {
      "image/png": "[encoded data removed]",
      "text/plain": [
       "<Figure size 432x288 with 1 Axes>"
      ]
     },
     "metadata": {
      "needs_background": "light"
     },
     "output_type": "display_data"
    },
    {
     "name": "stdout",
     "output_type": "stream",
     "text": [
      "Settlement      R     U  Total Count\n",
      "Claim                               \n",
      "0            2708  2818         5526\n",
      "1             902   732         1634\n",
      "Total Count  3610  3550         7160\n"
     ]
    },
    {
     "data": {
      "image/png": "[encoded data removed]",
      "text/plain": [
       "<Figure size 432x288 with 1 Axes>"
      ]
     },
     "metadata": {
      "needs_background": "light"
     },
     "output_type": "display_data"
    },
    {
     "name": "stdout",
     "output_type": "stream",
     "text": [
      "NumberOfWindows     .   1    2    3    4    5    6    7    8   9  >=10  \\\n",
      "Claim                                                                    \n",
      "0                2819  68  323  713  717  447  201  121   61  24    32   \n",
      "1                 732   7   40  131  222  192  105   90   55  25    35   \n",
      "Total Count      3551  75  363  844  939  639  306  211  116  49    67   \n",
      "\n",
      "NumberOfWindows  Total Count  \n",
      "Claim                         \n",
      "0                       5526  \n",
      "1                       1634  \n",
      "Total Count             7160  \n"
     ]
    },
    {
     "data": {
      "image/png": "[encoded data removed]",
      "text/plain": [
       "<Figure size 432x288 with 1 Axes>"
      ]
     },
     "metadata": {
      "needs_background": "light"
     },
     "output_type": "display_data"
    }
   ],
   "source": [
    "#Crosstabulation analysis for categorical variabels\n",
    "[['Building_Painted','Building_Fenced','Garden',\n",
    "                   'Settlement','NumberOfWindows']]\n",
    "#print('Building Painted vs Claim')\n",
    "print(pd.crosstab(df.Claim,df.Building_Painted, margins=True,margins_name =\"Total Count\"))\n",
    "pd.crosstab(df.Building_Painted,df.Claim).plot(kind = 'bar')\n",
    "plt.title('Building Painted Vs Claim')\n",
    "plt.xlabel('Buiding Painted')\n",
    "plt.ylabel('Claim Status')\n",
    "plt.show()\n",
    "          \n",
    "#print('Building Fenced vs Claim')\n",
    "print(pd.crosstab(df.Claim, df.Building_Fenced, margins=True, margins_name = \"Total Count\"))\n",
    "pd.crosstab(df.Building_Fenced,df.Claim).plot(kind = 'bar')\n",
    "plt.title('Building Fenced Vs Claim')\n",
    "plt.xlabel('Buiding Fenced')\n",
    "plt.ylabel('Claim Status')\n",
    "plt.show()\n",
    "\n",
    "#print('Garden vs Claim')\n",
    "print(pd.crosstab(df.Claim, df.Garden, margins=True, margins_name = \"Total Count\"))\n",
    "pd.crosstab(df.Garden,df.Claim).plot(kind = 'bar')\n",
    "plt.title('Garden Vs Claim')\n",
    "plt.xlabel('Garden')\n",
    "plt.ylabel('Claim Status')\n",
    "plt.show()\n",
    "\n",
    "#print('Garden vs Settlement')\n",
    "print(pd.crosstab(df.Claim, df.Settlement, margins=True, margins_name = \"Total Count\"))\n",
    "pd.crosstab(df.Settlement,df.Claim).plot(kind = 'bar')\n",
    "plt.title('Settlement Vs Claim')\n",
    "plt.xlabel('Settlement')\n",
    "plt.ylabel('Claim Status')\n",
    "plt.show()\n",
    "           \n",
    "#print('Garden vs Number Of Windows')\n",
    "print(pd.crosstab(df.Claim, df.NumberOfWindows, margins=True, margins_name = \"Total Count\"))  \n",
    "pd.crosstab(df.NumberOfWindows,df.Claim).plot(kind = 'bar')\n",
    "plt.title('Number of Windows vs Claims')\n",
    "plt.xlabel('Number of Windows')\n",
    "plt.ylabel('Claim Status')\n",
    "plt.show()"
   ]
  },
  {
   "cell_type": "markdown",
   "metadata": {},
   "source": [
    "# Feature Engineering"
   ]
  },
  {
   "cell_type": "code",
   "execution_count": 28,
   "metadata": {},
   "outputs": [],
   "source": [
    "#We define two functions that will help create dummy variables \n",
    "def create_dummy(dataframe, cat_vars):\n",
    "    \n",
    "   \n",
    "    for var in cat_vars:\n",
    "        cat_list = 'var'+'_'+'var'\n",
    "        cat_list = pd.get_dummies(dataframe[var], prefix=var)\n",
    "        dataframe_new = dataframe.join(cat_list)\n",
    "        dataframe = dataframe_new\n",
    "    data_vars = dataframe.columns.values.tolist()\n",
    "    to_keep = [i for i in data_vars if i not in cat_vars]\n",
    "    \n",
    "    dataframe_final = dataframe[to_keep]\n",
    "    \n",
    "    return dataframe_final\n"
   ]
  },
  {
   "cell_type": "code",
   "execution_count": 29,
   "metadata": {},
   "outputs": [],
   "source": [
    "cat_vars = ['Building_Painted','Building_Fenced','Garden','Settlement','NumberOfWindows']\n",
    "\n",
    "df_final = create_dummy(df, cat_vars)"
   ]
  },
  {
   "cell_type": "code",
   "execution_count": 30,
   "metadata": {},
   "outputs": [
    {
     "data": {
      "text/html": [
       "<div>\n",
       "<style scoped>\n",
       "    .dataframe tbody tr th:only-of-type {\n",
       "        vertical-align: middle;\n",
       "    }\n",
       "\n",
       "    .dataframe tbody tr th {\n",
       "        vertical-align: top;\n",
       "    }\n",
       "\n",
       "    .dataframe thead th {\n",
       "        text-align: right;\n",
       "    }\n",
       "</style>\n",
       "<table border=\"1\" class=\"dataframe\">\n",
       "  <thead>\n",
       "    <tr style=\"text-align: right;\">\n",
       "      <th></th>\n",
       "      <th>Customer Id</th>\n",
       "      <th>YearOfObservation</th>\n",
       "      <th>Insured_Period</th>\n",
       "      <th>Residential</th>\n",
       "      <th>Building Dimension</th>\n",
       "      <th>Building_Type</th>\n",
       "      <th>Date_of_Occupancy</th>\n",
       "      <th>Geo_Code</th>\n",
       "      <th>Claim</th>\n",
       "      <th>Building_Painted_N</th>\n",
       "      <th>...</th>\n",
       "      <th>NumberOfWindows_1</th>\n",
       "      <th>NumberOfWindows_2</th>\n",
       "      <th>NumberOfWindows_3</th>\n",
       "      <th>NumberOfWindows_4</th>\n",
       "      <th>NumberOfWindows_5</th>\n",
       "      <th>NumberOfWindows_6</th>\n",
       "      <th>NumberOfWindows_7</th>\n",
       "      <th>NumberOfWindows_8</th>\n",
       "      <th>NumberOfWindows_9</th>\n",
       "      <th>NumberOfWindows_&gt;=10</th>\n",
       "    </tr>\n",
       "  </thead>\n",
       "  <tbody>\n",
       "    <tr>\n",
       "      <th>0</th>\n",
       "      <td>H14663</td>\n",
       "      <td>2013</td>\n",
       "      <td>1.0</td>\n",
       "      <td>0</td>\n",
       "      <td>290</td>\n",
       "      <td>1</td>\n",
       "      <td>1960</td>\n",
       "      <td>1053</td>\n",
       "      <td>0</td>\n",
       "      <td>1</td>\n",
       "      <td>...</td>\n",
       "      <td>0</td>\n",
       "      <td>0</td>\n",
       "      <td>0</td>\n",
       "      <td>0</td>\n",
       "      <td>0</td>\n",
       "      <td>0</td>\n",
       "      <td>0</td>\n",
       "      <td>0</td>\n",
       "      <td>0</td>\n",
       "      <td>0</td>\n",
       "    </tr>\n",
       "    <tr>\n",
       "      <th>1</th>\n",
       "      <td>H2037</td>\n",
       "      <td>2015</td>\n",
       "      <td>1.0</td>\n",
       "      <td>0</td>\n",
       "      <td>490</td>\n",
       "      <td>1</td>\n",
       "      <td>1850</td>\n",
       "      <td>1053</td>\n",
       "      <td>0</td>\n",
       "      <td>0</td>\n",
       "      <td>...</td>\n",
       "      <td>0</td>\n",
       "      <td>0</td>\n",
       "      <td>0</td>\n",
       "      <td>1</td>\n",
       "      <td>0</td>\n",
       "      <td>0</td>\n",
       "      <td>0</td>\n",
       "      <td>0</td>\n",
       "      <td>0</td>\n",
       "      <td>0</td>\n",
       "    </tr>\n",
       "    <tr>\n",
       "      <th>2</th>\n",
       "      <td>H3802</td>\n",
       "      <td>2014</td>\n",
       "      <td>1.0</td>\n",
       "      <td>0</td>\n",
       "      <td>595</td>\n",
       "      <td>1</td>\n",
       "      <td>1960</td>\n",
       "      <td>1053</td>\n",
       "      <td>0</td>\n",
       "      <td>1</td>\n",
       "      <td>...</td>\n",
       "      <td>0</td>\n",
       "      <td>0</td>\n",
       "      <td>0</td>\n",
       "      <td>0</td>\n",
       "      <td>0</td>\n",
       "      <td>0</td>\n",
       "      <td>0</td>\n",
       "      <td>0</td>\n",
       "      <td>0</td>\n",
       "      <td>0</td>\n",
       "    </tr>\n",
       "    <tr>\n",
       "      <th>3</th>\n",
       "      <td>H3834</td>\n",
       "      <td>2013</td>\n",
       "      <td>1.0</td>\n",
       "      <td>0</td>\n",
       "      <td>2840</td>\n",
       "      <td>1</td>\n",
       "      <td>1960</td>\n",
       "      <td>1053</td>\n",
       "      <td>0</td>\n",
       "      <td>0</td>\n",
       "      <td>...</td>\n",
       "      <td>0</td>\n",
       "      <td>0</td>\n",
       "      <td>0</td>\n",
       "      <td>0</td>\n",
       "      <td>0</td>\n",
       "      <td>0</td>\n",
       "      <td>0</td>\n",
       "      <td>0</td>\n",
       "      <td>0</td>\n",
       "      <td>0</td>\n",
       "    </tr>\n",
       "    <tr>\n",
       "      <th>4</th>\n",
       "      <td>H5053</td>\n",
       "      <td>2014</td>\n",
       "      <td>1.0</td>\n",
       "      <td>0</td>\n",
       "      <td>680</td>\n",
       "      <td>1</td>\n",
       "      <td>1800</td>\n",
       "      <td>1053</td>\n",
       "      <td>0</td>\n",
       "      <td>0</td>\n",
       "      <td>...</td>\n",
       "      <td>0</td>\n",
       "      <td>0</td>\n",
       "      <td>1</td>\n",
       "      <td>0</td>\n",
       "      <td>0</td>\n",
       "      <td>0</td>\n",
       "      <td>0</td>\n",
       "      <td>0</td>\n",
       "      <td>0</td>\n",
       "      <td>0</td>\n",
       "    </tr>\n",
       "  </tbody>\n",
       "</table>\n",
       "<p>5 rows × 28 columns</p>\n",
       "</div>"
      ],
      "text/plain": [
       "  Customer Id  YearOfObservation  Insured_Period  Residential  \\\n",
       "0      H14663               2013             1.0            0   \n",
       "1       H2037               2015             1.0            0   \n",
       "2       H3802               2014             1.0            0   \n",
       "3       H3834               2013             1.0            0   \n",
       "4       H5053               2014             1.0            0   \n",
       "\n",
       "  Building Dimension  Building_Type Date_of_Occupancy Geo_Code  Claim  \\\n",
       "0                290              1              1960     1053      0   \n",
       "1                490              1              1850     1053      0   \n",
       "2                595              1              1960     1053      0   \n",
       "3               2840              1              1960     1053      0   \n",
       "4                680              1              1800     1053      0   \n",
       "\n",
       "   Building_Painted_N  ...  NumberOfWindows_1  NumberOfWindows_2  \\\n",
       "0                   1  ...                  0                  0   \n",
       "1                   0  ...                  0                  0   \n",
       "2                   1  ...                  0                  0   \n",
       "3                   0  ...                  0                  0   \n",
       "4                   0  ...                  0                  0   \n",
       "\n",
       "   NumberOfWindows_3  NumberOfWindows_4  NumberOfWindows_5  NumberOfWindows_6  \\\n",
       "0                  0                  0                  0                  0   \n",
       "1                  0                  1                  0                  0   \n",
       "2                  0                  0                  0                  0   \n",
       "3                  0                  0                  0                  0   \n",
       "4                  1                  0                  0                  0   \n",
       "\n",
       "   NumberOfWindows_7  NumberOfWindows_8  NumberOfWindows_9  \\\n",
       "0                  0                  0                  0   \n",
       "1                  0                  0                  0   \n",
       "2                  0                  0                  0   \n",
       "3                  0                  0                  0   \n",
       "4                  0                  0                  0   \n",
       "\n",
       "   NumberOfWindows_>=10  \n",
       "0                     0  \n",
       "1                     0  \n",
       "2                     0  \n",
       "3                     0  \n",
       "4                     0  \n",
       "\n",
       "[5 rows x 28 columns]"
      ]
     },
     "execution_count": 30,
     "metadata": {},
     "output_type": "execute_result"
    }
   ],
   "source": [
    "df_final.head(5)"
   ]
  },
  {
   "cell_type": "markdown",
   "metadata": {},
   "source": [
    "# Decision Tree Modelling"
   ]
  },
  {
   "cell_type": "code",
   "execution_count": 31,
   "metadata": {},
   "outputs": [
    {
     "data": {
      "text/plain": [
       "Customer Id              object\n",
       "YearOfObservation         int64\n",
       "Insured_Period          float64\n",
       "Residential               int64\n",
       "Building Dimension       object\n",
       "Building_Type             int64\n",
       "Date_of_Occupancy        object\n",
       "Geo_Code                 object\n",
       "Claim                     int64\n",
       "Building_Painted_N        uint8\n",
       "Building_Painted_V        uint8\n",
       "Building_Fenced_N         uint8\n",
       "Building_Fenced_V         uint8\n",
       "Garden_O                  uint8\n",
       "Garden_V                  uint8\n",
       "Settlement_R              uint8\n",
       "Settlement_U              uint8\n",
       "NumberOfWindows_   .      uint8\n",
       "NumberOfWindows_1         uint8\n",
       "NumberOfWindows_2         uint8\n",
       "NumberOfWindows_3         uint8\n",
       "NumberOfWindows_4         uint8\n",
       "NumberOfWindows_5         uint8\n",
       "NumberOfWindows_6         uint8\n",
       "NumberOfWindows_7         uint8\n",
       "NumberOfWindows_8         uint8\n",
       "NumberOfWindows_9         uint8\n",
       "NumberOfWindows_>=10      uint8\n",
       "dtype: object"
      ]
     },
     "execution_count": 31,
     "metadata": {},
     "output_type": "execute_result"
    }
   ],
   "source": [
    "df_final.dtypes"
   ]
  },
  {
   "cell_type": "code",
   "execution_count": 32,
   "metadata": {},
   "outputs": [],
   "source": [
    "#Convert the data types to float\n",
    "df_final['Insured_Period'] = df_final['Insured_Period'].astype('int64')"
   ]
  },
  {
   "cell_type": "code",
   "execution_count": 33,
   "metadata": {},
   "outputs": [
    {
     "data": {
      "text/plain": [
       "array(['1053', '1143', '1160', ..., '2B096', '2B353', 0], dtype=object)"
      ]
     },
     "execution_count": 33,
     "metadata": {},
     "output_type": "execute_result"
    }
   ],
   "source": [
    "df_final['Geo_Code'].unique()"
   ]
  },
  {
   "cell_type": "code",
   "execution_count": 34,
   "metadata": {},
   "outputs": [],
   "source": [
    "#Creating the featur and target datasets\n",
    "#Preparing the feature and target data\n",
    "X = df_final.drop(['Claim','Customer Id','Building Dimension','Date_of_Occupancy','Geo_Code'], axis = 1)\n",
    "#X = df.iloc[:,9]\n",
    "y = df_final['Claim']"
   ]
  },
  {
   "cell_type": "code",
   "execution_count": 35,
   "metadata": {},
   "outputs": [
    {
     "data": {
      "text/plain": [
       "['Claim',\n",
       " 'Customer Id',\n",
       " 'YearOfObservation',\n",
       " 'Insured_Period',\n",
       " 'Residential',\n",
       " 'Building Dimension',\n",
       " 'Building_Type',\n",
       " 'Date_of_Occupancy',\n",
       " 'Geo_Code']"
      ]
     },
     "execution_count": 35,
     "metadata": {},
     "output_type": "execute_result"
    }
   ],
   "source": [
    "['Claim','Customer Id','YearOfObservation','Insured_Period','Residential','Building Dimension',\n",
    "                  'Building_Type','Date_of_Occupancy','Geo_Code']"
   ]
  },
  {
   "cell_type": "code",
   "execution_count": 36,
   "metadata": {},
   "outputs": [
    {
     "data": {
      "text/html": [
       "<div>\n",
       "<style scoped>\n",
       "    .dataframe tbody tr th:only-of-type {\n",
       "        vertical-align: middle;\n",
       "    }\n",
       "\n",
       "    .dataframe tbody tr th {\n",
       "        vertical-align: top;\n",
       "    }\n",
       "\n",
       "    .dataframe thead th {\n",
       "        text-align: right;\n",
       "    }\n",
       "</style>\n",
       "<table border=\"1\" class=\"dataframe\">\n",
       "  <thead>\n",
       "    <tr style=\"text-align: right;\">\n",
       "      <th></th>\n",
       "      <th>YearOfObservation</th>\n",
       "      <th>Insured_Period</th>\n",
       "      <th>Residential</th>\n",
       "      <th>Building_Type</th>\n",
       "      <th>Building_Painted_N</th>\n",
       "      <th>Building_Painted_V</th>\n",
       "      <th>Building_Fenced_N</th>\n",
       "      <th>Building_Fenced_V</th>\n",
       "      <th>Garden_O</th>\n",
       "      <th>Garden_V</th>\n",
       "      <th>...</th>\n",
       "      <th>NumberOfWindows_1</th>\n",
       "      <th>NumberOfWindows_2</th>\n",
       "      <th>NumberOfWindows_3</th>\n",
       "      <th>NumberOfWindows_4</th>\n",
       "      <th>NumberOfWindows_5</th>\n",
       "      <th>NumberOfWindows_6</th>\n",
       "      <th>NumberOfWindows_7</th>\n",
       "      <th>NumberOfWindows_8</th>\n",
       "      <th>NumberOfWindows_9</th>\n",
       "      <th>NumberOfWindows_&gt;=10</th>\n",
       "    </tr>\n",
       "  </thead>\n",
       "  <tbody>\n",
       "    <tr>\n",
       "      <th>0</th>\n",
       "      <td>2013</td>\n",
       "      <td>1</td>\n",
       "      <td>0</td>\n",
       "      <td>1</td>\n",
       "      <td>1</td>\n",
       "      <td>0</td>\n",
       "      <td>0</td>\n",
       "      <td>1</td>\n",
       "      <td>0</td>\n",
       "      <td>1</td>\n",
       "      <td>...</td>\n",
       "      <td>0</td>\n",
       "      <td>0</td>\n",
       "      <td>0</td>\n",
       "      <td>0</td>\n",
       "      <td>0</td>\n",
       "      <td>0</td>\n",
       "      <td>0</td>\n",
       "      <td>0</td>\n",
       "      <td>0</td>\n",
       "      <td>0</td>\n",
       "    </tr>\n",
       "    <tr>\n",
       "      <th>1</th>\n",
       "      <td>2015</td>\n",
       "      <td>1</td>\n",
       "      <td>0</td>\n",
       "      <td>1</td>\n",
       "      <td>0</td>\n",
       "      <td>1</td>\n",
       "      <td>1</td>\n",
       "      <td>0</td>\n",
       "      <td>1</td>\n",
       "      <td>0</td>\n",
       "      <td>...</td>\n",
       "      <td>0</td>\n",
       "      <td>0</td>\n",
       "      <td>0</td>\n",
       "      <td>1</td>\n",
       "      <td>0</td>\n",
       "      <td>0</td>\n",
       "      <td>0</td>\n",
       "      <td>0</td>\n",
       "      <td>0</td>\n",
       "      <td>0</td>\n",
       "    </tr>\n",
       "    <tr>\n",
       "      <th>2</th>\n",
       "      <td>2014</td>\n",
       "      <td>1</td>\n",
       "      <td>0</td>\n",
       "      <td>1</td>\n",
       "      <td>1</td>\n",
       "      <td>0</td>\n",
       "      <td>0</td>\n",
       "      <td>1</td>\n",
       "      <td>0</td>\n",
       "      <td>1</td>\n",
       "      <td>...</td>\n",
       "      <td>0</td>\n",
       "      <td>0</td>\n",
       "      <td>0</td>\n",
       "      <td>0</td>\n",
       "      <td>0</td>\n",
       "      <td>0</td>\n",
       "      <td>0</td>\n",
       "      <td>0</td>\n",
       "      <td>0</td>\n",
       "      <td>0</td>\n",
       "    </tr>\n",
       "    <tr>\n",
       "      <th>3</th>\n",
       "      <td>2013</td>\n",
       "      <td>1</td>\n",
       "      <td>0</td>\n",
       "      <td>1</td>\n",
       "      <td>0</td>\n",
       "      <td>1</td>\n",
       "      <td>0</td>\n",
       "      <td>1</td>\n",
       "      <td>0</td>\n",
       "      <td>1</td>\n",
       "      <td>...</td>\n",
       "      <td>0</td>\n",
       "      <td>0</td>\n",
       "      <td>0</td>\n",
       "      <td>0</td>\n",
       "      <td>0</td>\n",
       "      <td>0</td>\n",
       "      <td>0</td>\n",
       "      <td>0</td>\n",
       "      <td>0</td>\n",
       "      <td>0</td>\n",
       "    </tr>\n",
       "    <tr>\n",
       "      <th>4</th>\n",
       "      <td>2014</td>\n",
       "      <td>1</td>\n",
       "      <td>0</td>\n",
       "      <td>1</td>\n",
       "      <td>0</td>\n",
       "      <td>1</td>\n",
       "      <td>1</td>\n",
       "      <td>0</td>\n",
       "      <td>1</td>\n",
       "      <td>0</td>\n",
       "      <td>...</td>\n",
       "      <td>0</td>\n",
       "      <td>0</td>\n",
       "      <td>1</td>\n",
       "      <td>0</td>\n",
       "      <td>0</td>\n",
       "      <td>0</td>\n",
       "      <td>0</td>\n",
       "      <td>0</td>\n",
       "      <td>0</td>\n",
       "      <td>0</td>\n",
       "    </tr>\n",
       "  </tbody>\n",
       "</table>\n",
       "<p>5 rows × 23 columns</p>\n",
       "</div>"
      ],
      "text/plain": [
       "   YearOfObservation  Insured_Period  Residential  Building_Type  \\\n",
       "0               2013               1            0              1   \n",
       "1               2015               1            0              1   \n",
       "2               2014               1            0              1   \n",
       "3               2013               1            0              1   \n",
       "4               2014               1            0              1   \n",
       "\n",
       "   Building_Painted_N  Building_Painted_V  Building_Fenced_N  \\\n",
       "0                   1                   0                  0   \n",
       "1                   0                   1                  1   \n",
       "2                   1                   0                  0   \n",
       "3                   0                   1                  0   \n",
       "4                   0                   1                  1   \n",
       "\n",
       "   Building_Fenced_V  Garden_O  Garden_V  ...  NumberOfWindows_1  \\\n",
       "0                  1         0         1  ...                  0   \n",
       "1                  0         1         0  ...                  0   \n",
       "2                  1         0         1  ...                  0   \n",
       "3                  1         0         1  ...                  0   \n",
       "4                  0         1         0  ...                  0   \n",
       "\n",
       "   NumberOfWindows_2  NumberOfWindows_3  NumberOfWindows_4  NumberOfWindows_5  \\\n",
       "0                  0                  0                  0                  0   \n",
       "1                  0                  0                  1                  0   \n",
       "2                  0                  0                  0                  0   \n",
       "3                  0                  0                  0                  0   \n",
       "4                  0                  1                  0                  0   \n",
       "\n",
       "   NumberOfWindows_6  NumberOfWindows_7  NumberOfWindows_8  NumberOfWindows_9  \\\n",
       "0                  0                  0                  0                  0   \n",
       "1                  0                  0                  0                  0   \n",
       "2                  0                  0                  0                  0   \n",
       "3                  0                  0                  0                  0   \n",
       "4                  0                  0                  0                  0   \n",
       "\n",
       "   NumberOfWindows_>=10  \n",
       "0                     0  \n",
       "1                     0  \n",
       "2                     0  \n",
       "3                     0  \n",
       "4                     0  \n",
       "\n",
       "[5 rows x 23 columns]"
      ]
     },
     "execution_count": 36,
     "metadata": {},
     "output_type": "execute_result"
    }
   ],
   "source": [
    "X.head(5)"
   ]
  },
  {
   "cell_type": "code",
   "execution_count": 37,
   "metadata": {},
   "outputs": [
    {
     "data": {
      "text/plain": [
       "0    0\n",
       "1    0\n",
       "2    0\n",
       "3    0\n",
       "4    0\n",
       "Name: Claim, dtype: int64"
      ]
     },
     "execution_count": 37,
     "metadata": {},
     "output_type": "execute_result"
    }
   ],
   "source": [
    "y.head(5)"
   ]
  },
  {
   "cell_type": "code",
   "execution_count": 38,
   "metadata": {},
   "outputs": [
    {
     "name": "stdout",
     "output_type": "stream",
     "text": [
      "Number of training samples:  5728\n",
      "Number of test samples:  1432\n"
     ]
    }
   ],
   "source": [
    "#Creating the train and test sets\n",
    "X_train, X_test, y_train, y_test = train_test_split(X,y, test_size = 0.20)\n",
    "\n",
    "print('Number of training samples: ', len(X_train))\n",
    "print('Number of test samples: ', len(X_test))"
   ]
  },
  {
   "cell_type": "code",
   "execution_count": 39,
   "metadata": {},
   "outputs": [],
   "source": [
    "# Function for fitting trees of various depths while using cross-validation\n",
    "def cv_trees(X,y, tree_depth, cv = 5, scoring = 'accuracy'):\n",
    "    cv_scores_ls = []\n",
    "    cv_scores_std = []\n",
    "    cv_scores_mean = []\n",
    "    accuracy_scores = []\n",
    "    \n",
    "    for depth in tree_depth:\n",
    "        tree_model = DecisionTreeClassifier(max_depth = depth)\n",
    "        cv_scores = cross_val_score(tree_model, X, y, cv=cv, scoring = scoring)\n",
    "        cv_scores_ls.append(cv_scores)\n",
    "        cv_scores_std.append(cv_scores.std())\n",
    "        cv_scores_mean.append(cv_scores.mean())\n",
    "        accuracy_scores.append(tree_model.fit(X,y).score(X,y))\n",
    "    \n",
    "    cv_scores_mean = np.array(cv_scores_mean)\n",
    "    cv_scores_std = np.array(cv_scores_std)\n",
    "    accuracy_scores = np.array(accuracy_scores)\n",
    "    \n",
    "    return cv_scores_mean, cv_scores_std, accuracy_scores"
   ]
  },
  {
   "cell_type": "code",
   "execution_count": 40,
   "metadata": {},
   "outputs": [],
   "source": [
    "#Function for plotting the cross-validation results\n",
    "def plt_cv_results(depths, cv_scores_mean, cv_scores_std, accuracy_scores, title):\n",
    "    fig, ax = plt.subplots(1,1, figsize= (15,5))\n",
    "    ax.plot(depths, cv_scores_mean, '-o', label = 'mean cross-validation accuracy', alpha=0.9)\n",
    "    ax.fill_between(depths, cv_scores_mean-2*cv_scores_std, cv_scores_mean+2*cv_scores_std, alpha = 0.2)\n",
    "    ylim = plt.ylim()\n",
    "    ax.plot(depths, accuracy_scores, '-*', label ='train accuracy', alpha = 0.9 )\n",
    "    ax.set_title(title, fontsize = 16)\n",
    "    ax.set_xlabel('Tree Depth', fontsize = 14)\n",
    "    ax.set_ylabel('Accuracy', fontsize = 14)\n",
    "    ax.set_ylim(ylim)\n",
    "    ax.set_xticks(depths)\n",
    "    ax.legend()\n",
    "    "
   ]
  },
  {
   "cell_type": "code",
   "execution_count": 41,
   "metadata": {},
   "outputs": [],
   "source": [
    "#Fitting trees of depth 1 to 20\n",
    "tree_depths = range(1,20)\n",
    "\n",
    "m_scores_mean, m_scores_std, m_accuracy_scores = cv_trees(X_train, y_train,tree_depths)"
   ]
  },
  {
   "cell_type": "code",
   "execution_count": 42,
   "metadata": {},
   "outputs": [
    {
     "data": {
      "image/png": "[encoded data removed]",
      "text/plain": [
       "<Figure size 1080x360 with 1 Axes>"
      ]
     },
     "metadata": {
      "needs_background": "light"
     },
     "output_type": "display_data"
    }
   ],
   "source": [
    "# Plotting Accuracy\n",
    "plt_cv_results(tree_depths,m_scores_mean,m_scores_std,m_accuracy_scores,\n",
    "               'Accuracy per decision tree depth on training data')"
   ]
  },
  {
   "cell_type": "code",
   "execution_count": 43,
   "metadata": {},
   "outputs": [
    {
     "name": "stdout",
     "output_type": "stream",
     "text": [
      "The depth- 4 tree achieves the best mean cross-validation accuracy 77.235 +/- 0.171% on training dataset\n"
     ]
    }
   ],
   "source": [
    "# Choosing the best depth\n",
    "idx_max = m_scores_mean.argmax()\n",
    "m_best_tree_depth = tree_depths[idx_max]\n",
    "m_best_tree_cv_score = m_scores_mean[idx_max]\n",
    "m_best_tree_cv_score_std = m_scores_std[idx_max]\n",
    "\n",
    "print('The depth- {} tree achieves the best mean cross-validation accuracy {} +/- {}% on training dataset'.format(\n",
    "m_best_tree_depth, round(m_best_tree_cv_score*100, 3), round(m_best_tree_cv_score_std*100, 3)))"
   ]
  },
  {
   "cell_type": "code",
   "execution_count": 45,
   "metadata": {},
   "outputs": [],
   "source": [
    "#Function to train and evaluate a tree\n",
    "def single_tree(X_train, y_train, y_test, depth):\n",
    "    model = DecisionTreeClassifier(max_depth = depth).fit(X_train, y_train)\n",
    "    accuracy_train = model.score(X_train,y_train)\n",
    "    accuracy_test = model.score(X_test, y_test)\n",
    "    print('Single tree depth: ', depth)\n",
    "    print('Accuracy, Training Set: ', round(accuracy_train*100, 3), '%')\n",
    "    print('Accuracy, Test set: ', round(accuracy_test*100, 3), '%')\n",
    "    return accuracy_train, accuracy_test\n",
    "    "
   ]
  },
  {
   "cell_type": "code",
   "execution_count": 47,
   "metadata": {},
   "outputs": [
    {
     "name": "stdout",
     "output_type": "stream",
     "text": [
      "Single tree depth:  4\n",
      "Accuracy, Training Set:  77.636 %\n",
      "Accuracy, Test set:  77.863 %\n"
     ]
    }
   ],
   "source": [
    "#Train and evaluate a 4 depth tree\n",
    "depth_accuracy_train,depth_accuracy_test = single_tree(X_train, y_train,y_test, m_best_tree_depth)"
   ]
  },
  {
   "cell_type": "code",
   "execution_count": 48,
   "metadata": {},
   "outputs": [],
   "source": [
    "#Prediction using new data"
   ]
  },
  {
   "cell_type": "code",
   "execution_count": null,
   "metadata": {},
   "outputs": [],
   "source": []
  }
 ],
 "metadata": {
  "kernelspec": {
   "display_name": "Python 3",
   "language": "python",
   "name": "python3"
  },
  "language_info": {
   "codemirror_mode": {
    "name": "ipython",
    "version": 3
   },
   "file_extension": ".py",
   "mimetype": "text/x-python",
   "name": "python",
   "nbconvert_exporter": "python",
   "pygments_lexer": "ipython3",
   "version": "3.7.4"
  }
 },
 "nbformat": 4,
 "nbformat_minor": 2
}
