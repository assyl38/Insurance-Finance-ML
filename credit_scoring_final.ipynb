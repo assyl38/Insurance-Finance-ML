{
 "cells": [
  {
   "cell_type": "markdown",
   "metadata": {},
   "source": [
    "# Sources\n",
    "https://medium.com/analytics-vidhya/tutorial-exploratory-data-analysis-eda-with-categorical-variables-6a569a3aea55\n",
    "\n",
    "Hyperparameter tuning\n",
    "\n",
    "https://satishgunjal.com/kfold/#19\n",
    "\n",
    "Random forest using K-fold validation\n",
    "\n",
    "https://www.kaggle.com/niklasdonges/end-to-end-project-with-python\n",
    "\n",
    "On feature importance\n",
    "\n",
    "https://towardsdatascience.com/explaining-feature-importance-by-example-of-a-random-forest-d9166011959e\n",
    "\n",
    "On Getting the best model after cross validation using gridsearchCV\n",
    "\n",
    "https://machinelearningmastery.com/nested-cross-validation-for-machine-learning-with-python/"
   ]
  },
  {
   "cell_type": "code",
   "execution_count": 1,
   "metadata": {},
   "outputs": [
    {
     "name": "stderr",
     "output_type": "stream",
     "text": [
      "/Users/pw/opt/anaconda3/lib/python3.7/site-packages/statsmodels/tools/_testing.py:19: FutureWarning: pandas.util.testing is deprecated. Use the functions in the public API at pandas.testing instead.\n",
      "  import pandas.util.testing as tm\n"
     ]
    }
   ],
   "source": [
    "#Importing dependencies\n",
    "import pandas as pd\n",
    "import numpy as np\n",
    "import matplotlib.pyplot as plt\n",
    "import seaborn as sns\n",
    "from sklearn.model_selection import KFold, StratifiedKFold, cross_val_score, GridSearchCV\n",
    "from sklearn import linear_model, tree, ensemble\n",
    "#For training without cross_validation\n",
    "from sklearn.ensemble import RandomForestClassifier\n",
    "from sklearn.model_selection import train_test_split\n",
    "from sklearn.metrics import accuracy_score"
   ]
  },
  {
   "cell_type": "code",
   "execution_count": 2,
   "metadata": {},
   "outputs": [],
   "source": [
    "#Specifying dataset paths\n",
    "test_demographic_path = '/Users/pw/Desktop/StatisticalAnalysis/ZindiClassification/testdemographics.csv'\n",
    "train_demographic_path = '/Users/pw/Desktop/StatisticalAnalysis/ZindiClassification/traindemographics.csv'\n",
    "test_perf_path = '/Users/pw/Desktop/StatisticalAnalysis/ZindiClassification/testperf.csv'\n",
    "train_perf_path = '/Users/pw/Desktop/StatisticalAnalysis/ZindiClassification/trainperf.csv'\n",
    "test_prev_loan_path = '/Users/pw/Desktop/StatisticalAnalysis/ZindiClassification/testprevloans.csv'\n",
    "train_prev_loan_path = '/Users/pw/Desktop/StatisticalAnalysis/ZindiClassification/trainprevloans.csv'"
   ]
  },
  {
   "cell_type": "code",
   "execution_count": 3,
   "metadata": {},
   "outputs": [],
   "source": [
    "#Loading the datasets\n",
    "test_demo_df = pd.read_csv(test_demographic_path)\n",
    "train_demo_df = pd.read_csv(train_demographic_path)\n",
    "test_perf_df = pd.read_csv(test_perf_path)\n",
    "train_perf_df = pd.read_csv(train_perf_path)\n",
    "test_prevloan_df = pd.read_csv(test_prev_loan_path)\n",
    "train_prevloan_df = pd.read_csv(train_prev_loan_path)"
   ]
  },
  {
   "cell_type": "code",
   "execution_count": 4,
   "metadata": {},
   "outputs": [],
   "source": [
    "datasets = ['test_demo_df','train_demo_df','test_perf_df','train_perf_df','test_prevloan_df','train_prevloan_df']"
   ]
  },
  {
   "cell_type": "code",
   "execution_count": 5,
   "metadata": {},
   "outputs": [],
   "source": [
    "#Combine datasets based on customer id\n",
    "new_data = pd.merge(train_demo_df, train_perf_df, on = \"customerid\")"
   ]
  },
  {
   "cell_type": "code",
   "execution_count": 6,
   "metadata": {},
   "outputs": [
    {
     "name": "stdout",
     "output_type": "stream",
     "text": [
      "Train Demographics Shape:  (4346, 9)\n",
      "Train Perf Shape:  (4368, 10)\n",
      "New Data Shape:  (3277, 18)\n"
     ]
    }
   ],
   "source": [
    "new_data.head(5)\n",
    "print(\"Train Demographics Shape: \", train_demo_df.shape)\n",
    "print(\"Train Perf Shape: \", train_perf_df.shape)\n",
    "print(\"New Data Shape: \", new_data.shape)"
   ]
  },
  {
   "cell_type": "code",
   "execution_count": 7,
   "metadata": {},
   "outputs": [],
   "source": [
    "combined_df = pd.merge(new_data,train_prevloan_df, on = \"customerid\")"
   ]
  },
  {
   "cell_type": "code",
   "execution_count": 8,
   "metadata": {},
   "outputs": [
    {
     "name": "stdout",
     "output_type": "stream",
     "text": [
      "Combined Data shape:  (13693, 29)\n",
      "Train Previous Loan Shape:  (18183, 12)\n"
     ]
    }
   ],
   "source": [
    "print(\"Combined Data shape: \", combined_df.shape)\n",
    "print(\"Train Previous Loan Shape: \", train_prevloan_df.shape)"
   ]
  },
  {
   "cell_type": "code",
   "execution_count": 9,
   "metadata": {},
   "outputs": [
    {
     "data": {
      "text/plain": [
       "customerid                     object\n",
       "birthdate                      object\n",
       "bank_account_type              object\n",
       "longitude_gps                 float64\n",
       "latitude_gps                  float64\n",
       "bank_name_clients              object\n",
       "bank_branch_clients            object\n",
       "employment_status_clients      object\n",
       "level_of_education_clients     object\n",
       "systemloanid_x                  int64\n",
       "loannumber_x                    int64\n",
       "approveddate_x                 object\n",
       "creationdate_x                 object\n",
       "loanamount_x                  float64\n",
       "totaldue_x                    float64\n",
       "termdays_x                      int64\n",
       "referredby_x                   object\n",
       "good_bad_flag                  object\n",
       "systemloanid_y                  int64\n",
       "loannumber_y                    int64\n",
       "approveddate_y                 object\n",
       "creationdate_y                 object\n",
       "loanamount_y                  float64\n",
       "totaldue_y                    float64\n",
       "termdays_y                      int64\n",
       "closeddate                     object\n",
       "referredby_y                   object\n",
       "firstduedate                   object\n",
       "firstrepaiddate                object\n",
       "dtype: object"
      ]
     },
     "execution_count": 9,
     "metadata": {},
     "output_type": "execute_result"
    }
   ],
   "source": [
    "combined_df.dtypes"
   ]
  },
  {
   "cell_type": "markdown",
   "metadata": {},
   "source": [
    "# Exploratory Data Analysis"
   ]
  },
  {
   "cell_type": "code",
   "execution_count": 10,
   "metadata": {},
   "outputs": [
    {
     "data": {
      "text/html": [
       "<div>\n",
       "<style scoped>\n",
       "    .dataframe tbody tr th:only-of-type {\n",
       "        vertical-align: middle;\n",
       "    }\n",
       "\n",
       "    .dataframe tbody tr th {\n",
       "        vertical-align: top;\n",
       "    }\n",
       "\n",
       "    .dataframe thead th {\n",
       "        text-align: right;\n",
       "    }\n",
       "</style>\n",
       "<table border=\"1\" class=\"dataframe\">\n",
       "  <thead>\n",
       "    <tr style=\"text-align: right;\">\n",
       "      <th></th>\n",
       "      <th>customerid</th>\n",
       "      <th>birthdate</th>\n",
       "      <th>bank_account_type</th>\n",
       "      <th>longitude_gps</th>\n",
       "      <th>latitude_gps</th>\n",
       "      <th>bank_name_clients</th>\n",
       "      <th>bank_branch_clients</th>\n",
       "      <th>employment_status_clients</th>\n",
       "      <th>level_of_education_clients</th>\n",
       "      <th>systemloanid_x</th>\n",
       "      <th>...</th>\n",
       "      <th>loannumber_y</th>\n",
       "      <th>approveddate_y</th>\n",
       "      <th>creationdate_y</th>\n",
       "      <th>loanamount_y</th>\n",
       "      <th>totaldue_y</th>\n",
       "      <th>termdays_y</th>\n",
       "      <th>closeddate</th>\n",
       "      <th>referredby_y</th>\n",
       "      <th>firstduedate</th>\n",
       "      <th>firstrepaiddate</th>\n",
       "    </tr>\n",
       "  </thead>\n",
       "  <tbody>\n",
       "    <tr>\n",
       "      <th>0</th>\n",
       "      <td>8a858e135cb22031015cbafc76964ebd</td>\n",
       "      <td>1973-10-10 00:00:00.000000</td>\n",
       "      <td>Savings</td>\n",
       "      <td>3.319219</td>\n",
       "      <td>6.528604</td>\n",
       "      <td>GT Bank</td>\n",
       "      <td>NaN</td>\n",
       "      <td>NaN</td>\n",
       "      <td>NaN</td>\n",
       "      <td>301964962</td>\n",
       "      <td>...</td>\n",
       "      <td>1</td>\n",
       "      <td>2017-06-19 17:55:26.000000</td>\n",
       "      <td>2017-06-19 16:54:19.000000</td>\n",
       "      <td>10000.0</td>\n",
       "      <td>11500.0</td>\n",
       "      <td>15</td>\n",
       "      <td>2017-07-04 18:09:47.000000</td>\n",
       "      <td>8a858899538ddb8e0153a780c56e34bb</td>\n",
       "      <td>2017-07-05 00:00:00.000000</td>\n",
       "      <td>2017-07-04 17:59:36.000000</td>\n",
       "    </tr>\n",
       "    <tr>\n",
       "      <th>1</th>\n",
       "      <td>8a858e275c7ea5ec015c82482d7c3996</td>\n",
       "      <td>1986-01-21 00:00:00.000000</td>\n",
       "      <td>Savings</td>\n",
       "      <td>3.325598</td>\n",
       "      <td>7.119403</td>\n",
       "      <td>Sterling Bank</td>\n",
       "      <td>NaN</td>\n",
       "      <td>Permanent</td>\n",
       "      <td>NaN</td>\n",
       "      <td>301972172</td>\n",
       "      <td>...</td>\n",
       "      <td>1</td>\n",
       "      <td>2017-06-07 12:47:30.000000</td>\n",
       "      <td>2017-06-07 11:46:22.000000</td>\n",
       "      <td>10000.0</td>\n",
       "      <td>13000.0</td>\n",
       "      <td>30</td>\n",
       "      <td>2017-07-10 08:52:54.000000</td>\n",
       "      <td>NaN</td>\n",
       "      <td>2017-07-07 00:00:00.000000</td>\n",
       "      <td>2017-07-10 08:42:44.000000</td>\n",
       "    </tr>\n",
       "    <tr>\n",
       "      <th>2</th>\n",
       "      <td>8a858e5b5bd99460015bdc95cd485634</td>\n",
       "      <td>1987-04-01 00:00:00.000000</td>\n",
       "      <td>Savings</td>\n",
       "      <td>5.746100</td>\n",
       "      <td>5.563174</td>\n",
       "      <td>Fidelity Bank</td>\n",
       "      <td>NaN</td>\n",
       "      <td>NaN</td>\n",
       "      <td>NaN</td>\n",
       "      <td>301976271</td>\n",
       "      <td>...</td>\n",
       "      <td>3</td>\n",
       "      <td>2017-06-08 11:49:34.000000</td>\n",
       "      <td>2017-06-08 10:49:27.000000</td>\n",
       "      <td>10000.0</td>\n",
       "      <td>13000.0</td>\n",
       "      <td>30</td>\n",
       "      <td>2017-07-11 10:12:20.000000</td>\n",
       "      <td>NaN</td>\n",
       "      <td>2017-07-10 00:00:00.000000</td>\n",
       "      <td>2017-07-11 10:02:11.000000</td>\n",
       "    </tr>\n",
       "    <tr>\n",
       "      <th>3</th>\n",
       "      <td>8a858e5b5bd99460015bdc95cd485634</td>\n",
       "      <td>1987-04-01 00:00:00.000000</td>\n",
       "      <td>Savings</td>\n",
       "      <td>5.746100</td>\n",
       "      <td>5.563174</td>\n",
       "      <td>Fidelity Bank</td>\n",
       "      <td>NaN</td>\n",
       "      <td>NaN</td>\n",
       "      <td>NaN</td>\n",
       "      <td>301976271</td>\n",
       "      <td>...</td>\n",
       "      <td>1</td>\n",
       "      <td>2017-05-08 11:07:01.000000</td>\n",
       "      <td>2017-05-08 10:06:40.000000</td>\n",
       "      <td>10000.0</td>\n",
       "      <td>11500.0</td>\n",
       "      <td>15</td>\n",
       "      <td>2017-05-27 13:02:53.000000</td>\n",
       "      <td>NaN</td>\n",
       "      <td>2017-05-23 00:00:00.000000</td>\n",
       "      <td>2017-05-27 12:52:45.000000</td>\n",
       "    </tr>\n",
       "    <tr>\n",
       "      <th>4</th>\n",
       "      <td>8a858e5b5bd99460015bdc95cd485634</td>\n",
       "      <td>1987-04-01 00:00:00.000000</td>\n",
       "      <td>Savings</td>\n",
       "      <td>5.746100</td>\n",
       "      <td>5.563174</td>\n",
       "      <td>Fidelity Bank</td>\n",
       "      <td>NaN</td>\n",
       "      <td>NaN</td>\n",
       "      <td>NaN</td>\n",
       "      <td>301976271</td>\n",
       "      <td>...</td>\n",
       "      <td>2</td>\n",
       "      <td>2017-05-27 17:10:41.000000</td>\n",
       "      <td>2017-05-27 16:10:34.000000</td>\n",
       "      <td>10000.0</td>\n",
       "      <td>11500.0</td>\n",
       "      <td>15</td>\n",
       "      <td>2017-06-08 11:13:50.000000</td>\n",
       "      <td>NaN</td>\n",
       "      <td>2017-06-12 00:00:00.000000</td>\n",
       "      <td>2017-06-08 11:03:40.000000</td>\n",
       "    </tr>\n",
       "  </tbody>\n",
       "</table>\n",
       "<p>5 rows × 29 columns</p>\n",
       "</div>"
      ],
      "text/plain": [
       "                         customerid                   birthdate  \\\n",
       "0  8a858e135cb22031015cbafc76964ebd  1973-10-10 00:00:00.000000   \n",
       "1  8a858e275c7ea5ec015c82482d7c3996  1986-01-21 00:00:00.000000   \n",
       "2  8a858e5b5bd99460015bdc95cd485634  1987-04-01 00:00:00.000000   \n",
       "3  8a858e5b5bd99460015bdc95cd485634  1987-04-01 00:00:00.000000   \n",
       "4  8a858e5b5bd99460015bdc95cd485634  1987-04-01 00:00:00.000000   \n",
       "\n",
       "  bank_account_type  longitude_gps  latitude_gps bank_name_clients  \\\n",
       "0           Savings       3.319219      6.528604           GT Bank   \n",
       "1           Savings       3.325598      7.119403     Sterling Bank   \n",
       "2           Savings       5.746100      5.563174     Fidelity Bank   \n",
       "3           Savings       5.746100      5.563174     Fidelity Bank   \n",
       "4           Savings       5.746100      5.563174     Fidelity Bank   \n",
       "\n",
       "  bank_branch_clients employment_status_clients level_of_education_clients  \\\n",
       "0                 NaN                       NaN                        NaN   \n",
       "1                 NaN                 Permanent                        NaN   \n",
       "2                 NaN                       NaN                        NaN   \n",
       "3                 NaN                       NaN                        NaN   \n",
       "4                 NaN                       NaN                        NaN   \n",
       "\n",
       "   systemloanid_x  ...  loannumber_y              approveddate_y  \\\n",
       "0       301964962  ...             1  2017-06-19 17:55:26.000000   \n",
       "1       301972172  ...             1  2017-06-07 12:47:30.000000   \n",
       "2       301976271  ...             3  2017-06-08 11:49:34.000000   \n",
       "3       301976271  ...             1  2017-05-08 11:07:01.000000   \n",
       "4       301976271  ...             2  2017-05-27 17:10:41.000000   \n",
       "\n",
       "               creationdate_y  loanamount_y  totaldue_y  termdays_y  \\\n",
       "0  2017-06-19 16:54:19.000000       10000.0     11500.0          15   \n",
       "1  2017-06-07 11:46:22.000000       10000.0     13000.0          30   \n",
       "2  2017-06-08 10:49:27.000000       10000.0     13000.0          30   \n",
       "3  2017-05-08 10:06:40.000000       10000.0     11500.0          15   \n",
       "4  2017-05-27 16:10:34.000000       10000.0     11500.0          15   \n",
       "\n",
       "                   closeddate                      referredby_y  \\\n",
       "0  2017-07-04 18:09:47.000000  8a858899538ddb8e0153a780c56e34bb   \n",
       "1  2017-07-10 08:52:54.000000                               NaN   \n",
       "2  2017-07-11 10:12:20.000000                               NaN   \n",
       "3  2017-05-27 13:02:53.000000                               NaN   \n",
       "4  2017-06-08 11:13:50.000000                               NaN   \n",
       "\n",
       "                 firstduedate             firstrepaiddate  \n",
       "0  2017-07-05 00:00:00.000000  2017-07-04 17:59:36.000000  \n",
       "1  2017-07-07 00:00:00.000000  2017-07-10 08:42:44.000000  \n",
       "2  2017-07-10 00:00:00.000000  2017-07-11 10:02:11.000000  \n",
       "3  2017-05-23 00:00:00.000000  2017-05-27 12:52:45.000000  \n",
       "4  2017-06-12 00:00:00.000000  2017-06-08 11:03:40.000000  \n",
       "\n",
       "[5 rows x 29 columns]"
      ]
     },
     "execution_count": 10,
     "metadata": {},
     "output_type": "execute_result"
    }
   ],
   "source": [
    "combined_df.head(5)"
   ]
  },
  {
   "cell_type": "code",
   "execution_count": 11,
   "metadata": {},
   "outputs": [
    {
     "data": {
      "text/html": [
       "<div>\n",
       "<style scoped>\n",
       "    .dataframe tbody tr th:only-of-type {\n",
       "        vertical-align: middle;\n",
       "    }\n",
       "\n",
       "    .dataframe tbody tr th {\n",
       "        vertical-align: top;\n",
       "    }\n",
       "\n",
       "    .dataframe thead th {\n",
       "        text-align: right;\n",
       "    }\n",
       "</style>\n",
       "<table border=\"1\" class=\"dataframe\">\n",
       "  <thead>\n",
       "    <tr style=\"text-align: right;\">\n",
       "      <th></th>\n",
       "      <th>longitude_gps</th>\n",
       "      <th>latitude_gps</th>\n",
       "      <th>systemloanid_x</th>\n",
       "      <th>loannumber_x</th>\n",
       "      <th>loanamount_x</th>\n",
       "      <th>totaldue_x</th>\n",
       "      <th>termdays_x</th>\n",
       "      <th>systemloanid_y</th>\n",
       "      <th>loannumber_y</th>\n",
       "      <th>loanamount_y</th>\n",
       "      <th>totaldue_y</th>\n",
       "      <th>termdays_y</th>\n",
       "    </tr>\n",
       "  </thead>\n",
       "  <tbody>\n",
       "    <tr>\n",
       "      <th>count</th>\n",
       "      <td>13693.000000</td>\n",
       "      <td>13693.000000</td>\n",
       "      <td>1.369300e+04</td>\n",
       "      <td>13693.000000</td>\n",
       "      <td>13693.000000</td>\n",
       "      <td>13693.000000</td>\n",
       "      <td>13693.000000</td>\n",
       "      <td>1.369300e+04</td>\n",
       "      <td>13693.000000</td>\n",
       "      <td>13693.000000</td>\n",
       "      <td>13693.000000</td>\n",
       "      <td>13693.000000</td>\n",
       "    </tr>\n",
       "    <tr>\n",
       "      <th>mean</th>\n",
       "      <td>4.482207</td>\n",
       "      <td>7.291442</td>\n",
       "      <td>3.019801e+08</td>\n",
       "      <td>8.401081</td>\n",
       "      <td>25688.673045</td>\n",
       "      <td>29812.666494</td>\n",
       "      <td>33.233769</td>\n",
       "      <td>3.018395e+08</td>\n",
       "      <td>4.200760</td>\n",
       "      <td>16566.347769</td>\n",
       "      <td>19646.612269</td>\n",
       "      <td>26.742131</td>\n",
       "    </tr>\n",
       "    <tr>\n",
       "      <th>std</th>\n",
       "      <td>8.639590</td>\n",
       "      <td>3.436232</td>\n",
       "      <td>1.343531e+04</td>\n",
       "      <td>4.318780</td>\n",
       "      <td>12625.374212</td>\n",
       "      <td>13772.770273</td>\n",
       "      <td>14.440482</td>\n",
       "      <td>9.304690e+04</td>\n",
       "      <td>3.269552</td>\n",
       "      <td>9375.687619</td>\n",
       "      <td>10512.238823</td>\n",
       "      <td>10.997624</td>\n",
       "    </tr>\n",
       "    <tr>\n",
       "      <th>min</th>\n",
       "      <td>-118.247009</td>\n",
       "      <td>-33.868818</td>\n",
       "      <td>3.019585e+08</td>\n",
       "      <td>2.000000</td>\n",
       "      <td>10000.000000</td>\n",
       "      <td>10000.000000</td>\n",
       "      <td>15.000000</td>\n",
       "      <td>3.016001e+08</td>\n",
       "      <td>1.000000</td>\n",
       "      <td>3000.000000</td>\n",
       "      <td>3900.000000</td>\n",
       "      <td>15.000000</td>\n",
       "    </tr>\n",
       "    <tr>\n",
       "      <th>25%</th>\n",
       "      <td>3.354793</td>\n",
       "      <td>6.471885</td>\n",
       "      <td>3.019678e+08</td>\n",
       "      <td>5.000000</td>\n",
       "      <td>10000.000000</td>\n",
       "      <td>13000.000000</td>\n",
       "      <td>30.000000</td>\n",
       "      <td>3.017767e+08</td>\n",
       "      <td>2.000000</td>\n",
       "      <td>10000.000000</td>\n",
       "      <td>11500.000000</td>\n",
       "      <td>15.000000</td>\n",
       "    </tr>\n",
       "    <tr>\n",
       "      <th>50%</th>\n",
       "      <td>3.576022</td>\n",
       "      <td>6.617633</td>\n",
       "      <td>3.019787e+08</td>\n",
       "      <td>8.000000</td>\n",
       "      <td>30000.000000</td>\n",
       "      <td>33000.000000</td>\n",
       "      <td>30.000000</td>\n",
       "      <td>3.018545e+08</td>\n",
       "      <td>3.000000</td>\n",
       "      <td>10000.000000</td>\n",
       "      <td>13000.000000</td>\n",
       "      <td>30.000000</td>\n",
       "    </tr>\n",
       "    <tr>\n",
       "      <th>75%</th>\n",
       "      <td>6.364658</td>\n",
       "      <td>7.421333</td>\n",
       "      <td>3.019929e+08</td>\n",
       "      <td>11.000000</td>\n",
       "      <td>40000.000000</td>\n",
       "      <td>44000.000000</td>\n",
       "      <td>30.000000</td>\n",
       "      <td>3.019193e+08</td>\n",
       "      <td>6.000000</td>\n",
       "      <td>20000.000000</td>\n",
       "      <td>24500.000000</td>\n",
       "      <td>30.000000</td>\n",
       "    </tr>\n",
       "    <tr>\n",
       "      <th>max</th>\n",
       "      <td>151.209290</td>\n",
       "      <td>71.228069</td>\n",
       "      <td>3.020040e+08</td>\n",
       "      <td>27.000000</td>\n",
       "      <td>60000.000000</td>\n",
       "      <td>68100.000000</td>\n",
       "      <td>90.000000</td>\n",
       "      <td>3.020003e+08</td>\n",
       "      <td>26.000000</td>\n",
       "      <td>60000.000000</td>\n",
       "      <td>68100.000000</td>\n",
       "      <td>90.000000</td>\n",
       "    </tr>\n",
       "  </tbody>\n",
       "</table>\n",
       "</div>"
      ],
      "text/plain": [
       "       longitude_gps  latitude_gps  systemloanid_x  loannumber_x  \\\n",
       "count   13693.000000  13693.000000    1.369300e+04  13693.000000   \n",
       "mean        4.482207      7.291442    3.019801e+08      8.401081   \n",
       "std         8.639590      3.436232    1.343531e+04      4.318780   \n",
       "min      -118.247009    -33.868818    3.019585e+08      2.000000   \n",
       "25%         3.354793      6.471885    3.019678e+08      5.000000   \n",
       "50%         3.576022      6.617633    3.019787e+08      8.000000   \n",
       "75%         6.364658      7.421333    3.019929e+08     11.000000   \n",
       "max       151.209290     71.228069    3.020040e+08     27.000000   \n",
       "\n",
       "       loanamount_x    totaldue_x    termdays_x  systemloanid_y  loannumber_y  \\\n",
       "count  13693.000000  13693.000000  13693.000000    1.369300e+04  13693.000000   \n",
       "mean   25688.673045  29812.666494     33.233769    3.018395e+08      4.200760   \n",
       "std    12625.374212  13772.770273     14.440482    9.304690e+04      3.269552   \n",
       "min    10000.000000  10000.000000     15.000000    3.016001e+08      1.000000   \n",
       "25%    10000.000000  13000.000000     30.000000    3.017767e+08      2.000000   \n",
       "50%    30000.000000  33000.000000     30.000000    3.018545e+08      3.000000   \n",
       "75%    40000.000000  44000.000000     30.000000    3.019193e+08      6.000000   \n",
       "max    60000.000000  68100.000000     90.000000    3.020003e+08     26.000000   \n",
       "\n",
       "       loanamount_y    totaldue_y    termdays_y  \n",
       "count  13693.000000  13693.000000  13693.000000  \n",
       "mean   16566.347769  19646.612269     26.742131  \n",
       "std     9375.687619  10512.238823     10.997624  \n",
       "min     3000.000000   3900.000000     15.000000  \n",
       "25%    10000.000000  11500.000000     15.000000  \n",
       "50%    10000.000000  13000.000000     30.000000  \n",
       "75%    20000.000000  24500.000000     30.000000  \n",
       "max    60000.000000  68100.000000     90.000000  "
      ]
     },
     "execution_count": 11,
     "metadata": {},
     "output_type": "execute_result"
    }
   ],
   "source": [
    "combined_df.describe()"
   ]
  },
  {
   "cell_type": "code",
   "execution_count": 12,
   "metadata": {},
   "outputs": [
    {
     "data": {
      "text/plain": [
       "customerid                        0\n",
       "birthdate                         0\n",
       "bank_account_type                 0\n",
       "longitude_gps                     0\n",
       "latitude_gps                      0\n",
       "bank_name_clients                 0\n",
       "bank_branch_clients           13589\n",
       "employment_status_clients      1363\n",
       "level_of_education_clients    10229\n",
       "systemloanid_x                    0\n",
       "loannumber_x                      0\n",
       "approveddate_x                    0\n",
       "creationdate_x                    0\n",
       "loanamount_x                      0\n",
       "totaldue_x                        0\n",
       "termdays_x                        0\n",
       "referredby_x                  12891\n",
       "good_bad_flag                     0\n",
       "systemloanid_y                    0\n",
       "loannumber_y                      0\n",
       "approveddate_y                    0\n",
       "creationdate_y                    0\n",
       "loanamount_y                      0\n",
       "totaldue_y                        0\n",
       "termdays_y                        0\n",
       "closeddate                        0\n",
       "referredby_y                  12891\n",
       "firstduedate                      0\n",
       "firstrepaiddate                   0\n",
       "dtype: int64"
      ]
     },
     "execution_count": 12,
     "metadata": {},
     "output_type": "execute_result"
    }
   ],
   "source": [
    "combined_df.isnull().sum()"
   ]
  },
  {
   "cell_type": "code",
   "execution_count": 13,
   "metadata": {},
   "outputs": [],
   "source": [
    "#dropping variables with an extremely high number of missing values\n",
    "new_combine_data = combined_df.drop(columns = ['bank_branch_clients','level_of_education_clients','referredby_x','referredby_y'])"
   ]
  },
  {
   "cell_type": "code",
   "execution_count": 14,
   "metadata": {},
   "outputs": [
    {
     "data": {
      "text/plain": [
       "customerid                      0\n",
       "birthdate                       0\n",
       "bank_account_type               0\n",
       "longitude_gps                   0\n",
       "latitude_gps                    0\n",
       "bank_name_clients               0\n",
       "employment_status_clients    1363\n",
       "systemloanid_x                  0\n",
       "loannumber_x                    0\n",
       "approveddate_x                  0\n",
       "creationdate_x                  0\n",
       "loanamount_x                    0\n",
       "totaldue_x                      0\n",
       "termdays_x                      0\n",
       "good_bad_flag                   0\n",
       "systemloanid_y                  0\n",
       "loannumber_y                    0\n",
       "approveddate_y                  0\n",
       "creationdate_y                  0\n",
       "loanamount_y                    0\n",
       "totaldue_y                      0\n",
       "termdays_y                      0\n",
       "closeddate                      0\n",
       "firstduedate                    0\n",
       "firstrepaiddate                 0\n",
       "dtype: int64"
      ]
     },
     "execution_count": 14,
     "metadata": {},
     "output_type": "execute_result"
    }
   ],
   "source": [
    "new_combine_data.isnull().sum()"
   ]
  },
  {
   "cell_type": "code",
   "execution_count": 15,
   "metadata": {},
   "outputs": [
    {
     "data": {
      "text/plain": [
       "Permanent        9138\n",
       "Self-Employed    2319\n",
       "Student           615\n",
       "Unemployed        219\n",
       "Retired            29\n",
       "Contract           10\n",
       "Name: employment_status_clients, dtype: int64"
      ]
     },
     "execution_count": 15,
     "metadata": {},
     "output_type": "execute_result"
    }
   ],
   "source": [
    "new_combine_data['employment_status_clients'].value_counts()"
   ]
  },
  {
   "cell_type": "code",
   "execution_count": 16,
   "metadata": {},
   "outputs": [],
   "source": [
    "#Replacing the missing values in employment status clients with the most occuring category\n",
    "\n",
    "def most_frequent_replace(df, colName):\n",
    "    frequent_cat = df[colName].mode()[0]\n",
    "    \n",
    "    #Replace the nan values with the most occuring category\n",
    "    df[colName+'_new'] = df[colName]\n",
    "    df[colName+'_new'].fillna(frequent_cat)"
   ]
  },
  {
   "cell_type": "code",
   "execution_count": 17,
   "metadata": {},
   "outputs": [],
   "source": [
    "#Call function to replace missing values\n",
    "#most_frequent_replace(new_combine_data,'employment_status_clients')"
   ]
  },
  {
   "cell_type": "code",
   "execution_count": 18,
   "metadata": {},
   "outputs": [],
   "source": [
    "frequent_cat = new_combine_data['employment_status_clients'].mode()[0]"
   ]
  },
  {
   "cell_type": "code",
   "execution_count": 19,
   "metadata": {},
   "outputs": [],
   "source": [
    "new_combine_data['employment_status_clients_new']= new_combine_data['employment_status_clients'].fillna(frequent_cat)"
   ]
  },
  {
   "cell_type": "code",
   "execution_count": 20,
   "metadata": {},
   "outputs": [
    {
     "data": {
      "text/plain": [
       "customerid                          0\n",
       "birthdate                           0\n",
       "bank_account_type                   0\n",
       "longitude_gps                       0\n",
       "latitude_gps                        0\n",
       "bank_name_clients                   0\n",
       "employment_status_clients        1363\n",
       "systemloanid_x                      0\n",
       "loannumber_x                        0\n",
       "approveddate_x                      0\n",
       "creationdate_x                      0\n",
       "loanamount_x                        0\n",
       "totaldue_x                          0\n",
       "termdays_x                          0\n",
       "good_bad_flag                       0\n",
       "systemloanid_y                      0\n",
       "loannumber_y                        0\n",
       "approveddate_y                      0\n",
       "creationdate_y                      0\n",
       "loanamount_y                        0\n",
       "totaldue_y                          0\n",
       "termdays_y                          0\n",
       "closeddate                          0\n",
       "firstduedate                        0\n",
       "firstrepaiddate                     0\n",
       "employment_status_clients_new       0\n",
       "dtype: int64"
      ]
     },
     "execution_count": 20,
     "metadata": {},
     "output_type": "execute_result"
    }
   ],
   "source": [
    "new_combine_data.isnull().sum()"
   ]
  },
  {
   "cell_type": "code",
   "execution_count": 21,
   "metadata": {},
   "outputs": [],
   "source": [
    "final_data = new_combine_data.drop(columns = ['employment_status_clients'])"
   ]
  },
  {
   "cell_type": "code",
   "execution_count": 22,
   "metadata": {},
   "outputs": [
    {
     "data": {
      "text/html": [
       "<div>\n",
       "<style scoped>\n",
       "    .dataframe tbody tr th:only-of-type {\n",
       "        vertical-align: middle;\n",
       "    }\n",
       "\n",
       "    .dataframe tbody tr th {\n",
       "        vertical-align: top;\n",
       "    }\n",
       "\n",
       "    .dataframe thead th {\n",
       "        text-align: right;\n",
       "    }\n",
       "</style>\n",
       "<table border=\"1\" class=\"dataframe\">\n",
       "  <thead>\n",
       "    <tr style=\"text-align: right;\">\n",
       "      <th></th>\n",
       "      <th>longitude_gps</th>\n",
       "      <th>latitude_gps</th>\n",
       "      <th>systemloanid_x</th>\n",
       "      <th>loannumber_x</th>\n",
       "      <th>loanamount_x</th>\n",
       "      <th>totaldue_x</th>\n",
       "      <th>termdays_x</th>\n",
       "      <th>systemloanid_y</th>\n",
       "      <th>loannumber_y</th>\n",
       "      <th>loanamount_y</th>\n",
       "      <th>totaldue_y</th>\n",
       "      <th>termdays_y</th>\n",
       "    </tr>\n",
       "  </thead>\n",
       "  <tbody>\n",
       "    <tr>\n",
       "      <th>count</th>\n",
       "      <td>13693.000000</td>\n",
       "      <td>13693.000000</td>\n",
       "      <td>1.369300e+04</td>\n",
       "      <td>13693.000000</td>\n",
       "      <td>13693.000000</td>\n",
       "      <td>13693.000000</td>\n",
       "      <td>13693.000000</td>\n",
       "      <td>1.369300e+04</td>\n",
       "      <td>13693.000000</td>\n",
       "      <td>13693.000000</td>\n",
       "      <td>13693.000000</td>\n",
       "      <td>13693.000000</td>\n",
       "    </tr>\n",
       "    <tr>\n",
       "      <th>mean</th>\n",
       "      <td>4.482207</td>\n",
       "      <td>7.291442</td>\n",
       "      <td>3.019801e+08</td>\n",
       "      <td>8.401081</td>\n",
       "      <td>25688.673045</td>\n",
       "      <td>29812.666494</td>\n",
       "      <td>33.233769</td>\n",
       "      <td>3.018395e+08</td>\n",
       "      <td>4.200760</td>\n",
       "      <td>16566.347769</td>\n",
       "      <td>19646.612269</td>\n",
       "      <td>26.742131</td>\n",
       "    </tr>\n",
       "    <tr>\n",
       "      <th>std</th>\n",
       "      <td>8.639590</td>\n",
       "      <td>3.436232</td>\n",
       "      <td>1.343531e+04</td>\n",
       "      <td>4.318780</td>\n",
       "      <td>12625.374212</td>\n",
       "      <td>13772.770273</td>\n",
       "      <td>14.440482</td>\n",
       "      <td>9.304690e+04</td>\n",
       "      <td>3.269552</td>\n",
       "      <td>9375.687619</td>\n",
       "      <td>10512.238823</td>\n",
       "      <td>10.997624</td>\n",
       "    </tr>\n",
       "    <tr>\n",
       "      <th>min</th>\n",
       "      <td>-118.247009</td>\n",
       "      <td>-33.868818</td>\n",
       "      <td>3.019585e+08</td>\n",
       "      <td>2.000000</td>\n",
       "      <td>10000.000000</td>\n",
       "      <td>10000.000000</td>\n",
       "      <td>15.000000</td>\n",
       "      <td>3.016001e+08</td>\n",
       "      <td>1.000000</td>\n",
       "      <td>3000.000000</td>\n",
       "      <td>3900.000000</td>\n",
       "      <td>15.000000</td>\n",
       "    </tr>\n",
       "    <tr>\n",
       "      <th>25%</th>\n",
       "      <td>3.354793</td>\n",
       "      <td>6.471885</td>\n",
       "      <td>3.019678e+08</td>\n",
       "      <td>5.000000</td>\n",
       "      <td>10000.000000</td>\n",
       "      <td>13000.000000</td>\n",
       "      <td>30.000000</td>\n",
       "      <td>3.017767e+08</td>\n",
       "      <td>2.000000</td>\n",
       "      <td>10000.000000</td>\n",
       "      <td>11500.000000</td>\n",
       "      <td>15.000000</td>\n",
       "    </tr>\n",
       "    <tr>\n",
       "      <th>50%</th>\n",
       "      <td>3.576022</td>\n",
       "      <td>6.617633</td>\n",
       "      <td>3.019787e+08</td>\n",
       "      <td>8.000000</td>\n",
       "      <td>30000.000000</td>\n",
       "      <td>33000.000000</td>\n",
       "      <td>30.000000</td>\n",
       "      <td>3.018545e+08</td>\n",
       "      <td>3.000000</td>\n",
       "      <td>10000.000000</td>\n",
       "      <td>13000.000000</td>\n",
       "      <td>30.000000</td>\n",
       "    </tr>\n",
       "    <tr>\n",
       "      <th>75%</th>\n",
       "      <td>6.364658</td>\n",
       "      <td>7.421333</td>\n",
       "      <td>3.019929e+08</td>\n",
       "      <td>11.000000</td>\n",
       "      <td>40000.000000</td>\n",
       "      <td>44000.000000</td>\n",
       "      <td>30.000000</td>\n",
       "      <td>3.019193e+08</td>\n",
       "      <td>6.000000</td>\n",
       "      <td>20000.000000</td>\n",
       "      <td>24500.000000</td>\n",
       "      <td>30.000000</td>\n",
       "    </tr>\n",
       "    <tr>\n",
       "      <th>max</th>\n",
       "      <td>151.209290</td>\n",
       "      <td>71.228069</td>\n",
       "      <td>3.020040e+08</td>\n",
       "      <td>27.000000</td>\n",
       "      <td>60000.000000</td>\n",
       "      <td>68100.000000</td>\n",
       "      <td>90.000000</td>\n",
       "      <td>3.020003e+08</td>\n",
       "      <td>26.000000</td>\n",
       "      <td>60000.000000</td>\n",
       "      <td>68100.000000</td>\n",
       "      <td>90.000000</td>\n",
       "    </tr>\n",
       "  </tbody>\n",
       "</table>\n",
       "</div>"
      ],
      "text/plain": [
       "       longitude_gps  latitude_gps  systemloanid_x  loannumber_x  \\\n",
       "count   13693.000000  13693.000000    1.369300e+04  13693.000000   \n",
       "mean        4.482207      7.291442    3.019801e+08      8.401081   \n",
       "std         8.639590      3.436232    1.343531e+04      4.318780   \n",
       "min      -118.247009    -33.868818    3.019585e+08      2.000000   \n",
       "25%         3.354793      6.471885    3.019678e+08      5.000000   \n",
       "50%         3.576022      6.617633    3.019787e+08      8.000000   \n",
       "75%         6.364658      7.421333    3.019929e+08     11.000000   \n",
       "max       151.209290     71.228069    3.020040e+08     27.000000   \n",
       "\n",
       "       loanamount_x    totaldue_x    termdays_x  systemloanid_y  loannumber_y  \\\n",
       "count  13693.000000  13693.000000  13693.000000    1.369300e+04  13693.000000   \n",
       "mean   25688.673045  29812.666494     33.233769    3.018395e+08      4.200760   \n",
       "std    12625.374212  13772.770273     14.440482    9.304690e+04      3.269552   \n",
       "min    10000.000000  10000.000000     15.000000    3.016001e+08      1.000000   \n",
       "25%    10000.000000  13000.000000     30.000000    3.017767e+08      2.000000   \n",
       "50%    30000.000000  33000.000000     30.000000    3.018545e+08      3.000000   \n",
       "75%    40000.000000  44000.000000     30.000000    3.019193e+08      6.000000   \n",
       "max    60000.000000  68100.000000     90.000000    3.020003e+08     26.000000   \n",
       "\n",
       "       loanamount_y    totaldue_y    termdays_y  \n",
       "count  13693.000000  13693.000000  13693.000000  \n",
       "mean   16566.347769  19646.612269     26.742131  \n",
       "std     9375.687619  10512.238823     10.997624  \n",
       "min     3000.000000   3900.000000     15.000000  \n",
       "25%    10000.000000  11500.000000     15.000000  \n",
       "50%    10000.000000  13000.000000     30.000000  \n",
       "75%    20000.000000  24500.000000     30.000000  \n",
       "max    60000.000000  68100.000000     90.000000  "
      ]
     },
     "execution_count": 22,
     "metadata": {},
     "output_type": "execute_result"
    }
   ],
   "source": [
    "final_data.describe()"
   ]
  },
  {
   "cell_type": "code",
   "execution_count": 23,
   "metadata": {},
   "outputs": [],
   "source": [
    "#Exploratory Data Analysis\n",
    "#Using box-plots for continous data\n",
    "# Using box plots to spot outliers / anomalies\n",
    "def box_plot(df, colName):\n",
    "    fig,ax = plt.subplots(figsize=(10,7))\n",
    "    \n",
    "    ax.grid(color='grey', axis='y', linestyle='-',\n",
    "            linewidth=0.25, alpha=0.5)\n",
    "    \n",
    "    ax.set_title(colName)\n",
    "    \n",
    "    plt.boxplot(df[colName])\n",
    "    \n",
    "    plt.show()"
   ]
  },
  {
   "cell_type": "code",
   "execution_count": 24,
   "metadata": {},
   "outputs": [],
   "source": [
    "int_columns = ['systemloanid_x','loannumber_x','termdays_x','systemloanid_y','loannumber_y','termdays_y']\n",
    "\n",
    "float_columns =['longitude_gps','latitude_gps','loanamount_x','totaldue_x','loanamount_y','totaldue_y']\n",
    "\n"
   ]
  },
  {
   "cell_type": "code",
   "execution_count": 25,
   "metadata": {},
   "outputs": [
    {
     "data": {
      "image/png": "[encoded data removed]",
      "text/plain": [
       "<Figure size 720x504 with 1 Axes>"
      ]
     },
     "metadata": {
      "needs_background": "light"
     },
     "output_type": "display_data"
    },
    {
     "data": {
      "image/png": "[encoded data removed]",
      "text/plain": [
       "<Figure size 720x504 with 1 Axes>"
      ]
     },
     "metadata": {
      "needs_background": "light"
     },
     "output_type": "display_data"
    },
    {
     "data": {
      "image/png": "[encoded data removed]",
      "text/plain": [
       "<Figure size 720x504 with 1 Axes>"
      ]
     },
     "metadata": {
      "needs_background": "light"
     },
     "output_type": "display_data"
    },
    {
     "data": {
      "image/png": "[encoded data removed]",
      "text/plain": [
       "<Figure size 720x504 with 1 Axes>"
      ]
     },
     "metadata": {
      "needs_background": "light"
     },
     "output_type": "display_data"
    },
    {
     "data": {
      "image/png": "[encoded data removed]",
      "text/plain": [
       "<Figure size 720x504 with 1 Axes>"
      ]
     },
     "metadata": {
      "needs_background": "light"
     },
     "output_type": "display_data"
    },
    {
     "data": {
      "image/png": "[encoded data removed]",
      "text/plain": [
       "<Figure size 720x504 with 1 Axes>"
      ]
     },
     "metadata": {
      "needs_background": "light"
     },
     "output_type": "display_data"
    }
   ],
   "source": [
    "for column in int_columns:\n",
    "    box_plot(final_data,column)"
   ]
  },
  {
   "cell_type": "code",
   "execution_count": 26,
   "metadata": {},
   "outputs": [
    {
     "data": {
      "image/png": "[encoded data removed]",
      "text/plain": [
       "<Figure size 720x504 with 1 Axes>"
      ]
     },
     "metadata": {
      "needs_background": "light"
     },
     "output_type": "display_data"
    },
    {
     "data": {
      "image/png": "[encoded data removed]",
      "text/plain": [
       "<Figure size 720x504 with 1 Axes>"
      ]
     },
     "metadata": {
      "needs_background": "light"
     },
     "output_type": "display_data"
    },
    {
     "data": {
      "image/png": "[encoded data removed]",
      "text/plain": [
       "<Figure size 720x504 with 1 Axes>"
      ]
     },
     "metadata": {
      "needs_background": "light"
     },
     "output_type": "display_data"
    },
    {
     "data": {
      "image/png": "[encoded data removed]",
      "text/plain": [
       "<Figure size 720x504 with 1 Axes>"
      ]
     },
     "metadata": {
      "needs_background": "light"
     },
     "output_type": "display_data"
    },
    {
     "data": {
      "image/png": "[encoded data removed]",
      "text/plain": [
       "<Figure size 720x504 with 1 Axes>"
      ]
     },
     "metadata": {
      "needs_background": "light"
     },
     "output_type": "display_data"
    },
    {
     "data": {
      "image/png": "[encoded data removed]",
      "text/plain": [
       "<Figure size 720x504 with 1 Axes>"
      ]
     },
     "metadata": {
      "needs_background": "light"
     },
     "output_type": "display_data"
    }
   ],
   "source": [
    "for column in float_columns:\n",
    "    box_plot(final_data,column)"
   ]
  },
  {
   "cell_type": "code",
   "execution_count": 27,
   "metadata": {},
   "outputs": [],
   "source": [
    "#Visualization of categorical variables\n",
    "def box_plot(dataframe, colName):\n",
    "    \n",
    "    fig, ax = plt.subplots(figsize=(6,4))\n",
    "\n",
    "    #Add major gridlines in the y-axis\n",
    "    ax.grid(color='grey', axis='y', linestyle='-',\n",
    "        linewidth=0.25, alpha=0.5)\n",
    "    ax.set_title(colName)\n",
    "    ax.hist(dataframe[colName], color = \"green\")\n",
    "    plt.show()"
   ]
  },
  {
   "cell_type": "code",
   "execution_count": 28,
   "metadata": {},
   "outputs": [],
   "source": [
    "cat_columns = ['bank_account_type','bank_name_clients','good_bad_flag','employment_status_clients_new']"
   ]
  },
  {
   "cell_type": "code",
   "execution_count": 29,
   "metadata": {},
   "outputs": [
    {
     "data": {
      "image/png": "[encoded data removed]",
      "text/plain": [
       "<Figure size 432x288 with 1 Axes>"
      ]
     },
     "metadata": {
      "needs_background": "light"
     },
     "output_type": "display_data"
    },
    {
     "data": {
      "image/png": "[encoded data removed]",
      "text/plain": [
       "<Figure size 432x288 with 1 Axes>"
      ]
     },
     "metadata": {
      "needs_background": "light"
     },
     "output_type": "display_data"
    },
    {
     "data": {
      "image/png": "[encoded data removed]",
      "text/plain": [
       "<Figure size 432x288 with 1 Axes>"
      ]
     },
     "metadata": {
      "needs_background": "light"
     },
     "output_type": "display_data"
    },
    {
     "data": {
      "image/png": "[encoded data removed]",
      "text/plain": [
       "<Figure size 432x288 with 1 Axes>"
      ]
     },
     "metadata": {
      "needs_background": "light"
     },
     "output_type": "display_data"
    }
   ],
   "source": [
    "for column in cat_columns:\n",
    "    box_plot(final_data,column)"
   ]
  },
  {
   "cell_type": "code",
   "execution_count": 30,
   "metadata": {},
   "outputs": [
    {
     "data": {
      "text/plain": [
       "Good    11165\n",
       "Bad      2528\n",
       "Name: good_bad_flag, dtype: int64"
      ]
     },
     "execution_count": 30,
     "metadata": {},
     "output_type": "execute_result"
    }
   ],
   "source": [
    "final_data['good_bad_flag'].value_counts()"
   ]
  },
  {
   "cell_type": "code",
   "execution_count": 31,
   "metadata": {},
   "outputs": [
    {
     "data": {
      "image/png": "[encoded data removed]",
      "text/plain": [
       "<Figure size 432x288 with 1 Axes>"
      ]
     },
     "metadata": {
      "needs_background": "light"
     },
     "output_type": "display_data"
    }
   ],
   "source": [
    "fig, ax = plt.subplots()\n",
    "\n",
    "ax.hist(final_data[final_data['good_bad_flag']=='Good']['loannumber_x'], bins=15, alpha=0.5, color=\"blue\", label=\"Good\")\n",
    "ax.hist(final_data[final_data['good_bad_flag']=='Bad']['loannumber_x'], bins=15, alpha=0.5, color=\"green\", label=\"Bad\")\n",
    "\n",
    "ax.set_xlabel(\"Number of Loans\")\n",
    "ax.set_ylabel(\"Frequency\")\n",
    "\n",
    "fig.suptitle(\"Number of Loans against the Type of Loan\")\n",
    "\n",
    "ax.legend();"
   ]
  },
  {
   "cell_type": "code",
   "execution_count": 32,
   "metadata": {},
   "outputs": [
    {
     "data": {
      "image/png": "[encoded data removed]",
      "text/plain": [
       "<Figure size 432x288 with 1 Axes>"
      ]
     },
     "metadata": {
      "needs_background": "light"
     },
     "output_type": "display_data"
    }
   ],
   "source": [
    "fig, ax = plt.subplots()\n",
    "\n",
    "ax.hist(final_data[final_data['good_bad_flag']=='Good']['loanamount_x'], bins=15, alpha=0.5, color=\"blue\", label=\"Good\")\n",
    "ax.hist(final_data[final_data['good_bad_flag']=='Bad']['loanamount_x'], bins=15, alpha=0.5, color=\"green\", label=\"Bad\")\n",
    "\n",
    "ax.set_xlabel(\"Amount of Loan\")\n",
    "ax.set_ylabel(\"Frequency\")\n",
    "\n",
    "fig.suptitle(\"Amount of Loan against the Type of Loan\")\n",
    "\n",
    "ax.legend();"
   ]
  },
  {
   "cell_type": "code",
   "execution_count": 33,
   "metadata": {},
   "outputs": [
    {
     "data": {
      "image/png": "[encoded data removed]",
      "text/plain": [
       "<Figure size 432x288 with 1 Axes>"
      ]
     },
     "metadata": {
      "needs_background": "light"
     },
     "output_type": "display_data"
    }
   ],
   "source": [
    "fig, ax = plt.subplots()\n",
    "\n",
    "ax.hist(final_data[final_data['good_bad_flag']=='Good']['totaldue_x'], bins=15, alpha=0.5, color=\"blue\", label=\"Good\")\n",
    "ax.hist(final_data[final_data['good_bad_flag']=='Bad']['totaldue_x'], bins=15, alpha=0.5, color=\"green\", label=\"Bad\")\n",
    "\n",
    "ax.set_xlabel(\"Total Loan Due\")\n",
    "ax.set_ylabel(\"Frequency\")\n",
    "\n",
    "fig.suptitle(\"Loan Due against the Type of Loan\")\n",
    "\n",
    "ax.legend();"
   ]
  },
  {
   "cell_type": "code",
   "execution_count": 34,
   "metadata": {},
   "outputs": [
    {
     "data": {
      "image/png": "[encoded data removed]",
      "text/plain": [
       "<Figure size 432x288 with 1 Axes>"
      ]
     },
     "metadata": {
      "needs_background": "light"
     },
     "output_type": "display_data"
    }
   ],
   "source": [
    "fig, ax = plt.subplots()\n",
    "\n",
    "ax.hist(final_data[final_data['good_bad_flag']=='Good']['termdays_x'], bins=15, alpha=0.5, color=\"blue\", label=\"Good\")\n",
    "ax.hist(final_data[final_data['good_bad_flag']=='Bad']['termdays_x'], bins=15, alpha=0.5, color=\"green\", label=\"Bad\")\n",
    "\n",
    "ax.set_xlabel(\"Term Days\")\n",
    "ax.set_ylabel(\"Frequency\")\n",
    "\n",
    "fig.suptitle(\"Term Days against the Type of Loan\")\n",
    "\n",
    "ax.legend();"
   ]
  },
  {
   "cell_type": "code",
   "execution_count": 35,
   "metadata": {},
   "outputs": [
    {
     "data": {
      "image/png": "[encoded data removed]",
      "text/plain": [
       "<Figure size 432x288 with 1 Axes>"
      ]
     },
     "metadata": {
      "needs_background": "light"
     },
     "output_type": "display_data"
    }
   ],
   "source": [
    "fig, ax = plt.subplots()\n",
    "\n",
    "ax.hist(final_data[final_data['good_bad_flag']=='Good']['loannumber_y'], bins=15, alpha=0.5, color=\"blue\", label=\"Good\")\n",
    "ax.hist(final_data[final_data['good_bad_flag']=='Bad']['loannumber_y'], bins=15, alpha=0.5, color=\"green\", label=\"Bad\")\n",
    "\n",
    "ax.set_xlabel(\"Loan Number_Y\")\n",
    "ax.set_ylabel(\"Frequency\")\n",
    "\n",
    "fig.suptitle(\"Number of Loans_Y against the Type of Loan\")\n",
    "\n",
    "ax.legend();"
   ]
  },
  {
   "cell_type": "code",
   "execution_count": 36,
   "metadata": {},
   "outputs": [
    {
     "data": {
      "image/png": "[encoded data removed]",
      "text/plain": [
       "<Figure size 432x288 with 1 Axes>"
      ]
     },
     "metadata": {
      "needs_background": "light"
     },
     "output_type": "display_data"
    }
   ],
   "source": [
    "fig, ax = plt.subplots()\n",
    "\n",
    "ax.hist(final_data[final_data['good_bad_flag']=='Good']['loanamount_y'], bins=15, alpha=0.5, color=\"blue\", label=\"Good\")\n",
    "ax.hist(final_data[final_data['good_bad_flag']=='Bad']['loanamount_y'], bins=15, alpha=0.5, color=\"green\", label=\"Bad\")\n",
    "\n",
    "ax.set_xlabel(\"Amount of Loan_Y\")\n",
    "ax.set_ylabel(\"Frequency\")\n",
    "\n",
    "fig.suptitle(\"Amount of Loan_Y against the Type of Loan\")\n",
    "\n",
    "ax.legend();"
   ]
  },
  {
   "cell_type": "code",
   "execution_count": 37,
   "metadata": {},
   "outputs": [
    {
     "data": {
      "image/png": "[encoded data removed]",
      "text/plain": [
       "<Figure size 432x288 with 1 Axes>"
      ]
     },
     "metadata": {
      "needs_background": "light"
     },
     "output_type": "display_data"
    }
   ],
   "source": [
    "fig, ax = plt.subplots()\n",
    "\n",
    "ax.hist(final_data[final_data['good_bad_flag']=='Good']['totaldue_y'], bins=15, alpha=0.5, color=\"blue\", label=\"Good\")\n",
    "ax.hist(final_data[final_data['good_bad_flag']=='Bad']['totaldue_y'], bins=15, alpha=0.5, color=\"green\", label=\"Bad\")\n",
    "\n",
    "ax.set_xlabel(\"Total Loan Due_Y\")\n",
    "ax.set_ylabel(\"Frequency\")\n",
    "\n",
    "fig.suptitle(\"Loan Due_Y against the Type of Loan\")\n",
    "\n",
    "ax.legend();"
   ]
  },
  {
   "cell_type": "code",
   "execution_count": 38,
   "metadata": {},
   "outputs": [
    {
     "data": {
      "image/png": "[encoded data removed]",
      "text/plain": [
       "<Figure size 432x288 with 1 Axes>"
      ]
     },
     "metadata": {
      "needs_background": "light"
     },
     "output_type": "display_data"
    }
   ],
   "source": [
    "fig, ax = plt.subplots()\n",
    "\n",
    "ax.hist(final_data[final_data['good_bad_flag']=='Good']['termdays_y'], bins=15, alpha=0.5, color=\"blue\", label=\"Good\")\n",
    "ax.hist(final_data[final_data['good_bad_flag']=='Bad']['termdays_y'], bins=15, alpha=0.5, color=\"green\", label=\"Bad\")\n",
    "\n",
    "ax.set_xlabel(\"Term Days_Y\")\n",
    "ax.set_ylabel(\"Frequency\")\n",
    "\n",
    "fig.suptitle(\"Term Days_Y against the Type of Loan\")\n",
    "\n",
    "ax.legend();"
   ]
  },
  {
   "cell_type": "markdown",
   "metadata": {},
   "source": [
    "# Feature Engineering"
   ]
  },
  {
   "cell_type": "code",
   "execution_count": 39,
   "metadata": {},
   "outputs": [],
   "source": [
    "#Creatine numeric values for the target variable (1 for Good and 2 for Bad)\n",
    "\n",
    "final_data['good_bad_flag'] = final_data['good_bad_flag'].replace(['Good','Bad'],[1,0])"
   ]
  },
  {
   "cell_type": "code",
   "execution_count": 40,
   "metadata": {},
   "outputs": [
    {
     "name": "stdout",
     "output_type": "stream",
     "text": [
      "<class 'pandas.core.frame.DataFrame'>\n",
      "Int64Index: 13693 entries, 0 to 13692\n",
      "Data columns (total 25 columns):\n",
      " #   Column                         Non-Null Count  Dtype  \n",
      "---  ------                         --------------  -----  \n",
      " 0   customerid                     13693 non-null  object \n",
      " 1   birthdate                      13693 non-null  object \n",
      " 2   bank_account_type              13693 non-null  object \n",
      " 3   longitude_gps                  13693 non-null  float64\n",
      " 4   latitude_gps                   13693 non-null  float64\n",
      " 5   bank_name_clients              13693 non-null  object \n",
      " 6   systemloanid_x                 13693 non-null  int64  \n",
      " 7   loannumber_x                   13693 non-null  int64  \n",
      " 8   approveddate_x                 13693 non-null  object \n",
      " 9   creationdate_x                 13693 non-null  object \n",
      " 10  loanamount_x                   13693 non-null  float64\n",
      " 11  totaldue_x                     13693 non-null  float64\n",
      " 12  termdays_x                     13693 non-null  int64  \n",
      " 13  good_bad_flag                  13693 non-null  int64  \n",
      " 14  systemloanid_y                 13693 non-null  int64  \n",
      " 15  loannumber_y                   13693 non-null  int64  \n",
      " 16  approveddate_y                 13693 non-null  object \n",
      " 17  creationdate_y                 13693 non-null  object \n",
      " 18  loanamount_y                   13693 non-null  float64\n",
      " 19  totaldue_y                     13693 non-null  float64\n",
      " 20  termdays_y                     13693 non-null  int64  \n",
      " 21  closeddate                     13693 non-null  object \n",
      " 22  firstduedate                   13693 non-null  object \n",
      " 23  firstrepaiddate                13693 non-null  object \n",
      " 24  employment_status_clients_new  13693 non-null  object \n",
      "dtypes: float64(6), int64(7), object(12)\n",
      "memory usage: 2.7+ MB\n"
     ]
    }
   ],
   "source": [
    "final_data.info()"
   ]
  },
  {
   "cell_type": "code",
   "execution_count": 41,
   "metadata": {},
   "outputs": [],
   "source": [
    "#Categorical Variables and their unique types\n",
    "cat_variables = ['bank_account_type','bank_name_clients','employment_status_clients_new']"
   ]
  },
  {
   "cell_type": "code",
   "execution_count": 42,
   "metadata": {},
   "outputs": [
    {
     "name": "stdout",
     "output_type": "stream",
     "text": [
      "Savings    8311\n",
      "Other      5228\n",
      "Current     154\n",
      "Name: bank_account_type, dtype: int64\n",
      "________________\n",
      "GT Bank               5034\n",
      "First Bank            1932\n",
      "Access Bank           1270\n",
      "UBA                   1126\n",
      "Diamond Bank           983\n",
      "Zenith Bank            948\n",
      "Stanbic IBTC           489\n",
      "EcoBank                450\n",
      "FCMB                   420\n",
      "Skye Bank              272\n",
      "Fidelity Bank          267\n",
      "Sterling Bank          112\n",
      "Wema Bank               88\n",
      "Heritage Bank           87\n",
      "Keystone Bank           83\n",
      "Union Bank              74\n",
      "Standard Chartered      44\n",
      "Unity Bank              14\n",
      "Name: bank_name_clients, dtype: int64\n",
      "________________\n",
      "Permanent        10501\n",
      "Self-Employed     2319\n",
      "Student            615\n",
      "Unemployed         219\n",
      "Retired             29\n",
      "Contract            10\n",
      "Name: employment_status_clients_new, dtype: int64\n",
      "________________\n"
     ]
    }
   ],
   "source": [
    "for variable in cat_variables:\n",
    "    print(final_data[variable].value_counts())\n",
    "    print('________________')"
   ]
  },
  {
   "cell_type": "code",
   "execution_count": 43,
   "metadata": {},
   "outputs": [
    {
     "data": {
      "text/html": [
       "<div>\n",
       "<style scoped>\n",
       "    .dataframe tbody tr th:only-of-type {\n",
       "        vertical-align: middle;\n",
       "    }\n",
       "\n",
       "    .dataframe tbody tr th {\n",
       "        vertical-align: top;\n",
       "    }\n",
       "\n",
       "    .dataframe thead th {\n",
       "        text-align: right;\n",
       "    }\n",
       "</style>\n",
       "<table border=\"1\" class=\"dataframe\">\n",
       "  <thead>\n",
       "    <tr style=\"text-align: right;\">\n",
       "      <th></th>\n",
       "      <th>customerid</th>\n",
       "      <th>birthdate</th>\n",
       "      <th>bank_account_type</th>\n",
       "      <th>longitude_gps</th>\n",
       "      <th>latitude_gps</th>\n",
       "      <th>bank_name_clients</th>\n",
       "      <th>systemloanid_x</th>\n",
       "      <th>loannumber_x</th>\n",
       "      <th>approveddate_x</th>\n",
       "      <th>creationdate_x</th>\n",
       "      <th>...</th>\n",
       "      <th>loannumber_y</th>\n",
       "      <th>approveddate_y</th>\n",
       "      <th>creationdate_y</th>\n",
       "      <th>loanamount_y</th>\n",
       "      <th>totaldue_y</th>\n",
       "      <th>termdays_y</th>\n",
       "      <th>closeddate</th>\n",
       "      <th>firstduedate</th>\n",
       "      <th>firstrepaiddate</th>\n",
       "      <th>employment_status_clients_new</th>\n",
       "    </tr>\n",
       "  </thead>\n",
       "  <tbody>\n",
       "    <tr>\n",
       "      <th>0</th>\n",
       "      <td>8a858e135cb22031015cbafc76964ebd</td>\n",
       "      <td>1973-10-10 00:00:00.000000</td>\n",
       "      <td>Savings</td>\n",
       "      <td>3.319219</td>\n",
       "      <td>6.528604</td>\n",
       "      <td>GT Bank</td>\n",
       "      <td>301964962</td>\n",
       "      <td>2</td>\n",
       "      <td>2017-07-05 14:29:48.000000</td>\n",
       "      <td>2017-07-05 13:29:42.000000</td>\n",
       "      <td>...</td>\n",
       "      <td>1</td>\n",
       "      <td>2017-06-19 17:55:26.000000</td>\n",
       "      <td>2017-06-19 16:54:19.000000</td>\n",
       "      <td>10000.0</td>\n",
       "      <td>11500.0</td>\n",
       "      <td>15</td>\n",
       "      <td>2017-07-04 18:09:47.000000</td>\n",
       "      <td>2017-07-05 00:00:00.000000</td>\n",
       "      <td>2017-07-04 17:59:36.000000</td>\n",
       "      <td>Permanent</td>\n",
       "    </tr>\n",
       "    <tr>\n",
       "      <th>1</th>\n",
       "      <td>8a858e275c7ea5ec015c82482d7c3996</td>\n",
       "      <td>1986-01-21 00:00:00.000000</td>\n",
       "      <td>Savings</td>\n",
       "      <td>3.325598</td>\n",
       "      <td>7.119403</td>\n",
       "      <td>Sterling Bank</td>\n",
       "      <td>301972172</td>\n",
       "      <td>2</td>\n",
       "      <td>2017-07-10 21:21:46.000000</td>\n",
       "      <td>2017-07-10 20:21:40.000000</td>\n",
       "      <td>...</td>\n",
       "      <td>1</td>\n",
       "      <td>2017-06-07 12:47:30.000000</td>\n",
       "      <td>2017-06-07 11:46:22.000000</td>\n",
       "      <td>10000.0</td>\n",
       "      <td>13000.0</td>\n",
       "      <td>30</td>\n",
       "      <td>2017-07-10 08:52:54.000000</td>\n",
       "      <td>2017-07-07 00:00:00.000000</td>\n",
       "      <td>2017-07-10 08:42:44.000000</td>\n",
       "      <td>Permanent</td>\n",
       "    </tr>\n",
       "    <tr>\n",
       "      <th>2</th>\n",
       "      <td>8a858e5b5bd99460015bdc95cd485634</td>\n",
       "      <td>1987-04-01 00:00:00.000000</td>\n",
       "      <td>Savings</td>\n",
       "      <td>5.746100</td>\n",
       "      <td>5.563174</td>\n",
       "      <td>Fidelity Bank</td>\n",
       "      <td>301976271</td>\n",
       "      <td>4</td>\n",
       "      <td>2017-07-13 15:40:27.000000</td>\n",
       "      <td>2017-07-13 14:40:19.000000</td>\n",
       "      <td>...</td>\n",
       "      <td>3</td>\n",
       "      <td>2017-06-08 11:49:34.000000</td>\n",
       "      <td>2017-06-08 10:49:27.000000</td>\n",
       "      <td>10000.0</td>\n",
       "      <td>13000.0</td>\n",
       "      <td>30</td>\n",
       "      <td>2017-07-11 10:12:20.000000</td>\n",
       "      <td>2017-07-10 00:00:00.000000</td>\n",
       "      <td>2017-07-11 10:02:11.000000</td>\n",
       "      <td>Permanent</td>\n",
       "    </tr>\n",
       "    <tr>\n",
       "      <th>3</th>\n",
       "      <td>8a858e5b5bd99460015bdc95cd485634</td>\n",
       "      <td>1987-04-01 00:00:00.000000</td>\n",
       "      <td>Savings</td>\n",
       "      <td>5.746100</td>\n",
       "      <td>5.563174</td>\n",
       "      <td>Fidelity Bank</td>\n",
       "      <td>301976271</td>\n",
       "      <td>4</td>\n",
       "      <td>2017-07-13 15:40:27.000000</td>\n",
       "      <td>2017-07-13 14:40:19.000000</td>\n",
       "      <td>...</td>\n",
       "      <td>1</td>\n",
       "      <td>2017-05-08 11:07:01.000000</td>\n",
       "      <td>2017-05-08 10:06:40.000000</td>\n",
       "      <td>10000.0</td>\n",
       "      <td>11500.0</td>\n",
       "      <td>15</td>\n",
       "      <td>2017-05-27 13:02:53.000000</td>\n",
       "      <td>2017-05-23 00:00:00.000000</td>\n",
       "      <td>2017-05-27 12:52:45.000000</td>\n",
       "      <td>Permanent</td>\n",
       "    </tr>\n",
       "    <tr>\n",
       "      <th>4</th>\n",
       "      <td>8a858e5b5bd99460015bdc95cd485634</td>\n",
       "      <td>1987-04-01 00:00:00.000000</td>\n",
       "      <td>Savings</td>\n",
       "      <td>5.746100</td>\n",
       "      <td>5.563174</td>\n",
       "      <td>Fidelity Bank</td>\n",
       "      <td>301976271</td>\n",
       "      <td>4</td>\n",
       "      <td>2017-07-13 15:40:27.000000</td>\n",
       "      <td>2017-07-13 14:40:19.000000</td>\n",
       "      <td>...</td>\n",
       "      <td>2</td>\n",
       "      <td>2017-05-27 17:10:41.000000</td>\n",
       "      <td>2017-05-27 16:10:34.000000</td>\n",
       "      <td>10000.0</td>\n",
       "      <td>11500.0</td>\n",
       "      <td>15</td>\n",
       "      <td>2017-06-08 11:13:50.000000</td>\n",
       "      <td>2017-06-12 00:00:00.000000</td>\n",
       "      <td>2017-06-08 11:03:40.000000</td>\n",
       "      <td>Permanent</td>\n",
       "    </tr>\n",
       "  </tbody>\n",
       "</table>\n",
       "<p>5 rows × 25 columns</p>\n",
       "</div>"
      ],
      "text/plain": [
       "                         customerid                   birthdate  \\\n",
       "0  8a858e135cb22031015cbafc76964ebd  1973-10-10 00:00:00.000000   \n",
       "1  8a858e275c7ea5ec015c82482d7c3996  1986-01-21 00:00:00.000000   \n",
       "2  8a858e5b5bd99460015bdc95cd485634  1987-04-01 00:00:00.000000   \n",
       "3  8a858e5b5bd99460015bdc95cd485634  1987-04-01 00:00:00.000000   \n",
       "4  8a858e5b5bd99460015bdc95cd485634  1987-04-01 00:00:00.000000   \n",
       "\n",
       "  bank_account_type  longitude_gps  latitude_gps bank_name_clients  \\\n",
       "0           Savings       3.319219      6.528604           GT Bank   \n",
       "1           Savings       3.325598      7.119403     Sterling Bank   \n",
       "2           Savings       5.746100      5.563174     Fidelity Bank   \n",
       "3           Savings       5.746100      5.563174     Fidelity Bank   \n",
       "4           Savings       5.746100      5.563174     Fidelity Bank   \n",
       "\n",
       "   systemloanid_x  loannumber_x              approveddate_x  \\\n",
       "0       301964962             2  2017-07-05 14:29:48.000000   \n",
       "1       301972172             2  2017-07-10 21:21:46.000000   \n",
       "2       301976271             4  2017-07-13 15:40:27.000000   \n",
       "3       301976271             4  2017-07-13 15:40:27.000000   \n",
       "4       301976271             4  2017-07-13 15:40:27.000000   \n",
       "\n",
       "               creationdate_x  ...  loannumber_y              approveddate_y  \\\n",
       "0  2017-07-05 13:29:42.000000  ...             1  2017-06-19 17:55:26.000000   \n",
       "1  2017-07-10 20:21:40.000000  ...             1  2017-06-07 12:47:30.000000   \n",
       "2  2017-07-13 14:40:19.000000  ...             3  2017-06-08 11:49:34.000000   \n",
       "3  2017-07-13 14:40:19.000000  ...             1  2017-05-08 11:07:01.000000   \n",
       "4  2017-07-13 14:40:19.000000  ...             2  2017-05-27 17:10:41.000000   \n",
       "\n",
       "               creationdate_y  loanamount_y  totaldue_y  termdays_y  \\\n",
       "0  2017-06-19 16:54:19.000000       10000.0     11500.0          15   \n",
       "1  2017-06-07 11:46:22.000000       10000.0     13000.0          30   \n",
       "2  2017-06-08 10:49:27.000000       10000.0     13000.0          30   \n",
       "3  2017-05-08 10:06:40.000000       10000.0     11500.0          15   \n",
       "4  2017-05-27 16:10:34.000000       10000.0     11500.0          15   \n",
       "\n",
       "                   closeddate                firstduedate  \\\n",
       "0  2017-07-04 18:09:47.000000  2017-07-05 00:00:00.000000   \n",
       "1  2017-07-10 08:52:54.000000  2017-07-07 00:00:00.000000   \n",
       "2  2017-07-11 10:12:20.000000  2017-07-10 00:00:00.000000   \n",
       "3  2017-05-27 13:02:53.000000  2017-05-23 00:00:00.000000   \n",
       "4  2017-06-08 11:13:50.000000  2017-06-12 00:00:00.000000   \n",
       "\n",
       "              firstrepaiddate  employment_status_clients_new  \n",
       "0  2017-07-04 17:59:36.000000                      Permanent  \n",
       "1  2017-07-10 08:42:44.000000                      Permanent  \n",
       "2  2017-07-11 10:02:11.000000                      Permanent  \n",
       "3  2017-05-27 12:52:45.000000                      Permanent  \n",
       "4  2017-06-08 11:03:40.000000                      Permanent  \n",
       "\n",
       "[5 rows x 25 columns]"
      ]
     },
     "execution_count": 43,
     "metadata": {},
     "output_type": "execute_result"
    }
   ],
   "source": [
    "final_data.head(5)"
   ]
  },
  {
   "cell_type": "code",
   "execution_count": 44,
   "metadata": {},
   "outputs": [],
   "source": [
    "#Drop irrelevant variables from the dataset\n",
    "final_data = final_data.drop(columns = ['customerid','systemloanid_x','approveddate_x','creationdate_x','systemloanid_y','approveddate_y','creationdate_y'])"
   ]
  },
  {
   "cell_type": "code",
   "execution_count": 45,
   "metadata": {},
   "outputs": [
    {
     "name": "stdout",
     "output_type": "stream",
     "text": [
      "<class 'pandas.core.frame.DataFrame'>\n",
      "Int64Index: 13693 entries, 0 to 13692\n",
      "Data columns (total 18 columns):\n",
      " #   Column                         Non-Null Count  Dtype  \n",
      "---  ------                         --------------  -----  \n",
      " 0   birthdate                      13693 non-null  object \n",
      " 1   bank_account_type              13693 non-null  object \n",
      " 2   longitude_gps                  13693 non-null  float64\n",
      " 3   latitude_gps                   13693 non-null  float64\n",
      " 4   bank_name_clients              13693 non-null  object \n",
      " 5   loannumber_x                   13693 non-null  int64  \n",
      " 6   loanamount_x                   13693 non-null  float64\n",
      " 7   totaldue_x                     13693 non-null  float64\n",
      " 8   termdays_x                     13693 non-null  int64  \n",
      " 9   good_bad_flag                  13693 non-null  int64  \n",
      " 10  loannumber_y                   13693 non-null  int64  \n",
      " 11  loanamount_y                   13693 non-null  float64\n",
      " 12  totaldue_y                     13693 non-null  float64\n",
      " 13  termdays_y                     13693 non-null  int64  \n",
      " 14  closeddate                     13693 non-null  object \n",
      " 15  firstduedate                   13693 non-null  object \n",
      " 16  firstrepaiddate                13693 non-null  object \n",
      " 17  employment_status_clients_new  13693 non-null  object \n",
      "dtypes: float64(6), int64(5), object(7)\n",
      "memory usage: 2.0+ MB\n"
     ]
    }
   ],
   "source": [
    "final_data.info()"
   ]
  },
  {
   "cell_type": "markdown",
   "metadata": {},
   "source": [
    "# Dealing with Date Objects\n",
    "https://towardsdatascience.com/working-with-datetime-in-pandas-dataframe-663f7af6c587\n",
    "https://stackoverflow.com/questions/37840812/pandas-subtracting-two-date-columns-and-the-result-being-an-integer"
   ]
  },
  {
   "cell_type": "code",
   "execution_count": 46,
   "metadata": {},
   "outputs": [],
   "source": [
    "#Changing the date columns from strings to date format\n",
    "datetpye_col = ['birthdate','closeddate','firstduedate','firstrepaiddate']"
   ]
  },
  {
   "cell_type": "code",
   "execution_count": 47,
   "metadata": {},
   "outputs": [],
   "source": [
    "def string_to_date(dataFrame, colName):\n",
    "    dataFrame[colName] = pd.to_datetime(dataFrame[colName])"
   ]
  },
  {
   "cell_type": "code",
   "execution_count": 48,
   "metadata": {},
   "outputs": [],
   "source": [
    "#Calling the string to datetime conversion function\n",
    "for column in datetpye_col:\n",
    "    string_to_date(final_data, column)"
   ]
  },
  {
   "cell_type": "code",
   "execution_count": 49,
   "metadata": {},
   "outputs": [
    {
     "name": "stdout",
     "output_type": "stream",
     "text": [
      "<class 'pandas.core.frame.DataFrame'>\n",
      "Int64Index: 13693 entries, 0 to 13692\n",
      "Data columns (total 18 columns):\n",
      " #   Column                         Non-Null Count  Dtype         \n",
      "---  ------                         --------------  -----         \n",
      " 0   birthdate                      13693 non-null  datetime64[ns]\n",
      " 1   bank_account_type              13693 non-null  object        \n",
      " 2   longitude_gps                  13693 non-null  float64       \n",
      " 3   latitude_gps                   13693 non-null  float64       \n",
      " 4   bank_name_clients              13693 non-null  object        \n",
      " 5   loannumber_x                   13693 non-null  int64         \n",
      " 6   loanamount_x                   13693 non-null  float64       \n",
      " 7   totaldue_x                     13693 non-null  float64       \n",
      " 8   termdays_x                     13693 non-null  int64         \n",
      " 9   good_bad_flag                  13693 non-null  int64         \n",
      " 10  loannumber_y                   13693 non-null  int64         \n",
      " 11  loanamount_y                   13693 non-null  float64       \n",
      " 12  totaldue_y                     13693 non-null  float64       \n",
      " 13  termdays_y                     13693 non-null  int64         \n",
      " 14  closeddate                     13693 non-null  datetime64[ns]\n",
      " 15  firstduedate                   13693 non-null  datetime64[ns]\n",
      " 16  firstrepaiddate                13693 non-null  datetime64[ns]\n",
      " 17  employment_status_clients_new  13693 non-null  object        \n",
      "dtypes: datetime64[ns](4), float64(6), int64(5), object(3)\n",
      "memory usage: 2.0+ MB\n"
     ]
    }
   ],
   "source": [
    "final_data.info()"
   ]
  },
  {
   "cell_type": "code",
   "execution_count": 50,
   "metadata": {},
   "outputs": [],
   "source": [
    "#Create age from the birth date\n",
    "today = pd.to_datetime('today')\n",
    "final_data['age'] = today.year - final_data['birthdate'].dt.year"
   ]
  },
  {
   "cell_type": "code",
   "execution_count": 51,
   "metadata": {},
   "outputs": [],
   "source": [
    "#Drop the birthdate column\n",
    "final_data = final_data.drop(columns = ['birthdate'])"
   ]
  },
  {
   "cell_type": "code",
   "execution_count": 52,
   "metadata": {},
   "outputs": [
    {
     "name": "stdout",
     "output_type": "stream",
     "text": [
      "<class 'pandas.core.frame.DataFrame'>\n",
      "Int64Index: 13693 entries, 0 to 13692\n",
      "Data columns (total 18 columns):\n",
      " #   Column                         Non-Null Count  Dtype         \n",
      "---  ------                         --------------  -----         \n",
      " 0   bank_account_type              13693 non-null  object        \n",
      " 1   longitude_gps                  13693 non-null  float64       \n",
      " 2   latitude_gps                   13693 non-null  float64       \n",
      " 3   bank_name_clients              13693 non-null  object        \n",
      " 4   loannumber_x                   13693 non-null  int64         \n",
      " 5   loanamount_x                   13693 non-null  float64       \n",
      " 6   totaldue_x                     13693 non-null  float64       \n",
      " 7   termdays_x                     13693 non-null  int64         \n",
      " 8   good_bad_flag                  13693 non-null  int64         \n",
      " 9   loannumber_y                   13693 non-null  int64         \n",
      " 10  loanamount_y                   13693 non-null  float64       \n",
      " 11  totaldue_y                     13693 non-null  float64       \n",
      " 12  termdays_y                     13693 non-null  int64         \n",
      " 13  closeddate                     13693 non-null  datetime64[ns]\n",
      " 14  firstduedate                   13693 non-null  datetime64[ns]\n",
      " 15  firstrepaiddate                13693 non-null  datetime64[ns]\n",
      " 16  employment_status_clients_new  13693 non-null  object        \n",
      " 17  age                            13693 non-null  int64         \n",
      "dtypes: datetime64[ns](3), float64(6), int64(6), object(3)\n",
      "memory usage: 2.0+ MB\n"
     ]
    }
   ],
   "source": [
    "final_data.info()"
   ]
  },
  {
   "cell_type": "code",
   "execution_count": 53,
   "metadata": {},
   "outputs": [],
   "source": [
    "#Create a variable that calculates late or early payment based on\n",
    "#firstduedate and firstrepaid date\n",
    "final_data['pay_commit'] = (final_data['firstduedate']-final_data['firstrepaiddate']).dt.days"
   ]
  },
  {
   "cell_type": "code",
   "execution_count": 54,
   "metadata": {},
   "outputs": [
    {
     "data": {
      "text/plain": [
       "0        3.319219\n",
       "1        3.325598\n",
       "2        5.746100\n",
       "3        5.746100\n",
       "4        5.746100\n",
       "           ...   \n",
       "13683    7.046360\n",
       "13684    7.046360\n",
       "13685    7.046360\n",
       "13686    3.236753\n",
       "13687    3.236753\n",
       "Name: longitude_gps, Length: 13688, dtype: float64"
      ]
     },
     "execution_count": 54,
     "metadata": {},
     "output_type": "execute_result"
    }
   ],
   "source": [
    "final_data['longitude_gps'].head(-5)"
   ]
  },
  {
   "cell_type": "code",
   "execution_count": 55,
   "metadata": {},
   "outputs": [],
   "source": [
    "#Create a variable that calculates the repayment period based on\n",
    "#First due date and Closed Date\n",
    "final_data['repay_period'] = (final_data['firstduedate']-final_data['closeddate']).dt.days"
   ]
  },
  {
   "cell_type": "code",
   "execution_count": 56,
   "metadata": {},
   "outputs": [],
   "source": [
    "#Drop the three date objects\n",
    "final_data = final_data.drop(columns =['closeddate','firstduedate','firstrepaiddate'])"
   ]
  },
  {
   "cell_type": "code",
   "execution_count": 57,
   "metadata": {},
   "outputs": [
    {
     "name": "stdout",
     "output_type": "stream",
     "text": [
      "<class 'pandas.core.frame.DataFrame'>\n",
      "Int64Index: 13693 entries, 0 to 13692\n",
      "Data columns (total 17 columns):\n",
      " #   Column                         Non-Null Count  Dtype  \n",
      "---  ------                         --------------  -----  \n",
      " 0   bank_account_type              13693 non-null  object \n",
      " 1   longitude_gps                  13693 non-null  float64\n",
      " 2   latitude_gps                   13693 non-null  float64\n",
      " 3   bank_name_clients              13693 non-null  object \n",
      " 4   loannumber_x                   13693 non-null  int64  \n",
      " 5   loanamount_x                   13693 non-null  float64\n",
      " 6   totaldue_x                     13693 non-null  float64\n",
      " 7   termdays_x                     13693 non-null  int64  \n",
      " 8   good_bad_flag                  13693 non-null  int64  \n",
      " 9   loannumber_y                   13693 non-null  int64  \n",
      " 10  loanamount_y                   13693 non-null  float64\n",
      " 11  totaldue_y                     13693 non-null  float64\n",
      " 12  termdays_y                     13693 non-null  int64  \n",
      " 13  employment_status_clients_new  13693 non-null  object \n",
      " 14  age                            13693 non-null  int64  \n",
      " 15  pay_commit                     13693 non-null  int64  \n",
      " 16  repay_period                   13693 non-null  int64  \n",
      "dtypes: float64(6), int64(8), object(3)\n",
      "memory usage: 1.9+ MB\n"
     ]
    }
   ],
   "source": [
    "final_data.info()"
   ]
  },
  {
   "cell_type": "markdown",
   "metadata": {},
   "source": [
    "# Dealing with location data\n",
    "https://www.kdnuggets.com/2018/12/feature-building-techniques-tricks-kaggle.html"
   ]
  },
  {
   "cell_type": "code",
   "execution_count": 58,
   "metadata": {},
   "outputs": [
    {
     "data": {
      "image/png": "[encoded data removed]",
      "text/plain": [
       "<Figure size 432x288 with 1 Axes>"
      ]
     },
     "metadata": {
      "needs_background": "light"
     },
     "output_type": "display_data"
    },
    {
     "data": {
      "text/plain": [
       "<Figure size 432x288 with 0 Axes>"
      ]
     },
     "metadata": {},
     "output_type": "display_data"
    }
   ],
   "source": [
    "#Since the longitude and latitude data had extreme outliers, we log-transform them \n",
    "sns.distplot(final_data['longitude_gps'])\n",
    "fig = plt.figure()"
   ]
  },
  {
   "cell_type": "code",
   "execution_count": 59,
   "metadata": {},
   "outputs": [
    {
     "data": {
      "image/png": "[encoded data removed]",
      "text/plain": [
       "<Figure size 432x288 with 1 Axes>"
      ]
     },
     "metadata": {
      "needs_background": "light"
     },
     "output_type": "display_data"
    },
    {
     "data": {
      "text/plain": [
       "<Figure size 432x288 with 0 Axes>"
      ]
     },
     "metadata": {},
     "output_type": "display_data"
    }
   ],
   "source": [
    "sns.distplot(final_data['latitude_gps'])\n",
    "fig = plt.figure()"
   ]
  },
  {
   "cell_type": "code",
   "execution_count": 60,
   "metadata": {},
   "outputs": [
    {
     "name": "stderr",
     "output_type": "stream",
     "text": [
      "/Users/pw/opt/anaconda3/lib/python3.7/site-packages/pandas/core/series.py:679: RuntimeWarning: invalid value encountered in log\n",
      "  result = getattr(ufunc, method)(*inputs, **kwargs)\n"
     ]
    }
   ],
   "source": [
    "#Log trasform the longitute and latitude\n",
    "final_data['longitude_gps'] = np.log(final_data['longitude_gps'])\n",
    "final_data['latitude_gps'] = np.log(final_data['latitude_gps'])"
   ]
  },
  {
   "cell_type": "code",
   "execution_count": 61,
   "metadata": {},
   "outputs": [
    {
     "data": {
      "text/plain": [
       "bank_account_type                  0\n",
       "longitude_gps                    100\n",
       "latitude_gps                       7\n",
       "bank_name_clients                  0\n",
       "loannumber_x                       0\n",
       "loanamount_x                       0\n",
       "totaldue_x                         0\n",
       "termdays_x                         0\n",
       "good_bad_flag                      0\n",
       "loannumber_y                       0\n",
       "loanamount_y                       0\n",
       "totaldue_y                         0\n",
       "termdays_y                         0\n",
       "employment_status_clients_new      0\n",
       "age                                0\n",
       "pay_commit                         0\n",
       "repay_period                       0\n",
       "dtype: int64"
      ]
     },
     "execution_count": 61,
     "metadata": {},
     "output_type": "execute_result"
    }
   ],
   "source": [
    "final_data.isnull().sum()"
   ]
  },
  {
   "cell_type": "code",
   "execution_count": 62,
   "metadata": {},
   "outputs": [],
   "source": [
    "final_data['longitude_gps'].fillna(final_data['longitude_gps'].mean(), inplace = True)\n",
    "final_data['latitude_gps'].fillna(final_data['latitude_gps'].mean(), inplace = True)"
   ]
  },
  {
   "cell_type": "code",
   "execution_count": 63,
   "metadata": {},
   "outputs": [
    {
     "data": {
      "image/png": "[encoded data removed]",
      "text/plain": [
       "<Figure size 432x288 with 1 Axes>"
      ]
     },
     "metadata": {
      "needs_background": "light"
     },
     "output_type": "display_data"
    },
    {
     "data": {
      "text/plain": [
       "<Figure size 432x288 with 0 Axes>"
      ]
     },
     "metadata": {},
     "output_type": "display_data"
    }
   ],
   "source": [
    "sns.distplot(final_data['longitude_gps'])\n",
    "fig = plt.figure()"
   ]
  },
  {
   "cell_type": "code",
   "execution_count": 64,
   "metadata": {},
   "outputs": [
    {
     "data": {
      "image/png": "[encoded data removed]",
      "text/plain": [
       "<Figure size 432x288 with 1 Axes>"
      ]
     },
     "metadata": {
      "needs_background": "light"
     },
     "output_type": "display_data"
    },
    {
     "data": {
      "text/plain": [
       "<Figure size 432x288 with 0 Axes>"
      ]
     },
     "metadata": {},
     "output_type": "display_data"
    }
   ],
   "source": [
    "sns.distplot(final_data['latitude_gps'])\n",
    "fig = plt.figure()"
   ]
  },
  {
   "cell_type": "markdown",
   "metadata": {},
   "source": [
    "# Label Encoding"
   ]
  },
  {
   "cell_type": "code",
   "execution_count": 65,
   "metadata": {},
   "outputs": [],
   "source": [
    "cat_columns = ['bank_account_type','bank_name_clients','employment_status_clients_new']"
   ]
  },
  {
   "cell_type": "code",
   "execution_count": 66,
   "metadata": {},
   "outputs": [],
   "source": [
    "#We define two functions that will help create dummy variables \n",
    "def create_dummy(dataframe, cat_vars):\n",
    "    \n",
    "    for var in cat_vars:\n",
    "        cat_list = 'var'+'_'+'var'\n",
    "        cat_list = pd.get_dummies(dataframe[var], prefix=var)\n",
    "        dataframe_new = dataframe.join(cat_list)\n",
    "        dataframe = dataframe_new\n",
    "    data_vars = dataframe.columns.values.tolist()\n",
    "    to_keep = [i for i in data_vars if i not in cat_vars]\n",
    "    \n",
    "    dataframe_final = dataframe[to_keep]\n",
    "    \n",
    "    return dataframe_final"
   ]
  },
  {
   "cell_type": "code",
   "execution_count": 67,
   "metadata": {},
   "outputs": [],
   "source": [
    "data_to_model = create_dummy(final_data, cat_columns)"
   ]
  },
  {
   "cell_type": "code",
   "execution_count": 68,
   "metadata": {},
   "outputs": [
    {
     "data": {
      "text/html": [
       "<div>\n",
       "<style scoped>\n",
       "    .dataframe tbody tr th:only-of-type {\n",
       "        vertical-align: middle;\n",
       "    }\n",
       "\n",
       "    .dataframe tbody tr th {\n",
       "        vertical-align: top;\n",
       "    }\n",
       "\n",
       "    .dataframe thead th {\n",
       "        text-align: right;\n",
       "    }\n",
       "</style>\n",
       "<table border=\"1\" class=\"dataframe\">\n",
       "  <thead>\n",
       "    <tr style=\"text-align: right;\">\n",
       "      <th></th>\n",
       "      <th>longitude_gps</th>\n",
       "      <th>latitude_gps</th>\n",
       "      <th>loannumber_x</th>\n",
       "      <th>loanamount_x</th>\n",
       "      <th>totaldue_x</th>\n",
       "      <th>termdays_x</th>\n",
       "      <th>good_bad_flag</th>\n",
       "      <th>loannumber_y</th>\n",
       "      <th>loanamount_y</th>\n",
       "      <th>totaldue_y</th>\n",
       "      <th>...</th>\n",
       "      <th>bank_name_clients_Union Bank</th>\n",
       "      <th>bank_name_clients_Unity Bank</th>\n",
       "      <th>bank_name_clients_Wema Bank</th>\n",
       "      <th>bank_name_clients_Zenith Bank</th>\n",
       "      <th>employment_status_clients_new_Contract</th>\n",
       "      <th>employment_status_clients_new_Permanent</th>\n",
       "      <th>employment_status_clients_new_Retired</th>\n",
       "      <th>employment_status_clients_new_Self-Employed</th>\n",
       "      <th>employment_status_clients_new_Student</th>\n",
       "      <th>employment_status_clients_new_Unemployed</th>\n",
       "    </tr>\n",
       "  </thead>\n",
       "  <tbody>\n",
       "    <tr>\n",
       "      <th>0</th>\n",
       "      <td>1.199730</td>\n",
       "      <td>1.876193</td>\n",
       "      <td>2</td>\n",
       "      <td>10000.0</td>\n",
       "      <td>13000.0</td>\n",
       "      <td>30</td>\n",
       "      <td>1</td>\n",
       "      <td>1</td>\n",
       "      <td>10000.0</td>\n",
       "      <td>11500.0</td>\n",
       "      <td>...</td>\n",
       "      <td>0</td>\n",
       "      <td>0</td>\n",
       "      <td>0</td>\n",
       "      <td>0</td>\n",
       "      <td>0</td>\n",
       "      <td>1</td>\n",
       "      <td>0</td>\n",
       "      <td>0</td>\n",
       "      <td>0</td>\n",
       "      <td>0</td>\n",
       "    </tr>\n",
       "    <tr>\n",
       "      <th>1</th>\n",
       "      <td>1.201650</td>\n",
       "      <td>1.962824</td>\n",
       "      <td>2</td>\n",
       "      <td>10000.0</td>\n",
       "      <td>13000.0</td>\n",
       "      <td>30</td>\n",
       "      <td>0</td>\n",
       "      <td>1</td>\n",
       "      <td>10000.0</td>\n",
       "      <td>13000.0</td>\n",
       "      <td>...</td>\n",
       "      <td>0</td>\n",
       "      <td>0</td>\n",
       "      <td>0</td>\n",
       "      <td>0</td>\n",
       "      <td>0</td>\n",
       "      <td>1</td>\n",
       "      <td>0</td>\n",
       "      <td>0</td>\n",
       "      <td>0</td>\n",
       "      <td>0</td>\n",
       "    </tr>\n",
       "    <tr>\n",
       "      <th>2</th>\n",
       "      <td>1.748521</td>\n",
       "      <td>1.716169</td>\n",
       "      <td>4</td>\n",
       "      <td>10000.0</td>\n",
       "      <td>13000.0</td>\n",
       "      <td>30</td>\n",
       "      <td>1</td>\n",
       "      <td>3</td>\n",
       "      <td>10000.0</td>\n",
       "      <td>13000.0</td>\n",
       "      <td>...</td>\n",
       "      <td>0</td>\n",
       "      <td>0</td>\n",
       "      <td>0</td>\n",
       "      <td>0</td>\n",
       "      <td>0</td>\n",
       "      <td>1</td>\n",
       "      <td>0</td>\n",
       "      <td>0</td>\n",
       "      <td>0</td>\n",
       "      <td>0</td>\n",
       "    </tr>\n",
       "    <tr>\n",
       "      <th>3</th>\n",
       "      <td>1.748521</td>\n",
       "      <td>1.716169</td>\n",
       "      <td>4</td>\n",
       "      <td>10000.0</td>\n",
       "      <td>13000.0</td>\n",
       "      <td>30</td>\n",
       "      <td>1</td>\n",
       "      <td>1</td>\n",
       "      <td>10000.0</td>\n",
       "      <td>11500.0</td>\n",
       "      <td>...</td>\n",
       "      <td>0</td>\n",
       "      <td>0</td>\n",
       "      <td>0</td>\n",
       "      <td>0</td>\n",
       "      <td>0</td>\n",
       "      <td>1</td>\n",
       "      <td>0</td>\n",
       "      <td>0</td>\n",
       "      <td>0</td>\n",
       "      <td>0</td>\n",
       "    </tr>\n",
       "    <tr>\n",
       "      <th>4</th>\n",
       "      <td>1.748521</td>\n",
       "      <td>1.716169</td>\n",
       "      <td>4</td>\n",
       "      <td>10000.0</td>\n",
       "      <td>13000.0</td>\n",
       "      <td>30</td>\n",
       "      <td>1</td>\n",
       "      <td>2</td>\n",
       "      <td>10000.0</td>\n",
       "      <td>11500.0</td>\n",
       "      <td>...</td>\n",
       "      <td>0</td>\n",
       "      <td>0</td>\n",
       "      <td>0</td>\n",
       "      <td>0</td>\n",
       "      <td>0</td>\n",
       "      <td>1</td>\n",
       "      <td>0</td>\n",
       "      <td>0</td>\n",
       "      <td>0</td>\n",
       "      <td>0</td>\n",
       "    </tr>\n",
       "  </tbody>\n",
       "</table>\n",
       "<p>5 rows × 41 columns</p>\n",
       "</div>"
      ],
      "text/plain": [
       "   longitude_gps  latitude_gps  loannumber_x  loanamount_x  totaldue_x  \\\n",
       "0       1.199730      1.876193             2       10000.0     13000.0   \n",
       "1       1.201650      1.962824             2       10000.0     13000.0   \n",
       "2       1.748521      1.716169             4       10000.0     13000.0   \n",
       "3       1.748521      1.716169             4       10000.0     13000.0   \n",
       "4       1.748521      1.716169             4       10000.0     13000.0   \n",
       "\n",
       "   termdays_x  good_bad_flag  loannumber_y  loanamount_y  totaldue_y  ...  \\\n",
       "0          30              1             1       10000.0     11500.0  ...   \n",
       "1          30              0             1       10000.0     13000.0  ...   \n",
       "2          30              1             3       10000.0     13000.0  ...   \n",
       "3          30              1             1       10000.0     11500.0  ...   \n",
       "4          30              1             2       10000.0     11500.0  ...   \n",
       "\n",
       "   bank_name_clients_Union Bank  bank_name_clients_Unity Bank  \\\n",
       "0                             0                             0   \n",
       "1                             0                             0   \n",
       "2                             0                             0   \n",
       "3                             0                             0   \n",
       "4                             0                             0   \n",
       "\n",
       "   bank_name_clients_Wema Bank  bank_name_clients_Zenith Bank  \\\n",
       "0                            0                              0   \n",
       "1                            0                              0   \n",
       "2                            0                              0   \n",
       "3                            0                              0   \n",
       "4                            0                              0   \n",
       "\n",
       "   employment_status_clients_new_Contract  \\\n",
       "0                                       0   \n",
       "1                                       0   \n",
       "2                                       0   \n",
       "3                                       0   \n",
       "4                                       0   \n",
       "\n",
       "   employment_status_clients_new_Permanent  \\\n",
       "0                                        1   \n",
       "1                                        1   \n",
       "2                                        1   \n",
       "3                                        1   \n",
       "4                                        1   \n",
       "\n",
       "   employment_status_clients_new_Retired  \\\n",
       "0                                      0   \n",
       "1                                      0   \n",
       "2                                      0   \n",
       "3                                      0   \n",
       "4                                      0   \n",
       "\n",
       "   employment_status_clients_new_Self-Employed  \\\n",
       "0                                            0   \n",
       "1                                            0   \n",
       "2                                            0   \n",
       "3                                            0   \n",
       "4                                            0   \n",
       "\n",
       "   employment_status_clients_new_Student  \\\n",
       "0                                      0   \n",
       "1                                      0   \n",
       "2                                      0   \n",
       "3                                      0   \n",
       "4                                      0   \n",
       "\n",
       "   employment_status_clients_new_Unemployed  \n",
       "0                                         0  \n",
       "1                                         0  \n",
       "2                                         0  \n",
       "3                                         0  \n",
       "4                                         0  \n",
       "\n",
       "[5 rows x 41 columns]"
      ]
     },
     "execution_count": 68,
     "metadata": {},
     "output_type": "execute_result"
    }
   ],
   "source": [
    "data_to_model.head(5)"
   ]
  },
  {
   "cell_type": "markdown",
   "metadata": {},
   "source": [
    "# Modelling"
   ]
  },
  {
   "cell_type": "code",
   "execution_count": 69,
   "metadata": {},
   "outputs": [],
   "source": [
    "#Creating features and targets and converting the data to arrays\n",
    "#Labels that we want to predict\n",
    "labels = np.array(data_to_model['good_bad_flag'])\n",
    "#Create the features by dropping the label\n",
    "features = data_to_model.drop('good_bad_flag', axis=1)\n",
    "\n",
    "#Save feature names for later use\n",
    "feature_list = list(features.columns)\n",
    "\n",
    "#Convert to numpy arrays\n",
    "features = np.array(features)"
   ]
  },
  {
   "cell_type": "code",
   "execution_count": 70,
   "metadata": {},
   "outputs": [
    {
     "name": "stdout",
     "output_type": "stream",
     "text": [
      "Fold:1, Train set: 10954,Test set:2739\n",
      "Fold:2, Train set: 10954,Test set:2739\n",
      "Fold:3, Train set: 10954,Test set:2739\n",
      "Fold:4, Train set: 10955,Test set:2738\n",
      "Fold:5, Train set: 10955,Test set:2738\n"
     ]
    }
   ],
   "source": [
    "#Splitting the data into a train and validation set\n",
    "#Model Score using KFold\n",
    "#The folds are made by preserving the percentages of samples for each class\n",
    "kf = StratifiedKFold(n_splits=5, shuffle=True, random_state=42)\n",
    "\n",
    "count = 1\n",
    "#we use split method that will generate indices to split data into train and test sets\n",
    "\n",
    "for train_index, test_index in kf.split(features,labels):\n",
    "    print(f'Fold:{count}, Train set: {len(train_index)},Test set:{len(test_index)}')\n",
    "    count+=1"
   ]
  },
  {
   "cell_type": "markdown",
   "metadata": {},
   "source": [
    "# Random Forest"
   ]
  },
  {
   "cell_type": "code",
   "execution_count": 71,
   "metadata": {},
   "outputs": [
    {
     "name": "stdout",
     "output_type": "stream",
     "text": [
      "Scores for each fold are: [0.92332968 0.91967871 0.91493246 0.9247626  0.92184076]\n",
      "Average score: 0.92\n"
     ]
    }
   ],
   "source": [
    "score = cross_val_score(ensemble.RandomForestClassifier(random_state= 42), \n",
    "                        features, labels, cv= kf, scoring=\"accuracy\")\n",
    "print(f'Scores for each fold are: {score}')\n",
    "print(f'Average score: {\"{:.2f}\".format(score.mean())}')\n"
   ]
  },
  {
   "cell_type": "markdown",
   "metadata": {},
   "source": [
    "# Logistic Regression"
   ]
  },
  {
   "cell_type": "code",
   "execution_count": 72,
   "metadata": {},
   "outputs": [
    {
     "name": "stdout",
     "output_type": "stream",
     "text": [
      "Scores for each fold are: [0.81489595 0.81599124 0.81489595 0.81446311 0.81665449]\n",
      "Average score: 0.82\n"
     ]
    }
   ],
   "source": [
    "score = cross_val_score(linear_model.LogisticRegression(random_state= 42), \n",
    "                        features, labels, cv= kf, scoring=\"accuracy\")\n",
    "print(f'Scores for each fold are: {score}')\n",
    "print(f'Average score: {\"{:.2f}\".format(score.mean())}')\n"
   ]
  },
  {
   "cell_type": "markdown",
   "metadata": {},
   "source": [
    "# Decision Tree Classifier"
   ]
  },
  {
   "cell_type": "code",
   "execution_count": 73,
   "metadata": {},
   "outputs": [
    {
     "name": "stdout",
     "output_type": "stream",
     "text": [
      "Scores for each fold are: [0.91858342 0.88645491 0.9098211  0.90138787 0.91563185]\n",
      "Average score: 0.91\n"
     ]
    }
   ],
   "source": [
    "score = cross_val_score(tree.DecisionTreeClassifier(random_state= 42), \n",
    "                        features, labels, cv= kf, scoring=\"accuracy\")\n",
    "print(f'Scores for each fold are: {score}')\n",
    "print(f'Average score: {\"{:.2f}\".format(score.mean())}')\n"
   ]
  },
  {
   "cell_type": "markdown",
   "metadata": {},
   "source": [
    "# Without Cross Validation"
   ]
  },
  {
   "cell_type": "code",
   "execution_count": 74,
   "metadata": {},
   "outputs": [],
   "source": [
    "#Creating the train and test sets using scikit-learn\n",
    "train_features, test_features, train_labels, test_labels = train_test_split(\n",
    "features,labels, test_size = 0.2, random_state = 42)"
   ]
  },
  {
   "cell_type": "code",
   "execution_count": 75,
   "metadata": {},
   "outputs": [
    {
     "data": {
      "text/plain": [
       "RandomForestClassifier(bootstrap=True, ccp_alpha=0.0, class_weight=None,\n",
       "                       criterion='gini', max_depth=None, max_features='auto',\n",
       "                       max_leaf_nodes=None, max_samples=None,\n",
       "                       min_impurity_decrease=0.0, min_impurity_split=None,\n",
       "                       min_samples_leaf=1, min_samples_split=2,\n",
       "                       min_weight_fraction_leaf=0.0, n_estimators=1000,\n",
       "                       n_jobs=None, oob_score=False, random_state=42, verbose=0,\n",
       "                       warm_start=False)"
      ]
     },
     "execution_count": 75,
     "metadata": {},
     "output_type": "execute_result"
    }
   ],
   "source": [
    "#Instantiate model with 1000 decision trees\n",
    "rf = RandomForestClassifier(n_estimators = 1000, random_state = 42)\n",
    "\n",
    "# Train the model using the training data\n",
    "rf.fit(train_features, train_labels)"
   ]
  },
  {
   "cell_type": "code",
   "execution_count": 76,
   "metadata": {},
   "outputs": [],
   "source": [
    "#Prediction\n",
    "test_prediction = rf.predict(test_features)"
   ]
  },
  {
   "cell_type": "code",
   "execution_count": 77,
   "metadata": {},
   "outputs": [],
   "source": [
    "score = rf.score(train_features, train_labels)"
   ]
  },
  {
   "cell_type": "code",
   "execution_count": 78,
   "metadata": {},
   "outputs": [
    {
     "name": "stdout",
     "output_type": "stream",
     "text": [
      "Score:  100.0 %\n"
     ]
    }
   ],
   "source": [
    "print('Score: ', round((score*100), 2),'%')"
   ]
  },
  {
   "cell_type": "markdown",
   "metadata": {},
   "source": [
    "# Feature Importance"
   ]
  },
  {
   "cell_type": "code",
   "execution_count": 79,
   "metadata": {},
   "outputs": [
    {
     "name": "stdout",
     "output_type": "stream",
     "text": [
      "Variable: longitude_gps        Importance: 0.15\n",
      "Variable: latitude_gps         Importance: 0.15\n",
      "Variable: age                  Importance: 0.11\n",
      "Variable: loannumber_x         Importance: 0.08\n",
      "Variable: pay_commit           Importance: 0.07\n",
      "Variable: repay_period         Importance: 0.07\n",
      "Variable: totaldue_x           Importance: 0.05\n",
      "Variable: loanamount_x         Importance: 0.03\n",
      "Variable: loannumber_y         Importance: 0.03\n",
      "Variable: totaldue_y           Importance: 0.03\n",
      "Variable: termdays_x           Importance: 0.02\n",
      "Variable: bank_name_clients_GT Bank Importance: 0.02\n",
      "Variable: loanamount_y         Importance: 0.01\n",
      "Variable: termdays_y           Importance: 0.01\n",
      "Variable: bank_account_type_Other Importance: 0.01\n",
      "Variable: bank_account_type_Savings Importance: 0.01\n",
      "Variable: bank_name_clients_Access Bank Importance: 0.01\n",
      "Variable: bank_name_clients_Diamond Bank Importance: 0.01\n",
      "Variable: bank_name_clients_EcoBank Importance: 0.01\n",
      "Variable: bank_name_clients_FCMB Importance: 0.01\n",
      "Variable: bank_name_clients_Fidelity Bank Importance: 0.01\n",
      "Variable: bank_name_clients_First Bank Importance: 0.01\n",
      "Variable: bank_name_clients_Skye Bank Importance: 0.01\n",
      "Variable: bank_name_clients_UBA Importance: 0.01\n",
      "Variable: bank_name_clients_Zenith Bank Importance: 0.01\n",
      "Variable: employment_status_clients_new_Permanent Importance: 0.01\n",
      "Variable: employment_status_clients_new_Self-Employed Importance: 0.01\n",
      "Variable: employment_status_clients_new_Student Importance: 0.01\n",
      "Variable: bank_account_type_Current Importance: 0.0\n",
      "Variable: bank_name_clients_Heritage Bank Importance: 0.0\n",
      "Variable: bank_name_clients_Keystone Bank Importance: 0.0\n",
      "Variable: bank_name_clients_Stanbic IBTC Importance: 0.0\n",
      "Variable: bank_name_clients_Standard Chartered Importance: 0.0\n",
      "Variable: bank_name_clients_Sterling Bank Importance: 0.0\n",
      "Variable: bank_name_clients_Union Bank Importance: 0.0\n",
      "Variable: bank_name_clients_Unity Bank Importance: 0.0\n",
      "Variable: bank_name_clients_Wema Bank Importance: 0.0\n",
      "Variable: employment_status_clients_new_Contract Importance: 0.0\n",
      "Variable: employment_status_clients_new_Retired Importance: 0.0\n",
      "Variable: employment_status_clients_new_Unemployed Importance: 0.0\n"
     ]
    }
   ],
   "source": [
    "#Get numerical feature importances\n",
    "importances = list(rf.feature_importances_)\n",
    "\n",
    "#List of tupples with variable and importance\n",
    "\n",
    "feature_importances = [(feature, round(importance, 2)) for feature,\n",
    "                      importance in zip(feature_list, importances)]\n",
    "\n",
    "\n",
    "#Sort the feature importances by most important first\n",
    "feature_importances = sorted(feature_importances, key = lambda x: x[1], \n",
    "                            reverse = True)\n",
    "\n",
    "\n",
    "#Print out the feature and importances\n",
    "[print('Variable: {:20} Importance: {}'.format(*pair)) for pair in feature_importances];"
   ]
  },
  {
   "cell_type": "markdown",
   "metadata": {},
   "source": [
    "# Drop variables and rerun cross validation and the classifiers"
   ]
  },
  {
   "cell_type": "code",
   "execution_count": 80,
   "metadata": {},
   "outputs": [],
   "source": [
    "new_data = data_to_model.drop(columns = ['bank_account_type_Current','bank_name_clients_Heritage Bank',\n",
    "                                         'bank_name_clients_Keystone Bank','bank_name_clients_Stanbic IBTC',\n",
    "                                        'bank_name_clients_Standard Chartered','bank_name_clients_Sterling Bank',\n",
    "                                        'bank_name_clients_Union Bank','bank_name_clients_Unity Bank',\n",
    "                                         'bank_name_clients_Wema Bank','employment_status_clients_new_Contract',\n",
    "                                        'employment_status_clients_new_Retired','employment_status_clients_new_Unemployed'] )"
   ]
  },
  {
   "cell_type": "code",
   "execution_count": 81,
   "metadata": {},
   "outputs": [],
   "source": [
    "#Creating features and targets and converting the data to arrays\n",
    "#Labels that we want to predict\n",
    "labels_n = np.array(new_data['good_bad_flag'])\n",
    "#Create the features by dropping the label\n",
    "features_n = new_data.drop('good_bad_flag', axis=1)\n",
    "\n",
    "#Save feature names for later use\n",
    "feature_list_n = list(features_n.columns)\n",
    "\n",
    "#Convert to numpy arrays\n",
    "features_n = np.array(features_n)"
   ]
  },
  {
   "cell_type": "code",
   "execution_count": 82,
   "metadata": {},
   "outputs": [
    {
     "name": "stdout",
     "output_type": "stream",
     "text": [
      "Fold:1, Train set: 10954,Test set:2739\n",
      "Fold:2, Train set: 10954,Test set:2739\n",
      "Fold:3, Train set: 10954,Test set:2739\n",
      "Fold:4, Train set: 10955,Test set:2738\n",
      "Fold:5, Train set: 10955,Test set:2738\n"
     ]
    }
   ],
   "source": [
    "#Splitting the data into a train and validation set\n",
    "#Model Score using KFold\n",
    "#The folds are made by preserving the percentages of samples for each class\n",
    "kf = StratifiedKFold(n_splits=5, shuffle=True, random_state=42)\n",
    "\n",
    "count = 1\n",
    "#we use split method that will generate indices to split data into train and test sets\n",
    "\n",
    "for train_index, test_index in kf.split(features_n,labels_n):\n",
    "    print(f'Fold:{count}, Train set: {len(train_index)},Test set:{len(test_index)}')\n",
    "    count+=1"
   ]
  },
  {
   "cell_type": "code",
   "execution_count": 83,
   "metadata": {},
   "outputs": [
    {
     "name": "stdout",
     "output_type": "stream",
     "text": [
      "Scores for each fold are: [0.9211391  0.91858342 0.92040891 0.92658875 0.9284149 ]\n",
      "Average score: 0.923\n"
     ]
    }
   ],
   "source": [
    "#Random Forest After Removing Redundant variables\n",
    "score = cross_val_score(ensemble.RandomForestClassifier(random_state= 42), \n",
    "                        features_n, labels_n, cv= kf, scoring=\"accuracy\")\n",
    "print(f'Scores for each fold are: {score}')\n",
    "print(f'Average score: {\"{:.3f}\".format(score.mean())}')"
   ]
  },
  {
   "cell_type": "code",
   "execution_count": 84,
   "metadata": {},
   "outputs": [],
   "source": [
    "#Creating the train and test sets of the new data set using scikit-learn\n",
    "train_features_n, test_features_n, train_labels_n, test_labels_n = train_test_split(\n",
    "features_n,labels_n, test_size = 0.2, random_state = 42)"
   ]
  },
  {
   "cell_type": "code",
   "execution_count": null,
   "metadata": {},
   "outputs": [],
   "source": [
    "#Getting the best model\n",
    "model = RandomForestClassifier(random_state=1)\n",
    "space = dict()\n",
    "space['n_estimators'] = [10, 100, 500]\n",
    "space['max_features'] = [2, 4, 6]\n",
    "search = GridSearchCV(model,space, scoring='accuracy',cv = kf, refit=True)\n",
    "result = search.fit(train_features_n, train_labels_n)"
   ]
  },
  {
   "cell_type": "code",
   "execution_count": null,
   "metadata": {},
   "outputs": [],
   "source": [
    "best_model = result.best_estimator_"
   ]
  },
  {
   "cell_type": "code",
   "execution_count": null,
   "metadata": {},
   "outputs": [],
   "source": [
    "#Evaluate the model on the hold out dataset\n",
    "yhat = best_model.predict(test_features_n)"
   ]
  },
  {
   "cell_type": "code",
   "execution_count": null,
   "metadata": {},
   "outputs": [],
   "source": [
    "yhat"
   ]
  },
  {
   "cell_type": "code",
   "execution_count": null,
   "metadata": {},
   "outputs": [],
   "source": [
    "#Evaluate model score\n",
    "acc = accuracy_score(test_labels_n,yhat)"
   ]
  },
  {
   "cell_type": "code",
   "execution_count": null,
   "metadata": {},
   "outputs": [],
   "source": [
    "print('Best Model Accuracy: ', acc)"
   ]
  },
  {
   "cell_type": "markdown",
   "metadata": {},
   "source": [
    "# Predicting the actual test data set"
   ]
  },
  {
   "cell_type": "code",
   "execution_count": null,
   "metadata": {},
   "outputs": [],
   "source": [
    "#Combine datasets based on customer id\n",
    "test_pre_data = pd.merge(test_demo_df, test_perf_df, on = \"customerid\")"
   ]
  },
  {
   "cell_type": "code",
   "execution_count": null,
   "metadata": {},
   "outputs": [],
   "source": [
    "#Checking the pre-test data set shape\n",
    "print(\"Test Demographics Shape: \", test_demo_df.shape)\n",
    "print(\"Test Perf Shape: \", test_perf_df.shape)\n",
    "print(\"Pre test data shape: \", test_pre_data.shape)"
   ]
  },
  {
   "cell_type": "code",
   "execution_count": null,
   "metadata": {},
   "outputs": [],
   "source": [
    "combined_test_data = pd.merge(test_pre_data,test_prevloan_df, on = \"customerid\")"
   ]
  },
  {
   "cell_type": "code",
   "execution_count": null,
   "metadata": {},
   "outputs": [],
   "source": [
    "print(\"Pre test data shape: \", test_pre_data.shape)\n",
    "print(\"Combined test data shape: \", combined_test_data.shape)"
   ]
  },
  {
   "cell_type": "code",
   "execution_count": null,
   "metadata": {},
   "outputs": [],
   "source": [
    "#Replacing missing balues\n",
    "test_frequent_cat = combined_test_data['employment_status_clients'].mode()[0]"
   ]
  },
  {
   "cell_type": "code",
   "execution_count": null,
   "metadata": {},
   "outputs": [],
   "source": [
    "combined_test_data['employment_status_clients_new']= combined_test_data['employment_status_clients'].fillna(test_frequent_cat)"
   ]
  },
  {
   "cell_type": "code",
   "execution_count": null,
   "metadata": {},
   "outputs": [],
   "source": [
    "bank_mode = combined_test_data['bank_branch_clients'].mode()[0]\n",
    "combined_test_data['bank_branch_clients'] = combined_test_data['bank_branch_clients'].fillna(bank_mode)"
   ]
  },
  {
   "cell_type": "code",
   "execution_count": null,
   "metadata": {},
   "outputs": [],
   "source": [
    "employment_mode = combined_test_data['employment_status_clients'].mode()[0]\n",
    "combined_test_data['employment_status_clients'] = combined_test_data['employment_status_clients'].fillna(employment_mode)"
   ]
  },
  {
   "cell_type": "code",
   "execution_count": null,
   "metadata": {},
   "outputs": [],
   "source": [
    "education_mode = combined_test_data['level_of_education_clients'].mode()[0]\n",
    "combined_test_data['level_of_education_clients'] = combined_test_data['level_of_education_clients'].fillna(education_mode)"
   ]
  },
  {
   "cell_type": "code",
   "execution_count": null,
   "metadata": {},
   "outputs": [],
   "source": [
    "#Dropping variables that had extreme number of missing values in the train data\n",
    "final_test_data = combined_test_data.drop(columns = ['bank_branch_clients','level_of_education_clients','referredby_x','referredby_y','employment_status_clients'])"
   ]
  },
  {
   "cell_type": "code",
   "execution_count": null,
   "metadata": {},
   "outputs": [],
   "source": [
    "#Drop irrelevant variables from the dataset\n",
    "final_test_data = final_test_data.drop(columns = ['customerid','systemloanid_x','approveddate_x','creationdate_x','systemloanid_y','approveddate_y','creationdate_y'])"
   ]
  },
  {
   "cell_type": "markdown",
   "metadata": {},
   "source": [
    "Dealing with dates "
   ]
  },
  {
   "cell_type": "code",
   "execution_count": null,
   "metadata": {},
   "outputs": [],
   "source": [
    "#Changing the date columns from strings to date format\n",
    "date_columns = ['birthdate','closeddate','firstduedate','firstrepaiddate']"
   ]
  },
  {
   "cell_type": "code",
   "execution_count": null,
   "metadata": {},
   "outputs": [],
   "source": [
    "#Calling the string to datetime conversion function\n",
    "for column in date_columns:\n",
    "    string_to_date(final_test_data, column)"
   ]
  },
  {
   "cell_type": "code",
   "execution_count": null,
   "metadata": {},
   "outputs": [],
   "source": [
    "#Create age from the birth date\n",
    "today = pd.to_datetime('today')\n",
    "final_test_data['age'] = today.year - final_test_data['birthdate'].dt.year"
   ]
  },
  {
   "cell_type": "code",
   "execution_count": null,
   "metadata": {},
   "outputs": [],
   "source": [
    "final_test_data = final_test_data.drop(columns = 'birthdate')"
   ]
  },
  {
   "cell_type": "code",
   "execution_count": null,
   "metadata": {},
   "outputs": [],
   "source": [
    "#Create a variable that calculates late or early payment based on\n",
    "#firstduedate and firstrepaid date\n",
    "final_test_data['pay_commit'] = (final_test_data['firstduedate']-final_test_data['firstrepaiddate']).dt.days"
   ]
  },
  {
   "cell_type": "code",
   "execution_count": null,
   "metadata": {},
   "outputs": [],
   "source": [
    "#Create a variable that calculates the repayment period based on\n",
    "#First due date and Closed Date\n",
    "final_test_data['repay_period'] = (final_test_data['firstduedate']-final_test_data['closeddate']).dt.days"
   ]
  },
  {
   "cell_type": "code",
   "execution_count": null,
   "metadata": {},
   "outputs": [],
   "source": [
    "#Drop the three date objects\n",
    "final_test_data = final_test_data.drop(columns =['closeddate','firstduedate','firstrepaiddate'])"
   ]
  },
  {
   "cell_type": "markdown",
   "metadata": {},
   "source": [
    "Dealing with location data"
   ]
  },
  {
   "cell_type": "code",
   "execution_count": null,
   "metadata": {},
   "outputs": [],
   "source": [
    "#Log trasform the longitute and latitude\n",
    "final_test_data['longitude_gps'] = np.log(final_test_data['longitude_gps'])\n",
    "final_test_data['latitude_gps'] = np.log(final_test_data['latitude_gps'])"
   ]
  },
  {
   "cell_type": "code",
   "execution_count": null,
   "metadata": {},
   "outputs": [],
   "source": [
    "#Missing data \n",
    "final_test_data['longitude_gps'].fillna(final_test_data['longitude_gps'].mean(), inplace = True)\n",
    "final_test_data['latitude_gps'].fillna(final_test_data['latitude_gps'].mean(), inplace = True)"
   ]
  },
  {
   "cell_type": "code",
   "execution_count": null,
   "metadata": {},
   "outputs": [],
   "source": [
    "test_cat_columns = ['bank_account_type','bank_name_clients','employment_status_clients_new']"
   ]
  },
  {
   "cell_type": "code",
   "execution_count": null,
   "metadata": {},
   "outputs": [],
   "source": [
    "data_to_predict = create_dummy(final_test_data, test_cat_columns)"
   ]
  },
  {
   "cell_type": "code",
   "execution_count": null,
   "metadata": {},
   "outputs": [],
   "source": [
    "final_predict_data = data_to_predict.drop(columns = ['bank_account_type_Current','bank_name_clients_Heritage Bank',\n",
    "                                                     'bank_name_clients_Stanbic IBTC',\n",
    "                                        'bank_name_clients_Sterling Bank',\n",
    "                                        'bank_name_clients_Union Bank','bank_name_clients_Unity Bank',\n",
    "                                         'bank_name_clients_Wema Bank',\n",
    "                                        'employment_status_clients_new_Retired','employment_status_clients_new_Unemployed'] )"
   ]
  },
  {
   "cell_type": "code",
   "execution_count": null,
   "metadata": {},
   "outputs": [],
   "source": [
    "#Convert data to array for predicting\n",
    "\n",
    "test_array = np.array(final_predict_data)"
   ]
  },
  {
   "cell_type": "code",
   "execution_count": null,
   "metadata": {},
   "outputs": [],
   "source": [
    "#Predicted Credit score\n",
    "predicted_values = best_model.predict(test_array)"
   ]
  },
  {
   "cell_type": "code",
   "execution_count": null,
   "metadata": {},
   "outputs": [],
   "source": [
    "predicted_values"
   ]
  },
  {
   "cell_type": "code",
   "execution_count": null,
   "metadata": {},
   "outputs": [],
   "source": [
    "predicted_df = pd.DataFrame(predicted_values, columns=['Good_bad_flag'])"
   ]
  },
  {
   "cell_type": "code",
   "execution_count": null,
   "metadata": {},
   "outputs": [],
   "source": [
    "predicted_df['Good_bad_flag'].value_counts()"
   ]
  },
  {
   "cell_type": "code",
   "execution_count": null,
   "metadata": {},
   "outputs": [],
   "source": [
    "combined_test_data.shape"
   ]
  },
  {
   "cell_type": "code",
   "execution_count": null,
   "metadata": {},
   "outputs": [],
   "source": [
    "col = ['customerid']\n",
    "customer_id_df = combined_test_data[col]"
   ]
  },
  {
   "cell_type": "code",
   "execution_count": null,
   "metadata": {},
   "outputs": [],
   "source": [
    "customer_id_df.head(5)"
   ]
  },
  {
   "cell_type": "code",
   "execution_count": null,
   "metadata": {},
   "outputs": [],
   "source": [
    "predicted_df_final = pd.concat([customer_id_df,predicted_df], axis = 1)"
   ]
  },
  {
   "cell_type": "code",
   "execution_count": null,
   "metadata": {},
   "outputs": [],
   "source": [
    "predicted_df_final.head(5)"
   ]
  },
  {
   "cell_type": "code",
   "execution_count": null,
   "metadata": {},
   "outputs": [],
   "source": [
    "#Export the dataframe of predicted values to a csv file\n",
    "predicted_df_final.to_csv(r'/Users/pw/Desktop/StatisticalAnalysis/predicted.csv', index=None, header=True)"
   ]
  },
  {
   "cell_type": "code",
   "execution_count": null,
   "metadata": {},
   "outputs": [],
   "source": []
  }
 ],
 "metadata": {
  "kernelspec": {
   "display_name": "Python 3",
   "language": "python",
   "name": "python3"
  },
  "language_info": {
   "codemirror_mode": {
    "name": "ipython",
    "version": 3
   },
   "file_extension": ".py",
   "mimetype": "text/x-python",
   "name": "python",
   "nbconvert_exporter": "python",
   "pygments_lexer": "ipython3",
   "version": "3.7.4"
  }
 },
 "nbformat": 4,
 "nbformat_minor": 2
}
