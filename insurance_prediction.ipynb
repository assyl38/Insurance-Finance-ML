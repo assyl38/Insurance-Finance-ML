{
 "cells": [
  {
   "cell_type": "markdown",
   "metadata": {},
   "source": [
    "# Sources\n",
    " On Subplots\n",
    " \n",
    " https://www.kaggle.com/asimislam/tutorial-python-subplots\n",
    " \n",
    " On one hot encoding and cardinality \n",
    " \n",
    " https://www.kaggle.com/enessari/categorical-variables-and-one-hot-encoding\n",
    " \n",
    " On outlier detection and removal as well as Models sensitive (or not sensitive) to outliers\n",
    " \n",
    " https://medium.com/towards-artificial-intelligence/handling-outliers-in-machine-learning-f842d8f4c1dc\n",
    " "
   ]
  },
  {
   "cell_type": "code",
   "execution_count": 1,
   "metadata": {},
   "outputs": [
    {
     "name": "stderr",
     "output_type": "stream",
     "text": [
      "/Users/pw/opt/anaconda3/lib/python3.7/site-packages/statsmodels/tools/_testing.py:19: FutureWarning: pandas.util.testing is deprecated. Use the functions in the public API at pandas.testing instead.\n",
      "  import pandas.util.testing as tm\n"
     ]
    }
   ],
   "source": [
    "# Dependencies\n",
    "import pandas as pd\n",
    "import numpy as np\n",
    "import matplotlib.pyplot as plt\n",
    "import seaborn as sns\n",
    "from sklearn.model_selection import KFold, StratifiedKFold, cross_val_score, GridSearchCV\n",
    "from sklearn import linear_model, tree, ensemble, svm\n",
    "\n",
    "#For prediction\n",
    "from sklearn.model_selection import train_test_split\n",
    "#The Gradient Boost Classifier\n",
    "from sklearn.ensemble import GradientBoostingClassifier\n",
    "from sklearn.metrics import accuracy_score\n",
    "import warnings\n",
    "warnings.filterwarnings('ignore')"
   ]
  },
  {
   "cell_type": "code",
   "execution_count": 2,
   "metadata": {},
   "outputs": [],
   "source": [
    "# loading the datasets\n",
    "train_data_path = '/Users/pw/Desktop/StatisticalAnalysis/Insurance Claim Prediction Zindi/train_data.csv'\n",
    "test_data_path = '/Users/pw/Desktop/StatisticalAnalysis/Insurance Claim Prediction Zindi/test_data.csv'\n",
    "\n",
    "train_df = pd.read_csv(train_data_path)\n",
    "test_df = pd.read_csv(test_data_path)"
   ]
  },
  {
   "cell_type": "code",
   "execution_count": 3,
   "metadata": {},
   "outputs": [
    {
     "data": {
      "text/html": [
       "<div>\n",
       "<style scoped>\n",
       "    .dataframe tbody tr th:only-of-type {\n",
       "        vertical-align: middle;\n",
       "    }\n",
       "\n",
       "    .dataframe tbody tr th {\n",
       "        vertical-align: top;\n",
       "    }\n",
       "\n",
       "    .dataframe thead th {\n",
       "        text-align: right;\n",
       "    }\n",
       "</style>\n",
       "<table border=\"1\" class=\"dataframe\">\n",
       "  <thead>\n",
       "    <tr style=\"text-align: right;\">\n",
       "      <th></th>\n",
       "      <th>Customer Id</th>\n",
       "      <th>YearOfObservation</th>\n",
       "      <th>Insured_Period</th>\n",
       "      <th>Residential</th>\n",
       "      <th>Building_Painted</th>\n",
       "      <th>Building_Fenced</th>\n",
       "      <th>Garden</th>\n",
       "      <th>Settlement</th>\n",
       "      <th>Building Dimension</th>\n",
       "      <th>Building_Type</th>\n",
       "      <th>Date_of_Occupancy</th>\n",
       "      <th>NumberOfWindows</th>\n",
       "      <th>Geo_Code</th>\n",
       "      <th>Claim</th>\n",
       "    </tr>\n",
       "  </thead>\n",
       "  <tbody>\n",
       "    <tr>\n",
       "      <th>0</th>\n",
       "      <td>H14663</td>\n",
       "      <td>2013</td>\n",
       "      <td>1.000000</td>\n",
       "      <td>0</td>\n",
       "      <td>N</td>\n",
       "      <td>V</td>\n",
       "      <td>V</td>\n",
       "      <td>U</td>\n",
       "      <td>290.0</td>\n",
       "      <td>1</td>\n",
       "      <td>1960.0</td>\n",
       "      <td>.</td>\n",
       "      <td>1053</td>\n",
       "      <td>0</td>\n",
       "    </tr>\n",
       "    <tr>\n",
       "      <th>1</th>\n",
       "      <td>H2037</td>\n",
       "      <td>2015</td>\n",
       "      <td>1.000000</td>\n",
       "      <td>0</td>\n",
       "      <td>V</td>\n",
       "      <td>N</td>\n",
       "      <td>O</td>\n",
       "      <td>R</td>\n",
       "      <td>490.0</td>\n",
       "      <td>1</td>\n",
       "      <td>1850.0</td>\n",
       "      <td>4</td>\n",
       "      <td>1053</td>\n",
       "      <td>0</td>\n",
       "    </tr>\n",
       "    <tr>\n",
       "      <th>2</th>\n",
       "      <td>H3802</td>\n",
       "      <td>2014</td>\n",
       "      <td>1.000000</td>\n",
       "      <td>0</td>\n",
       "      <td>N</td>\n",
       "      <td>V</td>\n",
       "      <td>V</td>\n",
       "      <td>U</td>\n",
       "      <td>595.0</td>\n",
       "      <td>1</td>\n",
       "      <td>1960.0</td>\n",
       "      <td>.</td>\n",
       "      <td>1053</td>\n",
       "      <td>0</td>\n",
       "    </tr>\n",
       "    <tr>\n",
       "      <th>3</th>\n",
       "      <td>H3834</td>\n",
       "      <td>2013</td>\n",
       "      <td>1.000000</td>\n",
       "      <td>0</td>\n",
       "      <td>V</td>\n",
       "      <td>V</td>\n",
       "      <td>V</td>\n",
       "      <td>U</td>\n",
       "      <td>2840.0</td>\n",
       "      <td>1</td>\n",
       "      <td>1960.0</td>\n",
       "      <td>.</td>\n",
       "      <td>1053</td>\n",
       "      <td>0</td>\n",
       "    </tr>\n",
       "    <tr>\n",
       "      <th>4</th>\n",
       "      <td>H5053</td>\n",
       "      <td>2014</td>\n",
       "      <td>1.000000</td>\n",
       "      <td>0</td>\n",
       "      <td>V</td>\n",
       "      <td>N</td>\n",
       "      <td>O</td>\n",
       "      <td>R</td>\n",
       "      <td>680.0</td>\n",
       "      <td>1</td>\n",
       "      <td>1800.0</td>\n",
       "      <td>3</td>\n",
       "      <td>1053</td>\n",
       "      <td>0</td>\n",
       "    </tr>\n",
       "    <tr>\n",
       "      <th>...</th>\n",
       "      <td>...</td>\n",
       "      <td>...</td>\n",
       "      <td>...</td>\n",
       "      <td>...</td>\n",
       "      <td>...</td>\n",
       "      <td>...</td>\n",
       "      <td>...</td>\n",
       "      <td>...</td>\n",
       "      <td>...</td>\n",
       "      <td>...</td>\n",
       "      <td>...</td>\n",
       "      <td>...</td>\n",
       "      <td>...</td>\n",
       "      <td>...</td>\n",
       "    </tr>\n",
       "    <tr>\n",
       "      <th>7150</th>\n",
       "      <td>H4637</td>\n",
       "      <td>2014</td>\n",
       "      <td>1.000000</td>\n",
       "      <td>0</td>\n",
       "      <td>V</td>\n",
       "      <td>V</td>\n",
       "      <td>V</td>\n",
       "      <td>U</td>\n",
       "      <td>NaN</td>\n",
       "      <td>2</td>\n",
       "      <td>1962.0</td>\n",
       "      <td>.</td>\n",
       "      <td>NaN</td>\n",
       "      <td>0</td>\n",
       "    </tr>\n",
       "    <tr>\n",
       "      <th>7151</th>\n",
       "      <td>H48</td>\n",
       "      <td>2014</td>\n",
       "      <td>0.030137</td>\n",
       "      <td>0</td>\n",
       "      <td>V</td>\n",
       "      <td>V</td>\n",
       "      <td>V</td>\n",
       "      <td>U</td>\n",
       "      <td>NaN</td>\n",
       "      <td>1</td>\n",
       "      <td>1970.0</td>\n",
       "      <td>.</td>\n",
       "      <td>NaN</td>\n",
       "      <td>0</td>\n",
       "    </tr>\n",
       "    <tr>\n",
       "      <th>7152</th>\n",
       "      <td>H5016</td>\n",
       "      <td>2012</td>\n",
       "      <td>1.000000</td>\n",
       "      <td>0</td>\n",
       "      <td>V</td>\n",
       "      <td>V</td>\n",
       "      <td>V</td>\n",
       "      <td>U</td>\n",
       "      <td>NaN</td>\n",
       "      <td>2</td>\n",
       "      <td>2001.0</td>\n",
       "      <td>.</td>\n",
       "      <td>NaN</td>\n",
       "      <td>1</td>\n",
       "    </tr>\n",
       "    <tr>\n",
       "      <th>7153</th>\n",
       "      <td>H5078</td>\n",
       "      <td>2013</td>\n",
       "      <td>1.000000</td>\n",
       "      <td>1</td>\n",
       "      <td>V</td>\n",
       "      <td>V</td>\n",
       "      <td>V</td>\n",
       "      <td>U</td>\n",
       "      <td>NaN</td>\n",
       "      <td>2</td>\n",
       "      <td>1950.0</td>\n",
       "      <td>.</td>\n",
       "      <td>NaN</td>\n",
       "      <td>0</td>\n",
       "    </tr>\n",
       "    <tr>\n",
       "      <th>7154</th>\n",
       "      <td>H5142</td>\n",
       "      <td>2012</td>\n",
       "      <td>1.000000</td>\n",
       "      <td>0</td>\n",
       "      <td>V</td>\n",
       "      <td>V</td>\n",
       "      <td>V</td>\n",
       "      <td>U</td>\n",
       "      <td>NaN</td>\n",
       "      <td>1</td>\n",
       "      <td>2001.0</td>\n",
       "      <td>.</td>\n",
       "      <td>NaN</td>\n",
       "      <td>1</td>\n",
       "    </tr>\n",
       "  </tbody>\n",
       "</table>\n",
       "<p>7155 rows × 14 columns</p>\n",
       "</div>"
      ],
      "text/plain": [
       "     Customer Id  YearOfObservation  Insured_Period  Residential  \\\n",
       "0         H14663               2013        1.000000            0   \n",
       "1          H2037               2015        1.000000            0   \n",
       "2          H3802               2014        1.000000            0   \n",
       "3          H3834               2013        1.000000            0   \n",
       "4          H5053               2014        1.000000            0   \n",
       "...          ...                ...             ...          ...   \n",
       "7150       H4637               2014        1.000000            0   \n",
       "7151         H48               2014        0.030137            0   \n",
       "7152       H5016               2012        1.000000            0   \n",
       "7153       H5078               2013        1.000000            1   \n",
       "7154       H5142               2012        1.000000            0   \n",
       "\n",
       "     Building_Painted Building_Fenced Garden Settlement  Building Dimension  \\\n",
       "0                   N               V      V          U               290.0   \n",
       "1                   V               N      O          R               490.0   \n",
       "2                   N               V      V          U               595.0   \n",
       "3                   V               V      V          U              2840.0   \n",
       "4                   V               N      O          R               680.0   \n",
       "...               ...             ...    ...        ...                 ...   \n",
       "7150                V               V      V          U                 NaN   \n",
       "7151                V               V      V          U                 NaN   \n",
       "7152                V               V      V          U                 NaN   \n",
       "7153                V               V      V          U                 NaN   \n",
       "7154                V               V      V          U                 NaN   \n",
       "\n",
       "      Building_Type  Date_of_Occupancy NumberOfWindows Geo_Code  Claim  \n",
       "0                 1             1960.0               .     1053      0  \n",
       "1                 1             1850.0               4     1053      0  \n",
       "2                 1             1960.0               .     1053      0  \n",
       "3                 1             1960.0               .     1053      0  \n",
       "4                 1             1800.0               3     1053      0  \n",
       "...             ...                ...             ...      ...    ...  \n",
       "7150              2             1962.0               .      NaN      0  \n",
       "7151              1             1970.0               .      NaN      0  \n",
       "7152              2             2001.0               .      NaN      1  \n",
       "7153              2             1950.0               .      NaN      0  \n",
       "7154              1             2001.0               .      NaN      1  \n",
       "\n",
       "[7155 rows x 14 columns]"
      ]
     },
     "execution_count": 3,
     "metadata": {},
     "output_type": "execute_result"
    }
   ],
   "source": [
    "train_df.head(-5)"
   ]
  },
  {
   "cell_type": "code",
   "execution_count": 4,
   "metadata": {},
   "outputs": [
    {
     "name": "stdout",
     "output_type": "stream",
     "text": [
      "<class 'pandas.core.frame.DataFrame'>\n",
      "RangeIndex: 7160 entries, 0 to 7159\n",
      "Data columns (total 14 columns):\n",
      " #   Column              Non-Null Count  Dtype  \n",
      "---  ------              --------------  -----  \n",
      " 0   Customer Id         7160 non-null   object \n",
      " 1   YearOfObservation   7160 non-null   int64  \n",
      " 2   Insured_Period      7160 non-null   float64\n",
      " 3   Residential         7160 non-null   int64  \n",
      " 4   Building_Painted    7160 non-null   object \n",
      " 5   Building_Fenced     7160 non-null   object \n",
      " 6   Garden              7153 non-null   object \n",
      " 7   Settlement          7160 non-null   object \n",
      " 8   Building Dimension  7054 non-null   float64\n",
      " 9   Building_Type       7160 non-null   int64  \n",
      " 10  Date_of_Occupancy   6652 non-null   float64\n",
      " 11  NumberOfWindows     7160 non-null   object \n",
      " 12  Geo_Code            7058 non-null   object \n",
      " 13  Claim               7160 non-null   int64  \n",
      "dtypes: float64(3), int64(4), object(7)\n",
      "memory usage: 783.2+ KB\n"
     ]
    }
   ],
   "source": [
    "train_df.info()"
   ]
  },
  {
   "cell_type": "markdown",
   "metadata": {},
   "source": [
    "# Missing Values"
   ]
  },
  {
   "cell_type": "code",
   "execution_count": 5,
   "metadata": {},
   "outputs": [
    {
     "data": {
      "text/plain": [
       "Customer Id             0\n",
       "YearOfObservation       0\n",
       "Insured_Period          0\n",
       "Residential             0\n",
       "Building_Painted        0\n",
       "Building_Fenced         0\n",
       "Garden                  7\n",
       "Settlement              0\n",
       "Building Dimension    106\n",
       "Building_Type           0\n",
       "Date_of_Occupancy     508\n",
       "NumberOfWindows         0\n",
       "Geo_Code              102\n",
       "Claim                   0\n",
       "dtype: int64"
      ]
     },
     "execution_count": 5,
     "metadata": {},
     "output_type": "execute_result"
    }
   ],
   "source": [
    "train_df.isnull().sum()"
   ]
  },
  {
   "cell_type": "code",
   "execution_count": 6,
   "metadata": {},
   "outputs": [
    {
     "data": {
      "text/html": [
       "<div>\n",
       "<style scoped>\n",
       "    .dataframe tbody tr th:only-of-type {\n",
       "        vertical-align: middle;\n",
       "    }\n",
       "\n",
       "    .dataframe tbody tr th {\n",
       "        vertical-align: top;\n",
       "    }\n",
       "\n",
       "    .dataframe thead th {\n",
       "        text-align: right;\n",
       "    }\n",
       "</style>\n",
       "<table border=\"1\" class=\"dataframe\">\n",
       "  <thead>\n",
       "    <tr style=\"text-align: right;\">\n",
       "      <th></th>\n",
       "      <th>YearOfObservation</th>\n",
       "      <th>Insured_Period</th>\n",
       "      <th>Residential</th>\n",
       "      <th>Building Dimension</th>\n",
       "      <th>Building_Type</th>\n",
       "      <th>Date_of_Occupancy</th>\n",
       "      <th>Claim</th>\n",
       "    </tr>\n",
       "  </thead>\n",
       "  <tbody>\n",
       "    <tr>\n",
       "      <th>count</th>\n",
       "      <td>7160.00</td>\n",
       "      <td>7160.00</td>\n",
       "      <td>7160.00</td>\n",
       "      <td>7054.00</td>\n",
       "      <td>7160.00</td>\n",
       "      <td>6652.00</td>\n",
       "      <td>7160.00</td>\n",
       "    </tr>\n",
       "    <tr>\n",
       "      <th>mean</th>\n",
       "      <td>2013.67</td>\n",
       "      <td>0.91</td>\n",
       "      <td>0.31</td>\n",
       "      <td>1883.73</td>\n",
       "      <td>2.19</td>\n",
       "      <td>1964.46</td>\n",
       "      <td>0.23</td>\n",
       "    </tr>\n",
       "    <tr>\n",
       "      <th>std</th>\n",
       "      <td>1.38</td>\n",
       "      <td>0.24</td>\n",
       "      <td>0.46</td>\n",
       "      <td>2278.16</td>\n",
       "      <td>0.94</td>\n",
       "      <td>36.00</td>\n",
       "      <td>0.42</td>\n",
       "    </tr>\n",
       "    <tr>\n",
       "      <th>min</th>\n",
       "      <td>2012.00</td>\n",
       "      <td>0.00</td>\n",
       "      <td>0.00</td>\n",
       "      <td>1.00</td>\n",
       "      <td>1.00</td>\n",
       "      <td>1545.00</td>\n",
       "      <td>0.00</td>\n",
       "    </tr>\n",
       "    <tr>\n",
       "      <th>25%</th>\n",
       "      <td>2012.00</td>\n",
       "      <td>1.00</td>\n",
       "      <td>0.00</td>\n",
       "      <td>528.00</td>\n",
       "      <td>2.00</td>\n",
       "      <td>1960.00</td>\n",
       "      <td>0.00</td>\n",
       "    </tr>\n",
       "    <tr>\n",
       "      <th>50%</th>\n",
       "      <td>2013.00</td>\n",
       "      <td>1.00</td>\n",
       "      <td>0.00</td>\n",
       "      <td>1083.00</td>\n",
       "      <td>2.00</td>\n",
       "      <td>1970.00</td>\n",
       "      <td>0.00</td>\n",
       "    </tr>\n",
       "    <tr>\n",
       "      <th>75%</th>\n",
       "      <td>2015.00</td>\n",
       "      <td>1.00</td>\n",
       "      <td>1.00</td>\n",
       "      <td>2289.75</td>\n",
       "      <td>3.00</td>\n",
       "      <td>1980.00</td>\n",
       "      <td>0.00</td>\n",
       "    </tr>\n",
       "    <tr>\n",
       "      <th>max</th>\n",
       "      <td>2016.00</td>\n",
       "      <td>1.00</td>\n",
       "      <td>1.00</td>\n",
       "      <td>20940.00</td>\n",
       "      <td>4.00</td>\n",
       "      <td>2016.00</td>\n",
       "      <td>1.00</td>\n",
       "    </tr>\n",
       "  </tbody>\n",
       "</table>\n",
       "</div>"
      ],
      "text/plain": [
       "       YearOfObservation  Insured_Period  Residential  Building Dimension  \\\n",
       "count            7160.00         7160.00      7160.00             7054.00   \n",
       "mean             2013.67            0.91         0.31             1883.73   \n",
       "std                 1.38            0.24         0.46             2278.16   \n",
       "min              2012.00            0.00         0.00                1.00   \n",
       "25%              2012.00            1.00         0.00              528.00   \n",
       "50%              2013.00            1.00         0.00             1083.00   \n",
       "75%              2015.00            1.00         1.00             2289.75   \n",
       "max              2016.00            1.00         1.00            20940.00   \n",
       "\n",
       "       Building_Type  Date_of_Occupancy    Claim  \n",
       "count        7160.00            6652.00  7160.00  \n",
       "mean            2.19            1964.46     0.23  \n",
       "std             0.94              36.00     0.42  \n",
       "min             1.00            1545.00     0.00  \n",
       "25%             2.00            1960.00     0.00  \n",
       "50%             2.00            1970.00     0.00  \n",
       "75%             3.00            1980.00     0.00  \n",
       "max             4.00            2016.00     1.00  "
      ]
     },
     "execution_count": 6,
     "metadata": {},
     "output_type": "execute_result"
    }
   ],
   "source": [
    "#Dealing with continous variables\n",
    "train_df.describe().round(2)"
   ]
  },
  {
   "cell_type": "code",
   "execution_count": 7,
   "metadata": {},
   "outputs": [
    {
     "data": {
      "text/plain": [
       "<matplotlib.axes._subplots.AxesSubplot at 0x10ff06190>"
      ]
     },
     "execution_count": 7,
     "metadata": {},
     "output_type": "execute_result"
    },
    {
     "data": {
      "image/png": "[encoded data removed]",
      "text/plain": [
       "<Figure size 432x288 with 1 Axes>"
      ]
     },
     "metadata": {
      "needs_background": "light"
     },
     "output_type": "display_data"
    }
   ],
   "source": [
    "#Checking distribution to help decide the imputation method to use for the continous variables\n",
    "sns.boxplot(train_df['Building Dimension'])"
   ]
  },
  {
   "cell_type": "code",
   "execution_count": 8,
   "metadata": {},
   "outputs": [
    {
     "data": {
      "text/plain": [
       "<matplotlib.axes._subplots.AxesSubplot at 0x12ba00790>"
      ]
     },
     "execution_count": 8,
     "metadata": {},
     "output_type": "execute_result"
    },
    {
     "data": {
      "image/png": "[encoded data removed]",
      "text/plain": [
       "<Figure size 432x288 with 1 Axes>"
      ]
     },
     "metadata": {
      "needs_background": "light"
     },
     "output_type": "display_data"
    }
   ],
   "source": [
    "sns.boxplot(train_df['Date_of_Occupancy'])"
   ]
  },
  {
   "cell_type": "markdown",
   "metadata": {},
   "source": [
    "we can deduce from the descriptive statistics that there is a possibility that building dimension and date of occupancy has an outlier"
   ]
  },
  {
   "cell_type": "code",
   "execution_count": 9,
   "metadata": {},
   "outputs": [],
   "source": [
    "#We replace missing values for the building dimension and date of occupancy with Median since\n",
    "#Both are highly skewed\n",
    "train_df['Date_of_Occupancy'] = train_df['Date_of_Occupancy'].fillna(train_df['Date_of_Occupancy'].median())\n",
    "train_df['Building Dimension'] = train_df['Building Dimension'].fillna(train_df['Building Dimension'].median())"
   ]
  },
  {
   "cell_type": "code",
   "execution_count": 10,
   "metadata": {},
   "outputs": [],
   "source": [
    "#We replace the categorical variables with the mode\n",
    "train_df['Garden'] = train_df['Garden'].fillna(train_df['Garden'].mode()[0])\n",
    "train_df['Geo_Code'] = train_df['Geo_Code'].fillna(train_df['Geo_Code'].mode()[0])"
   ]
  },
  {
   "cell_type": "code",
   "execution_count": 11,
   "metadata": {},
   "outputs": [
    {
     "data": {
      "text/plain": [
       "Customer Id           0\n",
       "YearOfObservation     0\n",
       "Insured_Period        0\n",
       "Residential           0\n",
       "Building_Painted      0\n",
       "Building_Fenced       0\n",
       "Garden                0\n",
       "Settlement            0\n",
       "Building Dimension    0\n",
       "Building_Type         0\n",
       "Date_of_Occupancy     0\n",
       "NumberOfWindows       0\n",
       "Geo_Code              0\n",
       "Claim                 0\n",
       "dtype: int64"
      ]
     },
     "execution_count": 11,
     "metadata": {},
     "output_type": "execute_result"
    }
   ],
   "source": [
    "train_df.isnull().sum()"
   ]
  },
  {
   "cell_type": "markdown",
   "metadata": {},
   "source": [
    "# Exploratory Data Analysis"
   ]
  },
  {
   "cell_type": "code",
   "execution_count": 12,
   "metadata": {},
   "outputs": [
    {
     "data": {
      "image/png": "[encoded data removed]",
      "text/plain": [
       "<Figure size 720x1080 with 4 Axes>"
      ]
     },
     "metadata": {
      "needs_background": "light"
     },
     "output_type": "display_data"
    }
   ],
   "source": [
    "#Numerical Data\n",
    "train_num = ['Building Dimension', 'Date_of_Occupancy']\n",
    "\n",
    "#  plot Numerical Data\n",
    "a = 2  # number of rows\n",
    "b = 2  # number of columns\n",
    "c = 1  # initialize plot counter\n",
    "\n",
    "fig = plt.figure(figsize=(10,15))\n",
    "\n",
    "for i in train_num:\n",
    "    plt.subplot(a, b, c)\n",
    "    plt.title('{} (dist), subplot: {}{}{}'.format(i, a, b, c))\n",
    "    plt.xlabel(i)\n",
    "    sns.distplot(train_df[i])\n",
    "    c = c + 1\n",
    "\n",
    "    plt.subplot(a, b, c)\n",
    "    plt.title('{} (box), subplot: {}{}{}'.format(i, a, b, c))\n",
    "    plt.xlabel(i)\n",
    "    plt.boxplot(x = train_df[i])\n",
    "    c = c + 1\n",
    "\n",
    "    #plt.subplot(a, b, c)\n",
    "    #plt.title('{} (scatter), subplot: {}{}{}'.format(i, a, b, c))\n",
    "    #plt.xlabel(i)\n",
    "    #sns.scatterplot(data = train_df, x = i, y = 'chol', hue = 'claim')\n",
    "    #c = c + 1\n",
    "\n",
    "plt.show()"
   ]
  },
  {
   "cell_type": "code",
   "execution_count": 13,
   "metadata": {},
   "outputs": [
    {
     "data": {
      "image/png": "[encoded data removed]",
      "text/plain": [
       "<Figure size 432x360 with 1 Axes>"
      ]
     },
     "metadata": {
      "needs_background": "light"
     },
     "output_type": "display_data"
    }
   ],
   "source": [
    "#The target variable distribution\n",
    "fig = plt.figure(figsize=(6,5))\n",
    "plt.title('The claim Distribution')\n",
    "plt.hist(train_df['Claim'])\n",
    "plt.show()"
   ]
  },
  {
   "cell_type": "code",
   "execution_count": 14,
   "metadata": {},
   "outputs": [
    {
     "data": {
      "image/png": "[encoded data removed]",
      "text/plain": [
       "<Figure size 1080x720 with 6 Axes>"
      ]
     },
     "metadata": {
      "needs_background": "light"
     },
     "output_type": "display_data"
    }
   ],
   "source": [
    "#Categorical Variables\n",
    "train_cat = ['Building_Painted','Building_Fenced','Garden','Settlement','NumberOfWindows','Geo_Code']\n",
    "\n",
    "#  plot Numerical Data\n",
    "a = 2  # number of rows\n",
    "b = 3  # number of columns\n",
    "c = 1  # initialize plot counter\n",
    "\n",
    "fig = plt.figure(figsize=(15,10))\n",
    "\n",
    "for i in train_cat:\n",
    "    plt.subplot(a, b, c)\n",
    "    plt.title('{}'.format(i))\n",
    "    #plt.xlabel(i)\n",
    "    plt.hist(train_df[i])\n",
    "    c = c + 1\n",
    "\n",
    "plt.show()"
   ]
  },
  {
   "cell_type": "code",
   "execution_count": 15,
   "metadata": {},
   "outputs": [
    {
     "data": {
      "image/png": "[encoded data removed]",
      "text/plain": [
       "<Figure size 432x288 with 1 Axes>"
      ]
     },
     "metadata": {
      "needs_background": "light"
     },
     "output_type": "display_data"
    },
    {
     "data": {
      "image/png": "[encoded data removed]",
      "text/plain": [
       "<Figure size 432x288 with 1 Axes>"
      ]
     },
     "metadata": {
      "needs_background": "light"
     },
     "output_type": "display_data"
    }
   ],
   "source": [
    "for i in train_num:\n",
    "    \n",
    "    fig, ax = plt.subplots()\n",
    "\n",
    "    ax.hist(train_df[train_df['Claim']==0][i], bins=15, alpha=0.5, color=\"blue\", label=\"No\")\n",
    "    ax.hist(train_df[train_df['Claim']==1][i], bins=15, alpha=0.5, color=\"green\", label=\"Yes\")\n",
    "\n",
    "    ax.set_xlabel(i)\n",
    "    ax.set_ylabel(\"Frequency\")\n",
    "\n",
    "    ax.legend();\n",
    "    "
   ]
  },
  {
   "cell_type": "code",
   "execution_count": 16,
   "metadata": {},
   "outputs": [
    {
     "data": {
      "image/png": "[encoded data removed]",
      "text/plain": [
       "<Figure size 432x288 with 1 Axes>"
      ]
     },
     "metadata": {
      "needs_background": "light"
     },
     "output_type": "display_data"
    },
    {
     "data": {
      "image/png": "[encoded data removed]",
      "text/plain": [
       "<Figure size 432x288 with 1 Axes>"
      ]
     },
     "metadata": {
      "needs_background": "light"
     },
     "output_type": "display_data"
    },
    {
     "data": {
      "image/png": "[encoded data removed]",
      "text/plain": [
       "<Figure size 432x288 with 1 Axes>"
      ]
     },
     "metadata": {
      "needs_background": "light"
     },
     "output_type": "display_data"
    },
    {
     "data": {
      "image/png": "[encoded data removed]",
      "text/plain": [
       "<Figure size 432x288 with 1 Axes>"
      ]
     },
     "metadata": {
      "needs_background": "light"
     },
     "output_type": "display_data"
    },
    {
     "data": {
      "image/png": "[encoded data removed]",
      "text/plain": [
       "<Figure size 432x288 with 1 Axes>"
      ]
     },
     "metadata": {
      "needs_background": "light"
     },
     "output_type": "display_data"
    }
   ],
   "source": [
    "#Categorical Variables\n",
    "train_cat = ['Building_Painted','Building_Fenced','Garden','Settlement','NumberOfWindows']\n",
    "\n",
    "for i in train_cat:\n",
    "\n",
    "    pd.crosstab(train_df[i], train_df.Claim).plot(kind = 'bar')\n",
    "    plt.xlabel('{}'.format(i))\n",
    "    plt.ylabel('Claim Outcome')\n",
    "    \n",
    "plt.show()"
   ]
  },
  {
   "cell_type": "markdown",
   "metadata": {},
   "source": [
    "Insights\n",
    " > Possibility of class imbalance\n",
    " \n",
    " > Skewed data for building dimension and date of occupancy"
   ]
  },
  {
   "cell_type": "markdown",
   "metadata": {},
   "source": [
    "# Feature Engineering"
   ]
  },
  {
   "cell_type": "code",
   "execution_count": 17,
   "metadata": {},
   "outputs": [],
   "source": [
    "#Dealing with outliers\n",
    "#Experiment with the removal of outliers and non_removal of outliers\n",
    "# Option 1: No removal of outliers\n",
    "#Create a copy of the train dataset\n",
    "train_df_copy = train_df.copy()"
   ]
  },
  {
   "cell_type": "code",
   "execution_count": 18,
   "metadata": {},
   "outputs": [
    {
     "name": "stdout",
     "output_type": "stream",
     "text": [
      "<class 'pandas.core.frame.DataFrame'>\n",
      "RangeIndex: 7160 entries, 0 to 7159\n",
      "Data columns (total 14 columns):\n",
      " #   Column              Non-Null Count  Dtype  \n",
      "---  ------              --------------  -----  \n",
      " 0   Customer Id         7160 non-null   object \n",
      " 1   YearOfObservation   7160 non-null   int64  \n",
      " 2   Insured_Period      7160 non-null   float64\n",
      " 3   Residential         7160 non-null   int64  \n",
      " 4   Building_Painted    7160 non-null   object \n",
      " 5   Building_Fenced     7160 non-null   object \n",
      " 6   Garden              7160 non-null   object \n",
      " 7   Settlement          7160 non-null   object \n",
      " 8   Building Dimension  7160 non-null   float64\n",
      " 9   Building_Type       7160 non-null   int64  \n",
      " 10  Date_of_Occupancy   7160 non-null   float64\n",
      " 11  NumberOfWindows     7160 non-null   object \n",
      " 12  Geo_Code            7160 non-null   object \n",
      " 13  Claim               7160 non-null   int64  \n",
      "dtypes: float64(3), int64(4), object(7)\n",
      "memory usage: 783.2+ KB\n"
     ]
    }
   ],
   "source": [
    "train_df.info()"
   ]
  },
  {
   "cell_type": "code",
   "execution_count": 19,
   "metadata": {},
   "outputs": [],
   "source": [
    "#Encoding of categorical variables We use Label Encoder\n",
    "train_df['Building_Painted'] = train_df['Building_Painted'].replace(['N','V'],[1,0])\n",
    "train_df['Building_Fenced'] = train_df['Building_Fenced'].replace(['N','V'],[1,0])\n",
    "train_df['Garden'] = train_df['Garden'].replace(['V','O'],[1,0])\n",
    "train_df['Settlement'] = train_df['Settlement'].replace(['R','U'],[0,1])\n",
    "train_df['Building_Type'] = train_df['Building_Type'].replace([1,2,3,4],[0,1,2,3])"
   ]
  },
  {
   "cell_type": "code",
   "execution_count": 20,
   "metadata": {},
   "outputs": [],
   "source": [
    "train_df['NumberOfWindows'] = train_df['NumberOfWindows'].replace(['   .','>=10'],['',10])"
   ]
  },
  {
   "cell_type": "code",
   "execution_count": 21,
   "metadata": {},
   "outputs": [],
   "source": [
    "train_df['NumberOfWindows'] = train_df['NumberOfWindows'].replace(['1','2','3','4','5','6','7','8','9',10],[0,1,2,3,4,5,6,7,8,9])"
   ]
  },
  {
   "cell_type": "code",
   "execution_count": 22,
   "metadata": {},
   "outputs": [
    {
     "data": {
      "text/html": [
       "<div>\n",
       "<style scoped>\n",
       "    .dataframe tbody tr th:only-of-type {\n",
       "        vertical-align: middle;\n",
       "    }\n",
       "\n",
       "    .dataframe tbody tr th {\n",
       "        vertical-align: top;\n",
       "    }\n",
       "\n",
       "    .dataframe thead th {\n",
       "        text-align: right;\n",
       "    }\n",
       "</style>\n",
       "<table border=\"1\" class=\"dataframe\">\n",
       "  <thead>\n",
       "    <tr style=\"text-align: right;\">\n",
       "      <th></th>\n",
       "      <th>Customer Id</th>\n",
       "      <th>YearOfObservation</th>\n",
       "      <th>Insured_Period</th>\n",
       "      <th>Residential</th>\n",
       "      <th>Building_Painted</th>\n",
       "      <th>Building_Fenced</th>\n",
       "      <th>Garden</th>\n",
       "      <th>Settlement</th>\n",
       "      <th>Building Dimension</th>\n",
       "      <th>Building_Type</th>\n",
       "      <th>Date_of_Occupancy</th>\n",
       "      <th>NumberOfWindows</th>\n",
       "      <th>Geo_Code</th>\n",
       "      <th>Claim</th>\n",
       "    </tr>\n",
       "  </thead>\n",
       "  <tbody>\n",
       "    <tr>\n",
       "      <th>0</th>\n",
       "      <td>H14663</td>\n",
       "      <td>2013</td>\n",
       "      <td>1.0</td>\n",
       "      <td>0</td>\n",
       "      <td>1</td>\n",
       "      <td>0</td>\n",
       "      <td>1</td>\n",
       "      <td>1</td>\n",
       "      <td>290.0</td>\n",
       "      <td>0</td>\n",
       "      <td>1960.0</td>\n",
       "      <td></td>\n",
       "      <td>1053</td>\n",
       "      <td>0</td>\n",
       "    </tr>\n",
       "    <tr>\n",
       "      <th>1</th>\n",
       "      <td>H2037</td>\n",
       "      <td>2015</td>\n",
       "      <td>1.0</td>\n",
       "      <td>0</td>\n",
       "      <td>0</td>\n",
       "      <td>1</td>\n",
       "      <td>0</td>\n",
       "      <td>0</td>\n",
       "      <td>490.0</td>\n",
       "      <td>0</td>\n",
       "      <td>1850.0</td>\n",
       "      <td>3</td>\n",
       "      <td>1053</td>\n",
       "      <td>0</td>\n",
       "    </tr>\n",
       "    <tr>\n",
       "      <th>2</th>\n",
       "      <td>H3802</td>\n",
       "      <td>2014</td>\n",
       "      <td>1.0</td>\n",
       "      <td>0</td>\n",
       "      <td>1</td>\n",
       "      <td>0</td>\n",
       "      <td>1</td>\n",
       "      <td>1</td>\n",
       "      <td>595.0</td>\n",
       "      <td>0</td>\n",
       "      <td>1960.0</td>\n",
       "      <td></td>\n",
       "      <td>1053</td>\n",
       "      <td>0</td>\n",
       "    </tr>\n",
       "    <tr>\n",
       "      <th>3</th>\n",
       "      <td>H3834</td>\n",
       "      <td>2013</td>\n",
       "      <td>1.0</td>\n",
       "      <td>0</td>\n",
       "      <td>0</td>\n",
       "      <td>0</td>\n",
       "      <td>1</td>\n",
       "      <td>1</td>\n",
       "      <td>2840.0</td>\n",
       "      <td>0</td>\n",
       "      <td>1960.0</td>\n",
       "      <td></td>\n",
       "      <td>1053</td>\n",
       "      <td>0</td>\n",
       "    </tr>\n",
       "    <tr>\n",
       "      <th>4</th>\n",
       "      <td>H5053</td>\n",
       "      <td>2014</td>\n",
       "      <td>1.0</td>\n",
       "      <td>0</td>\n",
       "      <td>0</td>\n",
       "      <td>1</td>\n",
       "      <td>0</td>\n",
       "      <td>0</td>\n",
       "      <td>680.0</td>\n",
       "      <td>0</td>\n",
       "      <td>1800.0</td>\n",
       "      <td>2</td>\n",
       "      <td>1053</td>\n",
       "      <td>0</td>\n",
       "    </tr>\n",
       "  </tbody>\n",
       "</table>\n",
       "</div>"
      ],
      "text/plain": [
       "  Customer Id  YearOfObservation  Insured_Period  Residential  \\\n",
       "0      H14663               2013             1.0            0   \n",
       "1       H2037               2015             1.0            0   \n",
       "2       H3802               2014             1.0            0   \n",
       "3       H3834               2013             1.0            0   \n",
       "4       H5053               2014             1.0            0   \n",
       "\n",
       "   Building_Painted  Building_Fenced  Garden  Settlement  Building Dimension  \\\n",
       "0                 1                0       1           1               290.0   \n",
       "1                 0                1       0           0               490.0   \n",
       "2                 1                0       1           1               595.0   \n",
       "3                 0                0       1           1              2840.0   \n",
       "4                 0                1       0           0               680.0   \n",
       "\n",
       "   Building_Type  Date_of_Occupancy NumberOfWindows Geo_Code  Claim  \n",
       "0              0             1960.0                     1053      0  \n",
       "1              0             1850.0               3     1053      0  \n",
       "2              0             1960.0                     1053      0  \n",
       "3              0             1960.0                     1053      0  \n",
       "4              0             1800.0               2     1053      0  "
      ]
     },
     "execution_count": 22,
     "metadata": {},
     "output_type": "execute_result"
    }
   ],
   "source": [
    "train_df.head(5)"
   ]
  },
  {
   "cell_type": "code",
   "execution_count": 23,
   "metadata": {},
   "outputs": [],
   "source": [
    "#train_df = train_df.drop(columns=['Customer Id'])\n",
    "train_df_le = train_df"
   ]
  },
  {
   "cell_type": "code",
   "execution_count": 24,
   "metadata": {},
   "outputs": [],
   "source": [
    "#With One Hot Encoder and no removal of outliers\n",
    "train_df_he = train_df_copy.copy()"
   ]
  },
  {
   "cell_type": "code",
   "execution_count": 25,
   "metadata": {},
   "outputs": [
    {
     "name": "stdout",
     "output_type": "stream",
     "text": [
      "<class 'pandas.core.frame.DataFrame'>\n",
      "RangeIndex: 7160 entries, 0 to 7159\n",
      "Data columns (total 14 columns):\n",
      " #   Column              Non-Null Count  Dtype  \n",
      "---  ------              --------------  -----  \n",
      " 0   Customer Id         7160 non-null   object \n",
      " 1   YearOfObservation   7160 non-null   int64  \n",
      " 2   Insured_Period      7160 non-null   float64\n",
      " 3   Residential         7160 non-null   int64  \n",
      " 4   Building_Painted    7160 non-null   object \n",
      " 5   Building_Fenced     7160 non-null   object \n",
      " 6   Garden              7160 non-null   object \n",
      " 7   Settlement          7160 non-null   object \n",
      " 8   Building Dimension  7160 non-null   float64\n",
      " 9   Building_Type       7160 non-null   int64  \n",
      " 10  Date_of_Occupancy   7160 non-null   float64\n",
      " 11  NumberOfWindows     7160 non-null   object \n",
      " 12  Geo_Code            7160 non-null   object \n",
      " 13  Claim               7160 non-null   int64  \n",
      "dtypes: float64(3), int64(4), object(7)\n",
      "memory usage: 783.2+ KB\n"
     ]
    }
   ],
   "source": [
    "train_df_copy.info()"
   ]
  },
  {
   "cell_type": "code",
   "execution_count": 26,
   "metadata": {},
   "outputs": [
    {
     "data": {
      "text/plain": [
       "[('Building_Painted', 2),\n",
       " ('Building_Fenced', 2),\n",
       " ('Garden', 2),\n",
       " ('Settlement', 2),\n",
       " ('NumberOfWindows', 11),\n",
       " ('Geo_Code', 1307),\n",
       " ('Customer Id', 7160)]"
      ]
     },
     "execution_count": 26,
     "metadata": {},
     "output_type": "execute_result"
    }
   ],
   "source": [
    "#Checking cardinality (Number of unique values in a column)\n",
    "# Get a list of the categorical variables\n",
    "\n",
    "object_cols = [col for col in train_df_he.columns if train_df_he[col].dtype == \"object\"]\n",
    "\n",
    "# Get number of unique entries in each column with categorical data\n",
    "\n",
    "object_nunique = list(map(lambda col: train_df_he[col].nunique(), object_cols))\n",
    "d = dict(zip(object_cols, object_nunique))\n",
    "\n",
    "# Print number of unique entries by column, in ascending order\n",
    "\n",
    "sorted(d.items(), key=lambda x: x[1])"
   ]
  },
  {
   "cell_type": "code",
   "execution_count": 27,
   "metadata": {},
   "outputs": [
    {
     "data": {
      "text/plain": [
       "array(['Customer Id', 'YearOfObservation', 'Insured_Period',\n",
       "       'Residential', 'Building Dimension', 'Building_Type',\n",
       "       'Date_of_Occupancy', 'Geo_Code', 'Claim', 'Building_Painted_N',\n",
       "       'Building_Painted_V', 'Building_Fenced_N', 'Building_Fenced_V',\n",
       "       'Garden_O', 'Garden_V', 'Settlement_R', 'Settlement_U',\n",
       "       'NumberOfWindows_   .', 'NumberOfWindows_1', 'NumberOfWindows_2',\n",
       "       'NumberOfWindows_3', 'NumberOfWindows_4', 'NumberOfWindows_5',\n",
       "       'NumberOfWindows_6', 'NumberOfWindows_7', 'NumberOfWindows_8',\n",
       "       'NumberOfWindows_9', 'NumberOfWindows_>=10'], dtype=object)"
      ]
     },
     "execution_count": 27,
     "metadata": {},
     "output_type": "execute_result"
    }
   ],
   "source": [
    "cat_vars = ['Building_Painted','Building_Fenced','Garden','Settlement','NumberOfWindows']\n",
    "\n",
    "for var in cat_vars:\n",
    "    cat_list = 'var' + '_' + 'var'\n",
    "    cat_list = pd.get_dummies(train_df_he[var], prefix=var)\n",
    "    train_df_he_New = pd.concat([train_df_he,cat_list],axis = 1)\n",
    "    train_df_he = train_df_he_New\n",
    "\n",
    "data_vars = train_df_he.columns.values.tolist()\n",
    "\n",
    "to_keep = [i for i in data_vars if i not in cat_vars]\n",
    "\n",
    "train_df_he_final = train_df_he[to_keep]\n",
    "\n",
    "train_df_he_final.columns.values"
   ]
  },
  {
   "cell_type": "code",
   "execution_count": 28,
   "metadata": {},
   "outputs": [],
   "source": [
    "train_he_df = train_df_he_final.drop(columns=['Customer Id','NumberOfWindows_   .'])"
   ]
  },
  {
   "cell_type": "code",
   "execution_count": 29,
   "metadata": {},
   "outputs": [
    {
     "name": "stdout",
     "output_type": "stream",
     "text": [
      "<class 'pandas.core.frame.DataFrame'>\n",
      "RangeIndex: 7160 entries, 0 to 7159\n",
      "Data columns (total 14 columns):\n",
      " #   Column              Non-Null Count  Dtype  \n",
      "---  ------              --------------  -----  \n",
      " 0   Customer Id         7160 non-null   object \n",
      " 1   YearOfObservation   7160 non-null   int64  \n",
      " 2   Insured_Period      7160 non-null   float64\n",
      " 3   Residential         7160 non-null   int64  \n",
      " 4   Building_Painted    7160 non-null   int64  \n",
      " 5   Building_Fenced     7160 non-null   int64  \n",
      " 6   Garden              7160 non-null   int64  \n",
      " 7   Settlement          7160 non-null   int64  \n",
      " 8   Building Dimension  7160 non-null   float64\n",
      " 9   Building_Type       7160 non-null   int64  \n",
      " 10  Date_of_Occupancy   7160 non-null   float64\n",
      " 11  NumberOfWindows     7160 non-null   object \n",
      " 12  Geo_Code            7160 non-null   object \n",
      " 13  Claim               7160 non-null   int64  \n",
      "dtypes: float64(3), int64(8), object(3)\n",
      "memory usage: 783.2+ KB\n"
     ]
    }
   ],
   "source": [
    "train_df_le.info()"
   ]
  },
  {
   "cell_type": "code",
   "execution_count": 30,
   "metadata": {},
   "outputs": [],
   "source": [
    "train_df_le['NumberOfWindows'] = pd.to_numeric(train_df_le['NumberOfWindows'])"
   ]
  },
  {
   "cell_type": "code",
   "execution_count": 31,
   "metadata": {},
   "outputs": [],
   "source": [
    "#Print all the rows where the geo-code has a letter \n",
    "#print(train_df_le[train_df_le.Geo_Code.str.contains(r'[A-Z]')])\n",
    "\n",
    "#Remove all rows where the Geo Code has a Letter Character (Prevents conversion from string to Numeric)\n",
    "\n",
    "train_df_le_trial = train_df_le.drop(train_df_le[train_df_le.Geo_Code.str.contains(r'[A-Z]')].index)"
   ]
  },
  {
   "cell_type": "code",
   "execution_count": 32,
   "metadata": {},
   "outputs": [
    {
     "name": "stdout",
     "output_type": "stream",
     "text": [
      "<class 'pandas.core.frame.DataFrame'>\n",
      "Int64Index: 7092 entries, 0 to 7159\n",
      "Data columns (total 14 columns):\n",
      " #   Column              Non-Null Count  Dtype  \n",
      "---  ------              --------------  -----  \n",
      " 0   Customer Id         7092 non-null   object \n",
      " 1   YearOfObservation   7092 non-null   int64  \n",
      " 2   Insured_Period      7092 non-null   float64\n",
      " 3   Residential         7092 non-null   int64  \n",
      " 4   Building_Painted    7092 non-null   int64  \n",
      " 5   Building_Fenced     7092 non-null   int64  \n",
      " 6   Garden              7092 non-null   int64  \n",
      " 7   Settlement          7092 non-null   int64  \n",
      " 8   Building Dimension  7092 non-null   float64\n",
      " 9   Building_Type       7092 non-null   int64  \n",
      " 10  Date_of_Occupancy   7092 non-null   float64\n",
      " 11  NumberOfWindows     3552 non-null   float64\n",
      " 12  Geo_Code            7092 non-null   object \n",
      " 13  Claim               7092 non-null   int64  \n",
      "dtypes: float64(4), int64(8), object(2)\n",
      "memory usage: 831.1+ KB\n"
     ]
    }
   ],
   "source": [
    "train_df_le_trial.info()"
   ]
  },
  {
   "cell_type": "code",
   "execution_count": 33,
   "metadata": {},
   "outputs": [],
   "source": [
    "train_df_le_trial['Geo_Code'] = pd.to_numeric(train_df_le_trial['Geo_Code'])"
   ]
  },
  {
   "cell_type": "code",
   "execution_count": 34,
   "metadata": {},
   "outputs": [
    {
     "data": {
      "text/plain": [
       "Customer Id              0\n",
       "YearOfObservation        0\n",
       "Insured_Period           0\n",
       "Residential              0\n",
       "Building_Painted         0\n",
       "Building_Fenced          0\n",
       "Garden                   0\n",
       "Settlement               0\n",
       "Building Dimension       0\n",
       "Building_Type            0\n",
       "Date_of_Occupancy        0\n",
       "NumberOfWindows       3540\n",
       "Geo_Code                 0\n",
       "Claim                    0\n",
       "dtype: int64"
      ]
     },
     "execution_count": 34,
     "metadata": {},
     "output_type": "execute_result"
    }
   ],
   "source": [
    "train_df_le_trial.isnull().sum()"
   ]
  },
  {
   "cell_type": "code",
   "execution_count": 35,
   "metadata": {},
   "outputs": [],
   "source": [
    "#Since number of windows has almost half plus missing values we drop it as replacing with mode would introduce a bias\n",
    "train_df_le = train_df_le_trial\n",
    "train_df_le = train_df_le.drop(columns = ['Customer Id','NumberOfWindows'])"
   ]
  },
  {
   "cell_type": "markdown",
   "metadata": {},
   "source": [
    "# Modelling with label encoding"
   ]
  },
  {
   "cell_type": "code",
   "execution_count": 36,
   "metadata": {},
   "outputs": [],
   "source": [
    "#Creating features and labels and converting the data to arrays for the data done using label encoding\n",
    "#Labels that we want to predict\n",
    "labels_le = np.array(train_df_le['Claim'])\n",
    "\n",
    "#Create the features by dropping the label\n",
    "features_le = train_df_le.drop('Claim', axis=1)\n",
    "\n",
    "#Save feature names for later use\n",
    "feature_list_le = list(features_le.columns)\n",
    "\n",
    "#Convert to numpy arrays\n",
    "features_le = np.array(features_le)"
   ]
  },
  {
   "cell_type": "code",
   "execution_count": 37,
   "metadata": {},
   "outputs": [
    {
     "name": "stdout",
     "output_type": "stream",
     "text": [
      "Fold:1, Train set: 5673,Validation set:1419\n",
      "Fold:2, Train set: 5673,Validation set:1419\n",
      "Fold:3, Train set: 5674,Validation set:1418\n",
      "Fold:4, Train set: 5674,Validation set:1418\n",
      "Fold:5, Train set: 5674,Validation set:1418\n"
     ]
    }
   ],
   "source": [
    "#Use of k-fold for validation purposes\n",
    "\n",
    "kf = StratifiedKFold(n_splits=5, shuffle=True, random_state=42)\n",
    "\n",
    "count = 1\n",
    "\n",
    "#we use split method that will generate indices to split data into train and test sets\n",
    "\n",
    "for train_index, test_index in kf.split(features_le,labels_le):\n",
    "    print(f'Fold:{count}, Train set: {len(train_index)},Validation set:{len(test_index)}')\n",
    "    count+=1"
   ]
  },
  {
   "cell_type": "code",
   "execution_count": 38,
   "metadata": {},
   "outputs": [
    {
     "name": "stdout",
     "output_type": "stream",
     "text": [
      "Scores for each fold are: [0.7751938  0.77307963 0.77362482 0.78138223 0.77150917]\n",
      "Average score: 0.77\n"
     ]
    }
   ],
   "source": [
    "#Random Forest using Label Encoding\n",
    "score = cross_val_score(ensemble.RandomForestClassifier(random_state= 42), \n",
    "                        features_le, labels_le, cv= kf, scoring=\"accuracy\")\n",
    "print(f'Scores for each fold are: {score}')\n",
    "print(f'Average score: {\"{:.2f}\".format(score.mean())}')"
   ]
  },
  {
   "cell_type": "code",
   "execution_count": 39,
   "metadata": {},
   "outputs": [
    {
     "name": "stdout",
     "output_type": "stream",
     "text": [
      "Scores for each fold are: [0.69203665 0.66737139 0.68406206 0.70028209 0.6932299 ]\n",
      "Average score: 0.69\n"
     ]
    }
   ],
   "source": [
    "#Decision Tree Classifier\n",
    "score = cross_val_score(tree.DecisionTreeClassifier(random_state= 42), \n",
    "                        features_le, labels_le, cv= kf, scoring=\"accuracy\")\n",
    "print(f'Scores for each fold are: {score}')\n",
    "print(f'Average score: {\"{:.2f}\".format(score.mean())}')"
   ]
  },
  {
   "cell_type": "code",
   "execution_count": 40,
   "metadata": {},
   "outputs": [
    {
     "name": "stdout",
     "output_type": "stream",
     "text": [
      "Scores for each fold are: [0.77237491 0.77167019 0.77221439 0.77221439 0.77221439]\n",
      "Average score: 0.77\n"
     ]
    }
   ],
   "source": [
    "# Using Support Vector Machine\n",
    "score = cross_val_score(svm.SVC(random_state= 42), \n",
    "                        features_le, labels_le, cv= kf, scoring=\"accuracy\")\n",
    "print(f'Scores for each fold are: {score}')\n",
    "print(f'Average score: {\"{:.2f}\".format(score.mean())}')"
   ]
  },
  {
   "cell_type": "code",
   "execution_count": 41,
   "metadata": {},
   "outputs": [
    {
     "name": "stdout",
     "output_type": "stream",
     "text": [
      "Scores for each fold are: [0.7914024  0.79210712 0.78208745 0.78913963 0.77856135]\n",
      "Average score: 0.79\n"
     ]
    }
   ],
   "source": [
    "#Using Gradient Boosting Classifier\n",
    "score = cross_val_score(ensemble.GradientBoostingClassifier(random_state= 42), \n",
    "                        features_le, labels_le, cv= kf, scoring=\"accuracy\")\n",
    "print(f'Scores for each fold are: {score}')\n",
    "print(f'Average score: {\"{:.2f}\".format(score.mean())}')"
   ]
  },
  {
   "cell_type": "markdown",
   "metadata": {},
   "source": [
    "# Modelling with One - Hot Encoding"
   ]
  },
  {
   "cell_type": "code",
   "execution_count": 42,
   "metadata": {},
   "outputs": [],
   "source": [
    "train_df_he_trial = train_he_df.drop(train_he_df[train_he_df.Geo_Code.str.contains(r'[A-Z]')].index)"
   ]
  },
  {
   "cell_type": "code",
   "execution_count": 43,
   "metadata": {},
   "outputs": [],
   "source": [
    "train_df_he_trial['Geo_Code'] = pd.to_numeric(train_df_he_trial['Geo_Code'])"
   ]
  },
  {
   "cell_type": "code",
   "execution_count": 44,
   "metadata": {},
   "outputs": [],
   "source": [
    "train_df_he = train_df_he_trial"
   ]
  },
  {
   "cell_type": "code",
   "execution_count": 45,
   "metadata": {},
   "outputs": [],
   "source": [
    "#Feature and label Creation \n",
    "labels_he = np.array(train_df_he['Claim'])\n",
    "\n",
    "#Create the features by dropping the label\n",
    "features_he = train_df_he.drop('Claim', axis=1)\n",
    "\n",
    "#Save feature names for later use\n",
    "feature_list_he = list(features_he.columns)\n",
    "\n",
    "#Convert to numpy arrays\n",
    "features_he = np.array(features_le)"
   ]
  },
  {
   "cell_type": "code",
   "execution_count": 46,
   "metadata": {},
   "outputs": [
    {
     "name": "stdout",
     "output_type": "stream",
     "text": [
      "Fold:1, Train set: 5319,Validation set:1773\n",
      "Fold:2, Train set: 5319,Validation set:1773\n",
      "Fold:3, Train set: 5319,Validation set:1773\n",
      "Fold:4, Train set: 5319,Validation set:1773\n"
     ]
    }
   ],
   "source": [
    "#Use of k-fold for validation purposes\n",
    "\n",
    "kf_he = StratifiedKFold(n_splits=4, shuffle=True, random_state=42)\n",
    "\n",
    "count = 1\n",
    "\n",
    "#we use split method that will generate indices to split data into train and test sets\n",
    "\n",
    "for train_index, test_index in kf_he.split(features_he,labels_he):\n",
    "    print(f'Fold:{count}, Train set: {len(train_index)},Validation set:{len(test_index)}')\n",
    "    count+=1"
   ]
  },
  {
   "cell_type": "code",
   "execution_count": 47,
   "metadata": {},
   "outputs": [
    {
     "name": "stdout",
     "output_type": "stream",
     "text": [
      "Scores for each fold are: [0.77326565 0.77946983 0.76480541 0.77834179]\n",
      "Average score: 0.77\n"
     ]
    }
   ],
   "source": [
    "#Random Forest using One Hot Encoding\n",
    "score = cross_val_score(ensemble.RandomForestClassifier(random_state= 42), \n",
    "                        features_he, labels_he, cv= kf_he, scoring=\"accuracy\")\n",
    "print(f'Scores for each fold are: {score}')\n",
    "print(f'Average score: {\"{:.2f}\".format(score.mean())}')"
   ]
  },
  {
   "cell_type": "code",
   "execution_count": 48,
   "metadata": {},
   "outputs": [
    {
     "name": "stdout",
     "output_type": "stream",
     "text": [
      "Scores for each fold are: [0.78680203 0.78680203 0.79075014 0.77777778]\n",
      "Average score: 0.79\n"
     ]
    }
   ],
   "source": [
    "#Using Gradient Boosting Classifier\n",
    "score = cross_val_score(ensemble.GradientBoostingClassifier(random_state= 42), \n",
    "                        features_he, labels_he, cv= kf_he, scoring=\"accuracy\")\n",
    "print(f'Scores for each fold are: {score}')\n",
    "print(f'Average score: {\"{:.2f}\".format(score.mean())}')"
   ]
  },
  {
   "cell_type": "markdown",
   "metadata": {},
   "source": [
    "# Feature Importance Analysis\n",
    "\n",
    "With Label Encoding"
   ]
  },
  {
   "cell_type": "code",
   "execution_count": 49,
   "metadata": {},
   "outputs": [],
   "source": [
    "gbc_le = ensemble.GradientBoostingClassifier(random_state=42)\n",
    "gbc_he = ensemble.GradientBoostingClassifier(random_state=42)"
   ]
  },
  {
   "cell_type": "code",
   "execution_count": 50,
   "metadata": {},
   "outputs": [
    {
     "data": {
      "text/plain": [
       "GradientBoostingClassifier(ccp_alpha=0.0, criterion='friedman_mse', init=None,\n",
       "                           learning_rate=0.1, loss='deviance', max_depth=3,\n",
       "                           max_features=None, max_leaf_nodes=None,\n",
       "                           min_impurity_decrease=0.0, min_impurity_split=None,\n",
       "                           min_samples_leaf=1, min_samples_split=2,\n",
       "                           min_weight_fraction_leaf=0.0, n_estimators=100,\n",
       "                           n_iter_no_change=None, presort='deprecated',\n",
       "                           random_state=42, subsample=1.0, tol=0.0001,\n",
       "                           validation_fraction=0.1, verbose=0,\n",
       "                           warm_start=False)"
      ]
     },
     "execution_count": 50,
     "metadata": {},
     "output_type": "execute_result"
    }
   ],
   "source": [
    "gbc_le.fit(features_le, labels_le)"
   ]
  },
  {
   "cell_type": "code",
   "execution_count": 51,
   "metadata": {},
   "outputs": [
    {
     "name": "stdout",
     "output_type": "stream",
     "text": [
      "Variable: Building Dimension   Importance: 0.66\n",
      "Variable: Geo_Code             Importance: 0.09\n",
      "Variable: Insured_Period       Importance: 0.08\n",
      "Variable: Building_Type        Importance: 0.08\n",
      "Variable: Date_of_Occupancy    Importance: 0.08\n",
      "Variable: YearOfObservation    Importance: 0.01\n",
      "Variable: Residential          Importance: 0.0\n",
      "Variable: Building_Painted     Importance: 0.0\n",
      "Variable: Building_Fenced      Importance: 0.0\n",
      "Variable: Garden               Importance: 0.0\n",
      "Variable: Settlement           Importance: 0.0\n"
     ]
    }
   ],
   "source": [
    "#Get numerical feature importances\n",
    "importances = list(gbc_le.feature_importances_)\n",
    "\n",
    "#List of tupples with variable and importance\n",
    "\n",
    "feature_importances = [(feature, round(importance, 2)) for feature,\n",
    "                      importance in zip(feature_list_le, importances)]\n",
    "\n",
    "\n",
    "#Sort the feature importances by most important first\n",
    "feature_importances = sorted(feature_importances, key = lambda x: x[1], \n",
    "                            reverse = True)\n",
    "\n",
    "\n",
    "#Print out the feature and importances\n",
    "[print('Variable: {:20} Importance: {}'.format(*pair)) for pair in feature_importances];"
   ]
  },
  {
   "cell_type": "markdown",
   "metadata": {},
   "source": [
    "With One-hot encoding"
   ]
  },
  {
   "cell_type": "code",
   "execution_count": 52,
   "metadata": {},
   "outputs": [
    {
     "data": {
      "text/plain": [
       "GradientBoostingClassifier(ccp_alpha=0.0, criterion='friedman_mse', init=None,\n",
       "                           learning_rate=0.1, loss='deviance', max_depth=3,\n",
       "                           max_features=None, max_leaf_nodes=None,\n",
       "                           min_impurity_decrease=0.0, min_impurity_split=None,\n",
       "                           min_samples_leaf=1, min_samples_split=2,\n",
       "                           min_weight_fraction_leaf=0.0, n_estimators=100,\n",
       "                           n_iter_no_change=None, presort='deprecated',\n",
       "                           random_state=42, subsample=1.0, tol=0.0001,\n",
       "                           validation_fraction=0.1, verbose=0,\n",
       "                           warm_start=False)"
      ]
     },
     "execution_count": 52,
     "metadata": {},
     "output_type": "execute_result"
    }
   ],
   "source": [
    "gbc_he.fit(features_he, labels_he)"
   ]
  },
  {
   "cell_type": "code",
   "execution_count": 53,
   "metadata": {},
   "outputs": [
    {
     "name": "stdout",
     "output_type": "stream",
     "text": [
      "Variable: Building_Painted_N   Importance: 0.66\n",
      "Variable: Building_Fenced_V    Importance: 0.09\n",
      "Variable: Insured_Period       Importance: 0.08\n",
      "Variable: Building_Painted_V   Importance: 0.08\n",
      "Variable: Building_Fenced_N    Importance: 0.08\n",
      "Variable: YearOfObservation    Importance: 0.01\n",
      "Variable: Residential          Importance: 0.0\n",
      "Variable: Building Dimension   Importance: 0.0\n",
      "Variable: Building_Type        Importance: 0.0\n",
      "Variable: Date_of_Occupancy    Importance: 0.0\n",
      "Variable: Geo_Code             Importance: 0.0\n"
     ]
    }
   ],
   "source": [
    "#Get numerical feature importances\n",
    "importances = list(gbc_he.feature_importances_)\n",
    "\n",
    "#List of tupples with variable and importance\n",
    "\n",
    "feature_importances = [(feature, round(importance, 2)) for feature,\n",
    "                      importance in zip(feature_list_he, importances)]\n",
    "\n",
    "\n",
    "#Sort the feature importances by most important first\n",
    "feature_importances = sorted(feature_importances, key = lambda x: x[1], \n",
    "                            reverse = True)\n",
    "\n",
    "\n",
    "#Print out the feature and importances\n",
    "[print('Variable: {:20} Importance: {}'.format(*pair)) for pair in feature_importances];"
   ]
  },
  {
   "cell_type": "code",
   "execution_count": 54,
   "metadata": {},
   "outputs": [
    {
     "name": "stdout",
     "output_type": "stream",
     "text": [
      "Label Encoding Score:  0.8035815002820079\n",
      "One Hot Encoding Score:  0.8035815002820079\n"
     ]
    }
   ],
   "source": [
    "print('Label Encoding Score: ', gbc_le.score(features_le, labels_le))\n",
    "print('One Hot Encoding Score: ', gbc_he.score(features_he, labels_he))"
   ]
  },
  {
   "cell_type": "markdown",
   "metadata": {},
   "source": [
    "Implications  Insights\n",
    "\n",
    "> Both one hot and label encoding had the same performance across different classifiers.\n",
    "\n",
    "> With Label encoding choosing two continous variables to be contributing to the model, we opt to go with label encoding\n",
    "\n",
    "> This problem could probably be well fitted using a linear model (Worth Checking out)"
   ]
  },
  {
   "cell_type": "markdown",
   "metadata": {},
   "source": [
    "We use XG boost with the most Important Features derived from the Label Encoding Dataset"
   ]
  },
  {
   "cell_type": "code",
   "execution_count": 55,
   "metadata": {},
   "outputs": [],
   "source": [
    "data_to_model = train_df_le.loc[:,['YearOfObservation','Insured_Period','Building Dimension','Building_Type',\n",
    "                                   'Date_of_Occupancy','Geo_Code','Claim']]"
   ]
  },
  {
   "cell_type": "code",
   "execution_count": 56,
   "metadata": {},
   "outputs": [
    {
     "data": {
      "text/html": [
       "<div>\n",
       "<style scoped>\n",
       "    .dataframe tbody tr th:only-of-type {\n",
       "        vertical-align: middle;\n",
       "    }\n",
       "\n",
       "    .dataframe tbody tr th {\n",
       "        vertical-align: top;\n",
       "    }\n",
       "\n",
       "    .dataframe thead th {\n",
       "        text-align: right;\n",
       "    }\n",
       "</style>\n",
       "<table border=\"1\" class=\"dataframe\">\n",
       "  <thead>\n",
       "    <tr style=\"text-align: right;\">\n",
       "      <th></th>\n",
       "      <th>YearOfObservation</th>\n",
       "      <th>Insured_Period</th>\n",
       "      <th>Building Dimension</th>\n",
       "      <th>Building_Type</th>\n",
       "      <th>Date_of_Occupancy</th>\n",
       "      <th>Geo_Code</th>\n",
       "      <th>Claim</th>\n",
       "    </tr>\n",
       "  </thead>\n",
       "  <tbody>\n",
       "    <tr>\n",
       "      <th>0</th>\n",
       "      <td>2013</td>\n",
       "      <td>1.0</td>\n",
       "      <td>290.0</td>\n",
       "      <td>0</td>\n",
       "      <td>1960.0</td>\n",
       "      <td>1053</td>\n",
       "      <td>0</td>\n",
       "    </tr>\n",
       "    <tr>\n",
       "      <th>1</th>\n",
       "      <td>2015</td>\n",
       "      <td>1.0</td>\n",
       "      <td>490.0</td>\n",
       "      <td>0</td>\n",
       "      <td>1850.0</td>\n",
       "      <td>1053</td>\n",
       "      <td>0</td>\n",
       "    </tr>\n",
       "    <tr>\n",
       "      <th>2</th>\n",
       "      <td>2014</td>\n",
       "      <td>1.0</td>\n",
       "      <td>595.0</td>\n",
       "      <td>0</td>\n",
       "      <td>1960.0</td>\n",
       "      <td>1053</td>\n",
       "      <td>0</td>\n",
       "    </tr>\n",
       "    <tr>\n",
       "      <th>3</th>\n",
       "      <td>2013</td>\n",
       "      <td>1.0</td>\n",
       "      <td>2840.0</td>\n",
       "      <td>0</td>\n",
       "      <td>1960.0</td>\n",
       "      <td>1053</td>\n",
       "      <td>0</td>\n",
       "    </tr>\n",
       "    <tr>\n",
       "      <th>4</th>\n",
       "      <td>2014</td>\n",
       "      <td>1.0</td>\n",
       "      <td>680.0</td>\n",
       "      <td>0</td>\n",
       "      <td>1800.0</td>\n",
       "      <td>1053</td>\n",
       "      <td>0</td>\n",
       "    </tr>\n",
       "  </tbody>\n",
       "</table>\n",
       "</div>"
      ],
      "text/plain": [
       "   YearOfObservation  Insured_Period  Building Dimension  Building_Type  \\\n",
       "0               2013             1.0               290.0              0   \n",
       "1               2015             1.0               490.0              0   \n",
       "2               2014             1.0               595.0              0   \n",
       "3               2013             1.0              2840.0              0   \n",
       "4               2014             1.0               680.0              0   \n",
       "\n",
       "   Date_of_Occupancy  Geo_Code  Claim  \n",
       "0             1960.0      1053      0  \n",
       "1             1850.0      1053      0  \n",
       "2             1960.0      1053      0  \n",
       "3             1960.0      1053      0  \n",
       "4             1800.0      1053      0  "
      ]
     },
     "execution_count": 56,
     "metadata": {},
     "output_type": "execute_result"
    }
   ],
   "source": [
    "data_to_model.head(5)"
   ]
  },
  {
   "cell_type": "code",
   "execution_count": 57,
   "metadata": {},
   "outputs": [],
   "source": [
    "#Testing the model perfomance using cross validation\n",
    "labels_n = np.array(data_to_model['Claim'])\n",
    "#Create the features by dropping the label\n",
    "features_n = data_to_model.drop('Claim', axis=1)\n",
    "\n",
    "#Save feature names for later use\n",
    "feature_list_n = list(features_n.columns)\n",
    "\n",
    "features_n = np.array(features_n)"
   ]
  },
  {
   "cell_type": "code",
   "execution_count": 58,
   "metadata": {},
   "outputs": [
    {
     "name": "stdout",
     "output_type": "stream",
     "text": [
      "Fold:1, Train set: 5673,Test set:1419\n",
      "Fold:2, Train set: 5673,Test set:1419\n",
      "Fold:3, Train set: 5674,Test set:1418\n",
      "Fold:4, Train set: 5674,Test set:1418\n",
      "Fold:5, Train set: 5674,Test set:1418\n"
     ]
    }
   ],
   "source": [
    "kf = StratifiedKFold(n_splits=5, shuffle=True, random_state=42)\n",
    "\n",
    "count = 1\n",
    "\n",
    "for train_index, test_index in kf.split(features_n,labels_n):\n",
    "    print(f'Fold:{count}, Train set: {len(train_index)},Test set:{len(test_index)}')\n",
    "    count+=1"
   ]
  },
  {
   "cell_type": "code",
   "execution_count": 59,
   "metadata": {},
   "outputs": [
    {
     "name": "stdout",
     "output_type": "stream",
     "text": [
      "Scores for each fold are: [0.78928823 0.78999295 0.78208745 0.79337094 0.78138223]\n",
      "Average score: 0.79\n"
     ]
    }
   ],
   "source": [
    "#Random Forest After Removing Redundant variables\n",
    "score = cross_val_score(ensemble.GradientBoostingClassifier(random_state= 42), \n",
    "                        features_n, labels_n, cv= kf, scoring=\"accuracy\")\n",
    "print(f'Scores for each fold are: {score}')\n",
    "print(f'Average score: {\"{:.2f}\".format(score.mean())}')"
   ]
  },
  {
   "cell_type": "markdown",
   "metadata": {},
   "source": [
    "Choosing the Best Model using Grid Search Cross validation"
   ]
  },
  {
   "cell_type": "code",
   "execution_count": 60,
   "metadata": {},
   "outputs": [],
   "source": [
    "#Creating the train and test sets of the new data set using scikit-learn\n",
    "train_features_n, test_features_n, train_labels_n, test_labels_n = train_test_split(\n",
    "features_n,labels_n, test_size = 0.2, random_state = 42)"
   ]
  },
  {
   "cell_type": "code",
   "execution_count": 61,
   "metadata": {},
   "outputs": [],
   "source": [
    "#Getting the best model\n",
    "model = GradientBoostingClassifier(random_state=1)\n",
    "space = dict()\n",
    "space['n_estimators'] = [10, 100, 500]\n",
    "space['max_features'] = [2, 4, 6]\n",
    "search = GridSearchCV(model,space, scoring='accuracy',cv = kf, refit=True)\n",
    "result = search.fit(train_features_n, train_labels_n)"
   ]
  },
  {
   "cell_type": "code",
   "execution_count": 62,
   "metadata": {},
   "outputs": [],
   "source": [
    "best_model = result.best_estimator_"
   ]
  },
  {
   "cell_type": "code",
   "execution_count": 63,
   "metadata": {},
   "outputs": [],
   "source": [
    "#Evaluate the model on the hold out dataset\n",
    "yhat = best_model.predict(test_features_n)"
   ]
  },
  {
   "cell_type": "code",
   "execution_count": 64,
   "metadata": {},
   "outputs": [
    {
     "name": "stdout",
     "output_type": "stream",
     "text": [
      "Best Model Accuracy: 0.790\n"
     ]
    }
   ],
   "source": [
    "acc = accuracy_score(test_labels_n,yhat)\n",
    "print(f'Best Model Accuracy: {\"{:.3f}\".format(acc)}')"
   ]
  },
  {
   "cell_type": "markdown",
   "metadata": {},
   "source": [
    "# Predicting the Test Data using the best Model"
   ]
  },
  {
   "cell_type": "code",
   "execution_count": 65,
   "metadata": {},
   "outputs": [
    {
     "name": "stdout",
     "output_type": "stream",
     "text": [
      "<class 'pandas.core.frame.DataFrame'>\n",
      "RangeIndex: 3069 entries, 0 to 3068\n",
      "Data columns (total 13 columns):\n",
      " #   Column              Non-Null Count  Dtype  \n",
      "---  ------              --------------  -----  \n",
      " 0   Customer Id         3069 non-null   object \n",
      " 1   YearOfObservation   3069 non-null   int64  \n",
      " 2   Insured_Period      3069 non-null   float64\n",
      " 3   Residential         3069 non-null   int64  \n",
      " 4   Building_Painted    3069 non-null   object \n",
      " 5   Building_Fenced     3069 non-null   object \n",
      " 6   Garden              3065 non-null   object \n",
      " 7   Settlement          3069 non-null   object \n",
      " 8   Building Dimension  3056 non-null   float64\n",
      " 9   Building_Type       3069 non-null   int64  \n",
      " 10  Date_of_Occupancy   2341 non-null   float64\n",
      " 11  NumberOfWindows     3069 non-null   object \n",
      " 12  Geo_Code            3056 non-null   object \n",
      "dtypes: float64(3), int64(3), object(7)\n",
      "memory usage: 311.8+ KB\n"
     ]
    }
   ],
   "source": [
    "test_df.info()"
   ]
  },
  {
   "cell_type": "code",
   "execution_count": 66,
   "metadata": {},
   "outputs": [],
   "source": [
    "#data_to_predict = test_df.loc[:,['Building Dimension','Geo_Code','Insured_Period','Building_Type',\n",
    "                                   #'Date_of_Occupancy','YearOfObservation','Claim']]"
   ]
  },
  {
   "cell_type": "code",
   "execution_count": 67,
   "metadata": {},
   "outputs": [
    {
     "data": {
      "text/plain": [
       "Customer Id             0\n",
       "YearOfObservation       0\n",
       "Insured_Period          0\n",
       "Residential             0\n",
       "Building_Painted        0\n",
       "Building_Fenced         0\n",
       "Garden                  4\n",
       "Settlement              0\n",
       "Building Dimension     13\n",
       "Building_Type           0\n",
       "Date_of_Occupancy     728\n",
       "NumberOfWindows         0\n",
       "Geo_Code               13\n",
       "dtype: int64"
      ]
     },
     "execution_count": 67,
     "metadata": {},
     "output_type": "execute_result"
    }
   ],
   "source": [
    "test_df.isnull().sum()"
   ]
  },
  {
   "cell_type": "code",
   "execution_count": 68,
   "metadata": {},
   "outputs": [],
   "source": [
    "new_test_df = test_df[test_df['Date_of_Occupancy'].notna()]"
   ]
  },
  {
   "cell_type": "code",
   "execution_count": 69,
   "metadata": {},
   "outputs": [
    {
     "data": {
      "text/plain": [
       "Customer Id            0\n",
       "YearOfObservation      0\n",
       "Insured_Period         0\n",
       "Residential            0\n",
       "Building_Painted       0\n",
       "Building_Fenced        0\n",
       "Garden                 4\n",
       "Settlement             0\n",
       "Building Dimension    13\n",
       "Building_Type          0\n",
       "Date_of_Occupancy      0\n",
       "NumberOfWindows        0\n",
       "Geo_Code              13\n",
       "dtype: int64"
      ]
     },
     "execution_count": 69,
     "metadata": {},
     "output_type": "execute_result"
    }
   ],
   "source": [
    "new_test_df.isnull().sum()"
   ]
  },
  {
   "cell_type": "code",
   "execution_count": 70,
   "metadata": {},
   "outputs": [],
   "source": [
    "#We drop missing values for date of occupancy [Quite many]\n",
    "#Replace Building Dimension NAN with median\n",
    "new_test_df['Building Dimension'] = new_test_df['Building Dimension'].fillna(new_test_df['Building Dimension'].median())\n",
    "#Replace categorical variables with mode\n",
    "new_test_df['Garden'] = new_test_df['Garden'].fillna(new_test_df['Garden'].mode()[0])\n",
    "new_test_df['Geo_Code'] = new_test_df['Geo_Code'].fillna(new_test_df['Geo_Code'].mode()[0])"
   ]
  },
  {
   "cell_type": "code",
   "execution_count": 71,
   "metadata": {},
   "outputs": [],
   "source": [
    "#Label Encoding\n",
    "#Encoding of categorical variables We use Label Encoder\n",
    "new_test_df['Building_Painted'] = new_test_df['Building_Painted'].replace(['N','V'],[1,0])\n",
    "new_test_df['Building_Fenced'] = new_test_df['Building_Fenced'].replace(['N','V'],[1,0])\n",
    "new_test_df['Garden'] = new_test_df['Garden'].replace(['V','O'],[1,0])\n",
    "new_test_df['Settlement'] = new_test_df['Settlement'].replace(['R','U'],[0,1])\n",
    "new_test_df['Building_Type'] = new_test_df['Building_Type'].replace([1,2,3,4],[0,1,2,3])"
   ]
  },
  {
   "cell_type": "code",
   "execution_count": 72,
   "metadata": {},
   "outputs": [],
   "source": [
    "#Drop the Alphanumeric characters in Geo-code\n",
    "new_test_df = new_test_df.drop(new_test_df[new_test_df.Geo_Code.str.contains(r'[A-Z]')].index)"
   ]
  },
  {
   "cell_type": "code",
   "execution_count": 73,
   "metadata": {},
   "outputs": [],
   "source": [
    "#Convert Geo-code into numeric\n",
    "new_test_df['Geo_Code'] = pd.to_numeric(new_test_df['Geo_Code'])"
   ]
  },
  {
   "cell_type": "code",
   "execution_count": 74,
   "metadata": {},
   "outputs": [
    {
     "name": "stdout",
     "output_type": "stream",
     "text": [
      "<class 'pandas.core.frame.DataFrame'>\n",
      "Int64Index: 2275 entries, 0 to 3068\n",
      "Data columns (total 13 columns):\n",
      " #   Column              Non-Null Count  Dtype  \n",
      "---  ------              --------------  -----  \n",
      " 0   Customer Id         2275 non-null   object \n",
      " 1   YearOfObservation   2275 non-null   int64  \n",
      " 2   Insured_Period      2275 non-null   float64\n",
      " 3   Residential         2275 non-null   int64  \n",
      " 4   Building_Painted    2275 non-null   int64  \n",
      " 5   Building_Fenced     2275 non-null   int64  \n",
      " 6   Garden              2275 non-null   int64  \n",
      " 7   Settlement          2275 non-null   int64  \n",
      " 8   Building Dimension  2275 non-null   float64\n",
      " 9   Building_Type       2275 non-null   int64  \n",
      " 10  Date_of_Occupancy   2275 non-null   float64\n",
      " 11  NumberOfWindows     2275 non-null   object \n",
      " 12  Geo_Code            2275 non-null   int64  \n",
      "dtypes: float64(3), int64(8), object(2)\n",
      "memory usage: 248.8+ KB\n"
     ]
    }
   ],
   "source": [
    "new_test_df.info()"
   ]
  },
  {
   "cell_type": "code",
   "execution_count": 75,
   "metadata": {},
   "outputs": [
    {
     "data": {
      "text/plain": [
       "Customer Id           0\n",
       "YearOfObservation     0\n",
       "Insured_Period        0\n",
       "Residential           0\n",
       "Building_Painted      0\n",
       "Building_Fenced       0\n",
       "Garden                0\n",
       "Settlement            0\n",
       "Building Dimension    0\n",
       "Building_Type         0\n",
       "Date_of_Occupancy     0\n",
       "NumberOfWindows       0\n",
       "Geo_Code              0\n",
       "dtype: int64"
      ]
     },
     "execution_count": 75,
     "metadata": {},
     "output_type": "execute_result"
    }
   ],
   "source": [
    "new_test_df.isnull().sum()"
   ]
  },
  {
   "cell_type": "code",
   "execution_count": 76,
   "metadata": {},
   "outputs": [],
   "source": [
    "#data_to_predict = test_df.loc[:,['Building Dimension','Geo_Code','Insured_Period','Building_Type',\n",
    "                                   #'Date_of_Occupancy','YearOfObservation','Claim']]"
   ]
  },
  {
   "cell_type": "code",
   "execution_count": 77,
   "metadata": {},
   "outputs": [],
   "source": [
    "data_to_predict = new_test_df.drop(columns=['Customer Id','Residential','Building_Painted','Building_Fenced','Garden',\n",
    "                                           'Settlement','NumberOfWindows'])"
   ]
  },
  {
   "cell_type": "code",
   "execution_count": 78,
   "metadata": {},
   "outputs": [
    {
     "name": "stdout",
     "output_type": "stream",
     "text": [
      "<class 'pandas.core.frame.DataFrame'>\n",
      "Int64Index: 2275 entries, 0 to 3068\n",
      "Data columns (total 6 columns):\n",
      " #   Column              Non-Null Count  Dtype  \n",
      "---  ------              --------------  -----  \n",
      " 0   YearOfObservation   2275 non-null   int64  \n",
      " 1   Insured_Period      2275 non-null   float64\n",
      " 2   Building Dimension  2275 non-null   float64\n",
      " 3   Building_Type       2275 non-null   int64  \n",
      " 4   Date_of_Occupancy   2275 non-null   float64\n",
      " 5   Geo_Code            2275 non-null   int64  \n",
      "dtypes: float64(3), int64(3)\n",
      "memory usage: 124.4 KB\n"
     ]
    }
   ],
   "source": [
    "data_to_predict.info()"
   ]
  },
  {
   "cell_type": "code",
   "execution_count": 79,
   "metadata": {},
   "outputs": [],
   "source": [
    "#Convert the test data into an array\n",
    "test_array = np.array(data_to_predict)"
   ]
  },
  {
   "cell_type": "code",
   "execution_count": 80,
   "metadata": {},
   "outputs": [],
   "source": [
    "#Predicted Claim Status\n",
    "predicted_values = best_model.predict(test_array)"
   ]
  },
  {
   "cell_type": "code",
   "execution_count": 81,
   "metadata": {},
   "outputs": [
    {
     "data": {
      "text/plain": [
       "array([0, 0, 0, ..., 0, 0, 0])"
      ]
     },
     "execution_count": 81,
     "metadata": {},
     "output_type": "execute_result"
    }
   ],
   "source": [
    "predicted_values"
   ]
  },
  {
   "cell_type": "code",
   "execution_count": 82,
   "metadata": {},
   "outputs": [],
   "source": [
    "#Convert the predicted values to an dataframe\n",
    "predicted_df = pd.DataFrame(predicted_values, columns=['Claim'])"
   ]
  },
  {
   "cell_type": "code",
   "execution_count": 83,
   "metadata": {},
   "outputs": [
    {
     "data": {
      "text/plain": [
       "0    2102\n",
       "1     173\n",
       "Name: Claim, dtype: int64"
      ]
     },
     "execution_count": 83,
     "metadata": {},
     "output_type": "execute_result"
    }
   ],
   "source": [
    "#Get the count of the predicted values\n",
    "predicted_df['Claim'].value_counts()"
   ]
  },
  {
   "cell_type": "code",
   "execution_count": 84,
   "metadata": {},
   "outputs": [],
   "source": [
    "#Creat a dataframe for the customer id\n",
    "col = ['Customer Id']\n",
    "customer_id_df = new_test_df[col]"
   ]
  },
  {
   "cell_type": "code",
   "execution_count": 85,
   "metadata": {},
   "outputs": [],
   "source": [
    "predicted_df_final= pd.concat([customer_id_df,predicted_df], axis=1)"
   ]
  },
  {
   "cell_type": "code",
   "execution_count": 86,
   "metadata": {},
   "outputs": [
    {
     "data": {
      "text/html": [
       "<div>\n",
       "<style scoped>\n",
       "    .dataframe tbody tr th:only-of-type {\n",
       "        vertical-align: middle;\n",
       "    }\n",
       "\n",
       "    .dataframe tbody tr th {\n",
       "        vertical-align: top;\n",
       "    }\n",
       "\n",
       "    .dataframe thead th {\n",
       "        text-align: right;\n",
       "    }\n",
       "</style>\n",
       "<table border=\"1\" class=\"dataframe\">\n",
       "  <thead>\n",
       "    <tr style=\"text-align: right;\">\n",
       "      <th></th>\n",
       "      <th>Customer Id</th>\n",
       "      <th>Claim</th>\n",
       "    </tr>\n",
       "  </thead>\n",
       "  <tbody>\n",
       "    <tr>\n",
       "      <th>0</th>\n",
       "      <td>H11920</td>\n",
       "      <td>0.0</td>\n",
       "    </tr>\n",
       "    <tr>\n",
       "      <th>1</th>\n",
       "      <td>H11921</td>\n",
       "      <td>0.0</td>\n",
       "    </tr>\n",
       "    <tr>\n",
       "      <th>2</th>\n",
       "      <td>H9805</td>\n",
       "      <td>0.0</td>\n",
       "    </tr>\n",
       "    <tr>\n",
       "      <th>3</th>\n",
       "      <td>H7493</td>\n",
       "      <td>0.0</td>\n",
       "    </tr>\n",
       "    <tr>\n",
       "      <th>4</th>\n",
       "      <td>H7494</td>\n",
       "      <td>0.0</td>\n",
       "    </tr>\n",
       "  </tbody>\n",
       "</table>\n",
       "</div>"
      ],
      "text/plain": [
       "  Customer Id  Claim\n",
       "0      H11920    0.0\n",
       "1      H11921    0.0\n",
       "2       H9805    0.0\n",
       "3       H7493    0.0\n",
       "4       H7494    0.0"
      ]
     },
     "execution_count": 86,
     "metadata": {},
     "output_type": "execute_result"
    }
   ],
   "source": [
    "predicted_df_final.head(5)"
   ]
  },
  {
   "cell_type": "code",
   "execution_count": 87,
   "metadata": {},
   "outputs": [],
   "source": [
    "#Export the dataframe of predicted values to a csv file\n",
    "predicted_df_final.to_csv(r'/Users/pw/Desktop/StatisticalAnalysis/Insurance Claim Prediction Zindi/predicted.csv', index=None, header=True)"
   ]
  },
  {
   "cell_type": "code",
   "execution_count": null,
   "metadata": {},
   "outputs": [],
   "source": []
  }
 ],
 "metadata": {
  "kernelspec": {
   "display_name": "Python 3",
   "language": "python",
   "name": "python3"
  },
  "language_info": {
   "codemirror_mode": {
    "name": "ipython",
    "version": 3
   },
   "file_extension": ".py",
   "mimetype": "text/x-python",
   "name": "python",
   "nbconvert_exporter": "python",
   "pygments_lexer": "ipython3",
   "version": "3.7.4"
  }
 },
 "nbformat": 4,
 "nbformat_minor": 2
}
